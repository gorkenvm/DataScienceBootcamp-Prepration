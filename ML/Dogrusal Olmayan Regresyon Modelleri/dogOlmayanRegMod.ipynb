{
 "cells": [
  {
   "cell_type": "markdown",
   "metadata": {},
   "source": [
    "# Doğrusal Olmayan Regresyon Modelleri"
   ]
  },
  {
   "cell_type": "code",
   "execution_count": 1,
   "metadata": {},
   "outputs": [],
   "source": [
    "import numpy as np\n",
    "import pandas as pd \n",
    "from sklearn.model_selection import train_test_split, GridSearchCV\n",
    "from sklearn.metrics import mean_squared_error, r2_score\n",
    "import matplotlib.pyplot as plt\n",
    "from sklearn.preprocessing import scale \n",
    "from sklearn.preprocessing import StandardScaler\n",
    "from sklearn import model_selection\n",
    "from sklearn.linear_model import LinearRegression\n",
    "from sklearn.tree import DecisionTreeRegressor\n",
    "from sklearn.neighbors import KNeighborsRegressor\n",
    "from sklearn.neural_network import MLPRegressor\n",
    "from sklearn.ensemble import RandomForestRegressor\n",
    "from sklearn.ensemble import GradientBoostingRegressor\n",
    "from sklearn import neighbors\n",
    "from sklearn.svm import SVR"
   ]
  },
  {
   "cell_type": "code",
   "execution_count": 269,
   "metadata": {},
   "outputs": [],
   "source": [
    "from warnings import filterwarnings\n",
    "filterwarnings('ignore')"
   ]
  },
  {
   "cell_type": "markdown",
   "metadata": {},
   "source": [
    "# KNN"
   ]
  },
  {
   "cell_type": "code",
   "execution_count": 3,
   "metadata": {},
   "outputs": [],
   "source": [
    "df = pd.read_csv(\"Hitters.csv\")\n",
    "df = df.dropna()\n",
    "dms = pd.get_dummies(df[['League', 'Division', 'NewLeague']])\n",
    "y = df[\"Salary\"]\n",
    "X_ = df.drop(['Salary', 'League', 'Division', 'NewLeague'], axis=1).astype('float64')\n",
    "X = pd.concat([X_, dms[['League_N', 'Division_W', 'NewLeague_N']]], axis=1)\n",
    "X_train, X_test, y_train, y_test = train_test_split(X, y, test_size=0.25, random_state=42)"
   ]
  },
  {
   "cell_type": "code",
   "execution_count": 4,
   "metadata": {},
   "outputs": [
    {
     "data": {
      "text/html": [
       "<div>\n",
       "<style scoped>\n",
       "    .dataframe tbody tr th:only-of-type {\n",
       "        vertical-align: middle;\n",
       "    }\n",
       "\n",
       "    .dataframe tbody tr th {\n",
       "        vertical-align: top;\n",
       "    }\n",
       "\n",
       "    .dataframe thead th {\n",
       "        text-align: right;\n",
       "    }\n",
       "</style>\n",
       "<table border=\"1\" class=\"dataframe\">\n",
       "  <thead>\n",
       "    <tr style=\"text-align: right;\">\n",
       "      <th></th>\n",
       "      <th>AtBat</th>\n",
       "      <th>Hits</th>\n",
       "      <th>HmRun</th>\n",
       "      <th>Runs</th>\n",
       "      <th>RBI</th>\n",
       "      <th>Walks</th>\n",
       "      <th>Years</th>\n",
       "      <th>CAtBat</th>\n",
       "      <th>CHits</th>\n",
       "      <th>CHmRun</th>\n",
       "      <th>CRuns</th>\n",
       "      <th>CRBI</th>\n",
       "      <th>CWalks</th>\n",
       "      <th>PutOuts</th>\n",
       "      <th>Assists</th>\n",
       "      <th>Errors</th>\n",
       "      <th>League_N</th>\n",
       "      <th>Division_W</th>\n",
       "      <th>NewLeague_N</th>\n",
       "    </tr>\n",
       "  </thead>\n",
       "  <tbody>\n",
       "    <tr>\n",
       "      <th>183</th>\n",
       "      <td>328.0</td>\n",
       "      <td>91.0</td>\n",
       "      <td>12.0</td>\n",
       "      <td>51.0</td>\n",
       "      <td>43.0</td>\n",
       "      <td>33.0</td>\n",
       "      <td>2.0</td>\n",
       "      <td>342.0</td>\n",
       "      <td>94.0</td>\n",
       "      <td>12.0</td>\n",
       "      <td>51.0</td>\n",
       "      <td>44.0</td>\n",
       "      <td>33.0</td>\n",
       "      <td>145.0</td>\n",
       "      <td>59.0</td>\n",
       "      <td>8.0</td>\n",
       "      <td>1</td>\n",
       "      <td>0</td>\n",
       "      <td>1</td>\n",
       "    </tr>\n",
       "    <tr>\n",
       "      <th>229</th>\n",
       "      <td>514.0</td>\n",
       "      <td>144.0</td>\n",
       "      <td>0.0</td>\n",
       "      <td>67.0</td>\n",
       "      <td>54.0</td>\n",
       "      <td>79.0</td>\n",
       "      <td>9.0</td>\n",
       "      <td>4739.0</td>\n",
       "      <td>1169.0</td>\n",
       "      <td>13.0</td>\n",
       "      <td>583.0</td>\n",
       "      <td>374.0</td>\n",
       "      <td>528.0</td>\n",
       "      <td>229.0</td>\n",
       "      <td>453.0</td>\n",
       "      <td>15.0</td>\n",
       "      <td>1</td>\n",
       "      <td>0</td>\n",
       "      <td>1</td>\n",
       "    </tr>\n",
       "    <tr>\n",
       "      <th>286</th>\n",
       "      <td>593.0</td>\n",
       "      <td>152.0</td>\n",
       "      <td>23.0</td>\n",
       "      <td>69.0</td>\n",
       "      <td>75.0</td>\n",
       "      <td>53.0</td>\n",
       "      <td>6.0</td>\n",
       "      <td>2765.0</td>\n",
       "      <td>686.0</td>\n",
       "      <td>133.0</td>\n",
       "      <td>369.0</td>\n",
       "      <td>384.0</td>\n",
       "      <td>321.0</td>\n",
       "      <td>315.0</td>\n",
       "      <td>10.0</td>\n",
       "      <td>6.0</td>\n",
       "      <td>0</td>\n",
       "      <td>1</td>\n",
       "      <td>0</td>\n",
       "    </tr>\n",
       "    <tr>\n",
       "      <th>102</th>\n",
       "      <td>233.0</td>\n",
       "      <td>49.0</td>\n",
       "      <td>2.0</td>\n",
       "      <td>41.0</td>\n",
       "      <td>23.0</td>\n",
       "      <td>18.0</td>\n",
       "      <td>8.0</td>\n",
       "      <td>1350.0</td>\n",
       "      <td>336.0</td>\n",
       "      <td>7.0</td>\n",
       "      <td>166.0</td>\n",
       "      <td>122.0</td>\n",
       "      <td>106.0</td>\n",
       "      <td>102.0</td>\n",
       "      <td>132.0</td>\n",
       "      <td>10.0</td>\n",
       "      <td>0</td>\n",
       "      <td>0</td>\n",
       "      <td>0</td>\n",
       "    </tr>\n",
       "    <tr>\n",
       "      <th>153</th>\n",
       "      <td>341.0</td>\n",
       "      <td>95.0</td>\n",
       "      <td>6.0</td>\n",
       "      <td>48.0</td>\n",
       "      <td>42.0</td>\n",
       "      <td>20.0</td>\n",
       "      <td>10.0</td>\n",
       "      <td>2964.0</td>\n",
       "      <td>808.0</td>\n",
       "      <td>81.0</td>\n",
       "      <td>379.0</td>\n",
       "      <td>428.0</td>\n",
       "      <td>221.0</td>\n",
       "      <td>158.0</td>\n",
       "      <td>4.0</td>\n",
       "      <td>5.0</td>\n",
       "      <td>1</td>\n",
       "      <td>1</td>\n",
       "      <td>1</td>\n",
       "    </tr>\n",
       "  </tbody>\n",
       "</table>\n",
       "</div>"
      ],
      "text/plain": [
       "     AtBat   Hits  HmRun  Runs   RBI  Walks  Years  CAtBat   CHits  CHmRun  \\\n",
       "183  328.0   91.0   12.0  51.0  43.0   33.0    2.0   342.0    94.0    12.0   \n",
       "229  514.0  144.0    0.0  67.0  54.0   79.0    9.0  4739.0  1169.0    13.0   \n",
       "286  593.0  152.0   23.0  69.0  75.0   53.0    6.0  2765.0   686.0   133.0   \n",
       "102  233.0   49.0    2.0  41.0  23.0   18.0    8.0  1350.0   336.0     7.0   \n",
       "153  341.0   95.0    6.0  48.0  42.0   20.0   10.0  2964.0   808.0    81.0   \n",
       "\n",
       "     CRuns   CRBI  CWalks  PutOuts  Assists  Errors  League_N  Division_W  \\\n",
       "183   51.0   44.0    33.0    145.0     59.0     8.0         1           0   \n",
       "229  583.0  374.0   528.0    229.0    453.0    15.0         1           0   \n",
       "286  369.0  384.0   321.0    315.0     10.0     6.0         0           1   \n",
       "102  166.0  122.0   106.0    102.0    132.0    10.0         0           0   \n",
       "153  379.0  428.0   221.0    158.0      4.0     5.0         1           1   \n",
       "\n",
       "     NewLeague_N  \n",
       "183            1  \n",
       "229            1  \n",
       "286            0  \n",
       "102            0  \n",
       "153            1  "
      ]
     },
     "execution_count": 4,
     "metadata": {},
     "output_type": "execute_result"
    }
   ],
   "source": [
    "X_train.head()"
   ]
  },
  {
   "cell_type": "markdown",
   "metadata": {},
   "source": [
    "## Model & Tahmin"
   ]
  },
  {
   "cell_type": "code",
   "execution_count": 5,
   "metadata": {},
   "outputs": [],
   "source": [
    "knn_model = KNeighborsRegressor().fit(X_train, y_train)"
   ]
  },
  {
   "cell_type": "code",
   "execution_count": 6,
   "metadata": {},
   "outputs": [
    {
     "data": {
      "text/plain": [
       "KNeighborsRegressor(algorithm='auto', leaf_size=30, metric='minkowski',\n",
       "                    metric_params=None, n_jobs=None, n_neighbors=5, p=2,\n",
       "                    weights='uniform')"
      ]
     },
     "execution_count": 6,
     "metadata": {},
     "output_type": "execute_result"
    }
   ],
   "source": [
    "knn_model"
   ]
  },
  {
   "cell_type": "code",
   "execution_count": 7,
   "metadata": {},
   "outputs": [
    {
     "data": {
      "text/plain": [
       "5"
      ]
     },
     "execution_count": 7,
     "metadata": {},
     "output_type": "execute_result"
    }
   ],
   "source": [
    "knn_model.n_neighbors"
   ]
  },
  {
   "cell_type": "code",
   "execution_count": 8,
   "metadata": {},
   "outputs": [
    {
     "data": {
      "text/plain": [
       "'minkowski'"
      ]
     },
     "execution_count": 8,
     "metadata": {},
     "output_type": "execute_result"
    }
   ],
   "source": [
    "knn_model.metric"
   ]
  },
  {
   "cell_type": "code",
   "execution_count": 9,
   "metadata": {
    "collapsed": true,
    "jupyter": {
     "outputs_hidden": true
    }
   },
   "outputs": [
    {
     "data": {
      "text/plain": [
       "['__abstractmethods__',\n",
       " '__class__',\n",
       " '__delattr__',\n",
       " '__dict__',\n",
       " '__dir__',\n",
       " '__doc__',\n",
       " '__eq__',\n",
       " '__format__',\n",
       " '__ge__',\n",
       " '__getattribute__',\n",
       " '__getstate__',\n",
       " '__gt__',\n",
       " '__hash__',\n",
       " '__init__',\n",
       " '__init_subclass__',\n",
       " '__le__',\n",
       " '__lt__',\n",
       " '__module__',\n",
       " '__ne__',\n",
       " '__new__',\n",
       " '__reduce__',\n",
       " '__reduce_ex__',\n",
       " '__repr__',\n",
       " '__setattr__',\n",
       " '__setstate__',\n",
       " '__sizeof__',\n",
       " '__str__',\n",
       " '__subclasshook__',\n",
       " '__weakref__',\n",
       " '_abc_impl',\n",
       " '_check_algorithm_metric',\n",
       " '_estimator_type',\n",
       " '_fit',\n",
       " '_fit_X',\n",
       " '_fit_method',\n",
       " '_get_param_names',\n",
       " '_get_tags',\n",
       " '_kneighbors_reduce_func',\n",
       " '_more_tags',\n",
       " '_pairwise',\n",
       " '_tree',\n",
       " '_y',\n",
       " 'algorithm',\n",
       " 'effective_metric_',\n",
       " 'effective_metric_params_',\n",
       " 'fit',\n",
       " 'get_params',\n",
       " 'kneighbors',\n",
       " 'kneighbors_graph',\n",
       " 'leaf_size',\n",
       " 'metric',\n",
       " 'metric_params',\n",
       " 'n_jobs',\n",
       " 'n_neighbors',\n",
       " 'p',\n",
       " 'predict',\n",
       " 'radius',\n",
       " 'score',\n",
       " 'set_params',\n",
       " 'weights']"
      ]
     },
     "execution_count": 9,
     "metadata": {},
     "output_type": "execute_result"
    }
   ],
   "source": [
    "dir(knn_model)"
   ]
  },
  {
   "cell_type": "code",
   "execution_count": 10,
   "metadata": {},
   "outputs": [
    {
     "data": {
      "text/plain": [
       "array([ 510.3334,  808.3334,  772.5   ,  125.5   , 1005.    ])"
      ]
     },
     "execution_count": 10,
     "metadata": {},
     "output_type": "execute_result"
    }
   ],
   "source": [
    "knn_model.predict(X_test)[0:5]"
   ]
  },
  {
   "cell_type": "code",
   "execution_count": 12,
   "metadata": {},
   "outputs": [],
   "source": [
    "y_pred = knn_model.predict(X_test)"
   ]
  },
  {
   "cell_type": "code",
   "execution_count": 13,
   "metadata": {},
   "outputs": [
    {
     "data": {
      "text/plain": [
       "426.6570764525201"
      ]
     },
     "execution_count": 13,
     "metadata": {},
     "output_type": "execute_result"
    }
   ],
   "source": [
    "np.sqrt(mean_squared_error(y_test, y_pred))"
   ]
  },
  {
   "cell_type": "markdown",
   "metadata": {},
   "source": [
    "## Model Tuning"
   ]
  },
  {
   "cell_type": "code",
   "execution_count": 14,
   "metadata": {},
   "outputs": [
    {
     "data": {
      "text/plain": [
       "KNeighborsRegressor(algorithm='auto', leaf_size=30, metric='minkowski',\n",
       "                    metric_params=None, n_jobs=None, n_neighbors=5, p=2,\n",
       "                    weights='uniform')"
      ]
     },
     "execution_count": 14,
     "metadata": {},
     "output_type": "execute_result"
    }
   ],
   "source": [
    "knn_model"
   ]
  },
  {
   "cell_type": "code",
   "execution_count": 16,
   "metadata": {},
   "outputs": [
    {
     "name": "stdout",
     "output_type": "stream",
     "text": [
      "range(0, 10)\n"
     ]
    }
   ],
   "source": [
    "range(10)"
   ]
  },
  {
   "cell_type": "code",
   "execution_count": 19,
   "metadata": {},
   "outputs": [
    {
     "name": "stdout",
     "output_type": "stream",
     "text": [
      "k= 1 için RMSE değeri: 455.03925390751965\n",
      "k= 2 için RMSE değeri: 415.99629571490965\n",
      "k= 3 için RMSE değeri: 420.6765370082348\n",
      "k= 4 için RMSE değeri: 428.8564674588792\n",
      "k= 5 için RMSE değeri: 426.6570764525201\n",
      "k= 6 için RMSE değeri: 423.5071669008732\n",
      "k= 7 için RMSE değeri: 414.9361222421057\n",
      "k= 8 için RMSE değeri: 413.7094731463598\n",
      "k= 9 için RMSE değeri: 417.84419990871265\n",
      "k= 10 için RMSE değeri: 421.6252180741266\n"
     ]
    }
   ],
   "source": [
    "RMSE = []\n",
    "\n",
    "for k in range(10):\n",
    "    k = k+1\n",
    "    knn_model = KNeighborsRegressor(n_neighbors = k).fit(X_train, y_train)\n",
    "    y_pred = knn_model.predict(X_test)\n",
    "    rmse = np.sqrt(mean_squared_error(y_test, y_pred))\n",
    "    RMSE.append(rmse)\n",
    "    print(\"k=\", k, \"için RMSE değeri:\", rmse)\n"
   ]
  },
  {
   "cell_type": "code",
   "execution_count": null,
   "metadata": {},
   "outputs": [],
   "source": [
    "#GridSearchCV"
   ]
  },
  {
   "cell_type": "code",
   "execution_count": 20,
   "metadata": {},
   "outputs": [],
   "source": [
    "knn_params = {\"n_neighbors\": np.arange(1,30,1)}"
   ]
  },
  {
   "cell_type": "code",
   "execution_count": 21,
   "metadata": {},
   "outputs": [],
   "source": [
    "knn = KNeighborsRegressor()"
   ]
  },
  {
   "cell_type": "code",
   "execution_count": 23,
   "metadata": {},
   "outputs": [],
   "source": [
    "knn_cv_model = GridSearchCV(knn, knn_params, cv = 10).fit(X_train, y_train)"
   ]
  },
  {
   "cell_type": "code",
   "execution_count": 24,
   "metadata": {},
   "outputs": [
    {
     "data": {
      "text/plain": [
       "{'n_neighbors': 8}"
      ]
     },
     "execution_count": 24,
     "metadata": {},
     "output_type": "execute_result"
    }
   ],
   "source": [
    "knn_cv_model.best_params_"
   ]
  },
  {
   "cell_type": "code",
   "execution_count": 25,
   "metadata": {},
   "outputs": [],
   "source": [
    "#final model\n",
    "knn_tuned = KNeighborsRegressor(n_neighbors = knn_cv_model.best_params_[\"n_neighbors\"]).fit(X_train, y_train)"
   ]
  },
  {
   "cell_type": "code",
   "execution_count": 26,
   "metadata": {},
   "outputs": [],
   "source": [
    "y_pred = knn_tuned.predict(X_test)"
   ]
  },
  {
   "cell_type": "code",
   "execution_count": 27,
   "metadata": {},
   "outputs": [
    {
     "data": {
      "text/plain": [
       "413.7094731463598"
      ]
     },
     "execution_count": 27,
     "metadata": {},
     "output_type": "execute_result"
    }
   ],
   "source": [
    "np.sqrt(mean_squared_error(y_test, y_pred))"
   ]
  },
  {
   "cell_type": "markdown",
   "metadata": {},
   "source": [
    "# Destek Vektör Regresyonu (Support Vector Regression)"
   ]
  },
  {
   "cell_type": "code",
   "execution_count": 31,
   "metadata": {},
   "outputs": [],
   "source": [
    "df = pd.read_csv(\"Hitters.csv\")\n",
    "df = df.dropna()\n",
    "dms = pd.get_dummies(df[['League', 'Division', 'NewLeague']])\n",
    "y = df[\"Salary\"]\n",
    "X_ = df.drop(['Salary', 'League', 'Division', 'NewLeague'], axis=1).astype('float64')\n",
    "X = pd.concat([X_, dms[['League_N', 'Division_W', 'NewLeague_N']]], axis=1)\n",
    "X_train, X_test, y_train, y_test = train_test_split(X, y, test_size=0.25, random_state=42)"
   ]
  },
  {
   "cell_type": "markdown",
   "metadata": {},
   "source": [
    "## Model & Tahmin"
   ]
  },
  {
   "cell_type": "code",
   "execution_count": 44,
   "metadata": {},
   "outputs": [],
   "source": [
    "svr_model = SVR(\"linear\").fit(X_train, y_train)"
   ]
  },
  {
   "cell_type": "code",
   "execution_count": 45,
   "metadata": {},
   "outputs": [
    {
     "data": {
      "text/plain": [
       "SVR(C=1.0, cache_size=200, coef0=0.0, degree=3, epsilon=0.1,\n",
       "    gamma='auto_deprecated', kernel='linear', max_iter=-1, shrinking=True,\n",
       "    tol=0.001, verbose=False)"
      ]
     },
     "execution_count": 45,
     "metadata": {},
     "output_type": "execute_result"
    }
   ],
   "source": [
    "svr_model"
   ]
  },
  {
   "cell_type": "code",
   "execution_count": 46,
   "metadata": {},
   "outputs": [
    {
     "data": {
      "text/plain": [
       "array([219.32622169, 702.4303869 , 623.2055964 , 153.77538476,\n",
       "       463.15190834])"
      ]
     },
     "execution_count": 46,
     "metadata": {},
     "output_type": "execute_result"
    }
   ],
   "source": [
    "svr_model.predict(X_train)[0:5]"
   ]
  },
  {
   "cell_type": "code",
   "execution_count": 47,
   "metadata": {},
   "outputs": [
    {
     "data": {
      "text/plain": [
       "array([679.14754685, 633.72883069, 925.68640849, 270.28463621,\n",
       "       530.26659184])"
      ]
     },
     "execution_count": 47,
     "metadata": {},
     "output_type": "execute_result"
    }
   ],
   "source": [
    "svr_model.predict(X_test)[0:5]"
   ]
  },
  {
   "cell_type": "code",
   "execution_count": 48,
   "metadata": {},
   "outputs": [
    {
     "data": {
      "text/plain": [
       "array([-80.15196151])"
      ]
     },
     "execution_count": 48,
     "metadata": {},
     "output_type": "execute_result"
    }
   ],
   "source": [
    "svr_model.intercept_"
   ]
  },
  {
   "cell_type": "code",
   "execution_count": 49,
   "metadata": {},
   "outputs": [
    {
     "data": {
      "text/plain": [
       "array([[ -1.21839037,   6.09602969,  -3.67574533,   0.14217075,\n",
       "          0.51435919,   1.28388986,  12.55922537,  -0.08693755,\n",
       "          0.46597184,   2.98259944,   0.52944523,  -0.79820799,\n",
       "         -0.16015534,   0.30872794,   0.28842348,  -1.79560067,\n",
       "          6.41868985, -10.74313783,   1.33374317]])"
      ]
     },
     "execution_count": 49,
     "metadata": {},
     "output_type": "execute_result"
    }
   ],
   "source": [
    "svr_model.coef_"
   ]
  },
  {
   "cell_type": "code",
   "execution_count": 50,
   "metadata": {},
   "outputs": [
    {
     "data": {
      "text/plain": [
       "370.04084185624924"
      ]
     },
     "execution_count": 50,
     "metadata": {},
     "output_type": "execute_result"
    }
   ],
   "source": [
    "#test\n",
    "y_pred = svr_model.predict(X_test)\n",
    "np.sqrt(mean_squared_error(y_test,y_pred))"
   ]
  },
  {
   "cell_type": "markdown",
   "metadata": {},
   "source": [
    "## Model Tuning"
   ]
  },
  {
   "cell_type": "code",
   "execution_count": 84,
   "metadata": {},
   "outputs": [],
   "source": [
    "svr_model = SVR(\"linear\") "
   ]
  },
  {
   "cell_type": "code",
   "execution_count": 85,
   "metadata": {},
   "outputs": [
    {
     "data": {
      "text/plain": [
       "SVR(C=1.0, cache_size=200, coef0=0.0, degree=3, epsilon=0.1,\n",
       "    gamma='auto_deprecated', kernel='linear', max_iter=-1, shrinking=True,\n",
       "    tol=0.001, verbose=False)"
      ]
     },
     "execution_count": 85,
     "metadata": {},
     "output_type": "execute_result"
    }
   ],
   "source": [
    "svr_model"
   ]
  },
  {
   "cell_type": "code",
   "execution_count": 86,
   "metadata": {},
   "outputs": [],
   "source": [
    "svr_params = {\"C\": [0.1,0.5,1,3]}"
   ]
  },
  {
   "cell_type": "code",
   "execution_count": 87,
   "metadata": {},
   "outputs": [],
   "source": [
    "svr_cv_model = GridSearchCV(svr_model, svr_params, cv = 5).fit(X_train, y_train)"
   ]
  },
  {
   "cell_type": "code",
   "execution_count": 88,
   "metadata": {},
   "outputs": [
    {
     "data": {
      "text/plain": [
       "{'C': 0.5}"
      ]
     },
     "execution_count": 88,
     "metadata": {},
     "output_type": "execute_result"
    }
   ],
   "source": [
    "svr_cv_model.best_params_"
   ]
  },
  {
   "cell_type": "code",
   "execution_count": 90,
   "metadata": {},
   "outputs": [
    {
     "name": "stdout",
     "output_type": "stream",
     "text": [
      "Fitting 5 folds for each of 4 candidates, totalling 20 fits\n"
     ]
    },
    {
     "name": "stderr",
     "output_type": "stream",
     "text": [
      "[Parallel(n_jobs=-1)]: Using backend LokyBackend with 12 concurrent workers.\n",
      "[Parallel(n_jobs=-1)]: Done   8 out of  20 | elapsed:    6.1s remaining:    9.1s\n",
      "[Parallel(n_jobs=-1)]: Done  20 out of  20 | elapsed:   28.6s finished\n"
     ]
    }
   ],
   "source": [
    "svr_cv_model = GridSearchCV(svr_model, svr_params, cv = 5, verbose = 2, n_jobs = -1).fit(X_train, y_train)"
   ]
  },
  {
   "cell_type": "code",
   "execution_count": 91,
   "metadata": {},
   "outputs": [
    {
     "data": {
      "text/plain": [
       "{'C': 0.5}"
      ]
     },
     "execution_count": 91,
     "metadata": {},
     "output_type": "execute_result"
    }
   ],
   "source": [
    "svr_cv_model.best_params_"
   ]
  },
  {
   "cell_type": "code",
   "execution_count": 92,
   "metadata": {},
   "outputs": [],
   "source": [
    "svr_tuned = SVR(\"linear\", C = 0.5).fit(X_train, y_train)"
   ]
  },
  {
   "cell_type": "code",
   "execution_count": 93,
   "metadata": {},
   "outputs": [],
   "source": [
    "y_pred = svr_tuned.predict(X_test)"
   ]
  },
  {
   "cell_type": "code",
   "execution_count": 94,
   "metadata": {},
   "outputs": [
    {
     "data": {
      "text/plain": [
       "367.9874739022889"
      ]
     },
     "execution_count": 94,
     "metadata": {},
     "output_type": "execute_result"
    }
   ],
   "source": [
    "np.sqrt(mean_squared_error(y_test, y_pred))"
   ]
  },
  {
   "cell_type": "markdown",
   "metadata": {},
   "source": [
    "# Yapay Sinir Ağları"
   ]
  },
  {
   "cell_type": "code",
   "execution_count": 124,
   "metadata": {},
   "outputs": [],
   "source": [
    "df = pd.read_csv(\"Hitters.csv\")\n",
    "df = df.dropna()\n",
    "dms = pd.get_dummies(df[['League', 'Division', 'NewLeague']])\n",
    "y = df[\"Salary\"]\n",
    "X_ = df.drop(['Salary', 'League', 'Division', 'NewLeague'], axis=1).astype('float64')\n",
    "X = pd.concat([X_, dms[['League_N', 'Division_W', 'NewLeague_N']]], axis=1)\n",
    "X_train, X_test, y_train, y_test = train_test_split(X, y, test_size=0.25, random_state=42)"
   ]
  },
  {
   "cell_type": "markdown",
   "metadata": {},
   "source": [
    "## Model & Tahmin"
   ]
  },
  {
   "cell_type": "code",
   "execution_count": 190,
   "metadata": {},
   "outputs": [],
   "source": [
    "scaler = StandardScaler()"
   ]
  },
  {
   "cell_type": "code",
   "execution_count": 191,
   "metadata": {},
   "outputs": [],
   "source": [
    "scaler.fit(X_train)\n",
    "X_train_scaled = scaler.transform(X_train)"
   ]
  },
  {
   "cell_type": "code",
   "execution_count": 192,
   "metadata": {},
   "outputs": [],
   "source": [
    "scaler.fit(X_test)\n",
    "X_test_scaled = scaler.transform(X_test)"
   ]
  },
  {
   "cell_type": "code",
   "execution_count": 193,
   "metadata": {},
   "outputs": [],
   "source": [
    "mlp_model = MLPRegressor().fit(X_train_scaled, y_train)"
   ]
  },
  {
   "cell_type": "code",
   "execution_count": 194,
   "metadata": {},
   "outputs": [
    {
     "data": {
      "text/plain": [
       "MLPRegressor(activation='relu', alpha=0.0001, batch_size='auto', beta_1=0.9,\n",
       "             beta_2=0.999, early_stopping=False, epsilon=1e-08,\n",
       "             hidden_layer_sizes=(100,), learning_rate='constant',\n",
       "             learning_rate_init=0.001, max_iter=200, momentum=0.9,\n",
       "             n_iter_no_change=10, nesterovs_momentum=True, power_t=0.5,\n",
       "             random_state=None, shuffle=True, solver='adam', tol=0.0001,\n",
       "             validation_fraction=0.1, verbose=False, warm_start=False)"
      ]
     },
     "execution_count": 194,
     "metadata": {},
     "output_type": "execute_result"
    }
   ],
   "source": [
    "mlp_model"
   ]
  },
  {
   "cell_type": "code",
   "execution_count": 195,
   "metadata": {},
   "outputs": [
    {
     "data": {
      "text/plain": [
       "array([22.78862052, 41.17766769, 78.59464747, 10.98863072, 24.03048393])"
      ]
     },
     "execution_count": 195,
     "metadata": {},
     "output_type": "execute_result"
    }
   ],
   "source": [
    "mlp_model.predict(X_test_scaled)[0:5]"
   ]
  },
  {
   "cell_type": "code",
   "execution_count": 196,
   "metadata": {},
   "outputs": [
    {
     "data": {
      "text/plain": [
       "656.4676085583709"
      ]
     },
     "execution_count": 196,
     "metadata": {},
     "output_type": "execute_result"
    }
   ],
   "source": [
    "y_pred = mlp_model.predict(X_test_scaled)\n",
    "np.sqrt(mean_squared_error(y_test, y_pred))"
   ]
  },
  {
   "cell_type": "markdown",
   "metadata": {},
   "source": [
    "## Model Tuning"
   ]
  },
  {
   "cell_type": "code",
   "execution_count": 199,
   "metadata": {},
   "outputs": [
    {
     "data": {
      "text/plain": [
       "MLPRegressor(activation='relu', alpha=0.0001, batch_size='auto', beta_1=0.9,\n",
       "             beta_2=0.999, early_stopping=False, epsilon=1e-08,\n",
       "             hidden_layer_sizes=(100,), learning_rate='constant',\n",
       "             learning_rate_init=0.001, max_iter=200, momentum=0.9,\n",
       "             n_iter_no_change=10, nesterovs_momentum=True, power_t=0.5,\n",
       "             random_state=None, shuffle=True, solver='adam', tol=0.0001,\n",
       "             validation_fraction=0.1, verbose=False, warm_start=False)"
      ]
     },
     "execution_count": 199,
     "metadata": {},
     "output_type": "execute_result"
    }
   ],
   "source": [
    "mlp_model"
   ]
  },
  {
   "cell_type": "code",
   "execution_count": 198,
   "metadata": {},
   "outputs": [],
   "source": [
    "mlp_params = {\"alpha\": [0.1, 0.01, 0.02, 0.001, 0.0001], \n",
    "             \"hidden_layer_sizes\": [(10,20), (5,5), (100,100)]}"
   ]
  },
  {
   "cell_type": "code",
   "execution_count": 206,
   "metadata": {},
   "outputs": [
    {
     "name": "stdout",
     "output_type": "stream",
     "text": [
      "Fitting 10 folds for each of 15 candidates, totalling 150 fits\n"
     ]
    },
    {
     "name": "stderr",
     "output_type": "stream",
     "text": [
      "[Parallel(n_jobs=-1)]: Using backend LokyBackend with 12 concurrent workers.\n",
      "[Parallel(n_jobs=-1)]: Done  17 tasks      | elapsed:    0.4s\n",
      "[Parallel(n_jobs=-1)]: Done 150 out of 150 | elapsed:    4.3s finished\n"
     ]
    }
   ],
   "source": [
    "mlp_cv_model = GridSearchCV(mlp_model, mlp_params, cv = 10, verbose = 2, n_jobs = -1).fit(X_train_scaled, y_train)"
   ]
  },
  {
   "cell_type": "code",
   "execution_count": 207,
   "metadata": {},
   "outputs": [
    {
     "data": {
      "text/plain": [
       "{'alpha': 0.1, 'hidden_layer_sizes': (100, 100)}"
      ]
     },
     "execution_count": 207,
     "metadata": {},
     "output_type": "execute_result"
    }
   ],
   "source": [
    "mlp_cv_model.best_params_"
   ]
  },
  {
   "cell_type": "code",
   "execution_count": 208,
   "metadata": {},
   "outputs": [],
   "source": [
    "#final\n",
    "mlp_tuned = MLPRegressor(alpha = 0.1, hidden_layer_sizes = (100,100)).fit(X_train_scaled, y_train)"
   ]
  },
  {
   "cell_type": "code",
   "execution_count": 209,
   "metadata": {},
   "outputs": [],
   "source": [
    "y_pred = mlp_tuned.predict(X_test_scaled)"
   ]
  },
  {
   "cell_type": "code",
   "execution_count": 210,
   "metadata": {},
   "outputs": [
    {
     "data": {
      "text/plain": [
       "357.57251290657257"
      ]
     },
     "execution_count": 210,
     "metadata": {},
     "output_type": "execute_result"
    }
   ],
   "source": [
    "np.sqrt(mean_squared_error(y_test, y_pred))"
   ]
  },
  {
   "cell_type": "markdown",
   "metadata": {},
   "source": [
    "# CART (Classification and Regression Tree)"
   ]
  },
  {
   "cell_type": "code",
   "execution_count": 3,
   "metadata": {},
   "outputs": [],
   "source": [
    "df = pd.read_csv(\"Hitters.csv\")\n",
    "df = df.dropna()\n",
    "dms = pd.get_dummies(df[['League', 'Division', 'NewLeague']])\n",
    "y = df[\"Salary\"]\n",
    "X_ = df.drop(['Salary', 'League', 'Division', 'NewLeague'], axis=1).astype('float64')\n",
    "X = pd.concat([X_, dms[['League_N', 'Division_W', 'NewLeague_N']]], axis=1)\n",
    "X_train, X_test, y_train, y_test = train_test_split(X, \n",
    "                                                    y, \n",
    "                                                    test_size=0.25, \n",
    "                                                    random_state=42)"
   ]
  },
  {
   "cell_type": "code",
   "execution_count": 4,
   "metadata": {},
   "outputs": [],
   "source": [
    "X_train = pd.DataFrame(X_train[\"Hits\"])\n",
    "X_test = pd.DataFrame(X_test[\"Hits\"])"
   ]
  },
  {
   "cell_type": "markdown",
   "metadata": {},
   "source": [
    "## Model & Tahmin"
   ]
  },
  {
   "cell_type": "code",
   "execution_count": 12,
   "metadata": {},
   "outputs": [],
   "source": [
    "cart_model = DecisionTreeRegressor(max_leaf_nodes = 10)"
   ]
  },
  {
   "cell_type": "code",
   "execution_count": 13,
   "metadata": {},
   "outputs": [
    {
     "data": {
      "text/plain": [
       "DecisionTreeRegressor(criterion='mse', max_depth=None, max_features=None,\n",
       "                      max_leaf_nodes=10, min_impurity_decrease=0.0,\n",
       "                      min_impurity_split=None, min_samples_leaf=1,\n",
       "                      min_samples_split=2, min_weight_fraction_leaf=0.0,\n",
       "                      presort=False, random_state=None, splitter='best')"
      ]
     },
     "execution_count": 13,
     "metadata": {},
     "output_type": "execute_result"
    }
   ],
   "source": [
    "cart_model.fit(X_train, y_train)"
   ]
  },
  {
   "cell_type": "code",
   "execution_count": 14,
   "metadata": {},
   "outputs": [
    {
     "data": {
      "image/png": "[encoded data removed]",
      "text/plain": [
       "<Figure size 432x288 with 1 Axes>"
      ]
     },
     "metadata": {
      "needs_background": "light"
     },
     "output_type": "display_data"
    }
   ],
   "source": [
    "X_grid = np.arange(min(np.array(X_train)),max(np.array(X_train)), 0.01) \n",
    "X_grid = X_grid.reshape((len(X_grid), 1))  \n",
    "  \n",
    "plt.scatter(X_train, y_train, color = 'red') \n",
    "  \n",
    "plt.plot(X_grid, cart_model.predict(X_grid), color = 'blue')  \n",
    "\n",
    "plt.title('CART REGRESYON AĞACI')  \n",
    "plt.xlabel('Atış Sayısı(Hits)') \n",
    "plt.ylabel('Maaş (Salary)') ;"
   ]
  },
  {
   "cell_type": "code",
   "execution_count": null,
   "metadata": {},
   "outputs": [],
   "source": [
    "#tek degiskenli tahmin"
   ]
  },
  {
   "cell_type": "code",
   "execution_count": 15,
   "metadata": {},
   "outputs": [
    {
     "data": {
      "text/plain": [
       "array([621.96792308, 958.61111111, 621.96792308, 345.20115517,\n",
       "       345.20115517])"
      ]
     },
     "execution_count": 15,
     "metadata": {},
     "output_type": "execute_result"
    }
   ],
   "source": [
    "cart_model.predict(X_test)[0:5]"
   ]
  },
  {
   "cell_type": "code",
   "execution_count": 16,
   "metadata": {},
   "outputs": [
    {
     "data": {
      "text/plain": [
       "486.34593105235456"
      ]
     },
     "execution_count": 16,
     "metadata": {},
     "output_type": "execute_result"
    }
   ],
   "source": [
    "y_pred = cart_model.predict(X_test)\n",
    "np.sqrt(mean_squared_error(y_test, y_pred))"
   ]
  },
  {
   "cell_type": "code",
   "execution_count": null,
   "metadata": {},
   "outputs": [],
   "source": [
    "#tum degiskenler"
   ]
  },
  {
   "cell_type": "code",
   "execution_count": 17,
   "metadata": {},
   "outputs": [],
   "source": [
    "df = pd.read_csv(\"Hitters.csv\")\n",
    "df = df.dropna()\n",
    "dms = pd.get_dummies(df[['League', 'Division', 'NewLeague']])\n",
    "y = df[\"Salary\"]\n",
    "X_ = df.drop(['Salary', 'League', 'Division', 'NewLeague'], axis=1).astype('float64')\n",
    "X = pd.concat([X_, dms[['League_N', 'Division_W', 'NewLeague_N']]], axis=1)\n",
    "X_train, X_test, y_train, y_test = train_test_split(X, \n",
    "                                                    y, \n",
    "                                                    test_size=0.25, \n",
    "                                                    random_state=42)"
   ]
  },
  {
   "cell_type": "code",
   "execution_count": 18,
   "metadata": {},
   "outputs": [],
   "source": [
    "cart_model = DecisionTreeRegressor().fit(X_train, y_train)"
   ]
  },
  {
   "cell_type": "code",
   "execution_count": 19,
   "metadata": {},
   "outputs": [
    {
     "data": {
      "text/plain": [
       "456.03799420552673"
      ]
     },
     "execution_count": 19,
     "metadata": {},
     "output_type": "execute_result"
    }
   ],
   "source": [
    "y_pred = cart_model.predict(X_test)\n",
    "np.sqrt(mean_squared_error(y_test, y_pred))"
   ]
  },
  {
   "cell_type": "markdown",
   "metadata": {},
   "source": [
    "## Model Tuning"
   ]
  },
  {
   "cell_type": "code",
   "execution_count": 20,
   "metadata": {},
   "outputs": [
    {
     "data": {
      "text/plain": [
       "DecisionTreeRegressor(criterion='mse', max_depth=None, max_features=None,\n",
       "                      max_leaf_nodes=None, min_impurity_decrease=0.0,\n",
       "                      min_impurity_split=None, min_samples_leaf=1,\n",
       "                      min_samples_split=2, min_weight_fraction_leaf=0.0,\n",
       "                      presort=False, random_state=None, splitter='best')"
      ]
     },
     "execution_count": 20,
     "metadata": {},
     "output_type": "execute_result"
    }
   ],
   "source": [
    "cart_model"
   ]
  },
  {
   "cell_type": "code",
   "execution_count": 61,
   "metadata": {},
   "outputs": [
    {
     "data": {
      "text/plain": [
       "435.5080020622849"
      ]
     },
     "execution_count": 61,
     "metadata": {},
     "output_type": "execute_result"
    }
   ],
   "source": [
    "cart_model = DecisionTreeRegressor(max_depth = 5).fit(X_train, y_train)\n",
    "y_pred = cart_model.predict(X_test)\n",
    "np.sqrt(mean_squared_error(y_test, y_pred))"
   ]
  },
  {
   "cell_type": "code",
   "execution_count": 62,
   "metadata": {
    "collapsed": true,
    "jupyter": {
     "outputs_hidden": true
    }
   },
   "outputs": [
    {
     "data": {
      "text/plain": [
       "\u001b[0;31mType:\u001b[0m        DecisionTreeRegressor\n",
       "\u001b[0;31mString form:\u001b[0m\n",
       "DecisionTreeRegressor(criterion='mse', max_depth=5, max_features=None,\n",
       "           max_ <...> eight_fraction_leaf=0.0,\n",
       "           presort=False, random_state=None, splitter='best')\n",
       "\u001b[0;31mFile:\u001b[0m        ~/anaconda3/lib/python3.7/site-packages/sklearn/tree/tree.py\n",
       "\u001b[0;31mDocstring:\u001b[0m  \n",
       "A decision tree regressor.\n",
       "\n",
       "Read more in the :ref:`User Guide <tree>`.\n",
       "\n",
       "Parameters\n",
       "----------\n",
       "criterion : string, optional (default=\"mse\")\n",
       "    The function to measure the quality of a split. Supported criteria\n",
       "    are \"mse\" for the mean squared error, which is equal to variance\n",
       "    reduction as feature selection criterion and minimizes the L2 loss\n",
       "    using the mean of each terminal node, \"friedman_mse\", which uses mean\n",
       "    squared error with Friedman's improvement score for potential splits,\n",
       "    and \"mae\" for the mean absolute error, which minimizes the L1 loss\n",
       "    using the median of each terminal node.\n",
       "\n",
       "    .. versionadded:: 0.18\n",
       "       Mean Absolute Error (MAE) criterion.\n",
       "\n",
       "splitter : string, optional (default=\"best\")\n",
       "    The strategy used to choose the split at each node. Supported\n",
       "    strategies are \"best\" to choose the best split and \"random\" to choose\n",
       "    the best random split.\n",
       "\n",
       "max_depth : int or None, optional (default=None)\n",
       "    The maximum depth of the tree. If None, then nodes are expanded until\n",
       "    all leaves are pure or until all leaves contain less than\n",
       "    min_samples_split samples.\n",
       "\n",
       "min_samples_split : int, float, optional (default=2)\n",
       "    The minimum number of samples required to split an internal node:\n",
       "\n",
       "    - If int, then consider `min_samples_split` as the minimum number.\n",
       "    - If float, then `min_samples_split` is a fraction and\n",
       "      `ceil(min_samples_split * n_samples)` are the minimum\n",
       "      number of samples for each split.\n",
       "\n",
       "    .. versionchanged:: 0.18\n",
       "       Added float values for fractions.\n",
       "\n",
       "min_samples_leaf : int, float, optional (default=1)\n",
       "    The minimum number of samples required to be at a leaf node.\n",
       "    A split point at any depth will only be considered if it leaves at\n",
       "    least ``min_samples_leaf`` training samples in each of the left and\n",
       "    right branches.  This may have the effect of smoothing the model,\n",
       "    especially in regression.\n",
       "\n",
       "    - If int, then consider `min_samples_leaf` as the minimum number.\n",
       "    - If float, then `min_samples_leaf` is a fraction and\n",
       "      `ceil(min_samples_leaf * n_samples)` are the minimum\n",
       "      number of samples for each node.\n",
       "\n",
       "    .. versionchanged:: 0.18\n",
       "       Added float values for fractions.\n",
       "\n",
       "min_weight_fraction_leaf : float, optional (default=0.)\n",
       "    The minimum weighted fraction of the sum total of weights (of all\n",
       "    the input samples) required to be at a leaf node. Samples have\n",
       "    equal weight when sample_weight is not provided.\n",
       "\n",
       "max_features : int, float, string or None, optional (default=None)\n",
       "    The number of features to consider when looking for the best split:\n",
       "\n",
       "    - If int, then consider `max_features` features at each split.\n",
       "    - If float, then `max_features` is a fraction and\n",
       "      `int(max_features * n_features)` features are considered at each\n",
       "      split.\n",
       "    - If \"auto\", then `max_features=n_features`.\n",
       "    - If \"sqrt\", then `max_features=sqrt(n_features)`.\n",
       "    - If \"log2\", then `max_features=log2(n_features)`.\n",
       "    - If None, then `max_features=n_features`.\n",
       "\n",
       "    Note: the search for a split does not stop until at least one\n",
       "    valid partition of the node samples is found, even if it requires to\n",
       "    effectively inspect more than ``max_features`` features.\n",
       "\n",
       "random_state : int, RandomState instance or None, optional (default=None)\n",
       "    If int, random_state is the seed used by the random number generator;\n",
       "    If RandomState instance, random_state is the random number generator;\n",
       "    If None, the random number generator is the RandomState instance used\n",
       "    by `np.random`.\n",
       "\n",
       "max_leaf_nodes : int or None, optional (default=None)\n",
       "    Grow a tree with ``max_leaf_nodes`` in best-first fashion.\n",
       "    Best nodes are defined as relative reduction in impurity.\n",
       "    If None then unlimited number of leaf nodes.\n",
       "\n",
       "min_impurity_decrease : float, optional (default=0.)\n",
       "    A node will be split if this split induces a decrease of the impurity\n",
       "    greater than or equal to this value.\n",
       "\n",
       "    The weighted impurity decrease equation is the following::\n",
       "\n",
       "        N_t / N * (impurity - N_t_R / N_t * right_impurity\n",
       "                            - N_t_L / N_t * left_impurity)\n",
       "\n",
       "    where ``N`` is the total number of samples, ``N_t`` is the number of\n",
       "    samples at the current node, ``N_t_L`` is the number of samples in the\n",
       "    left child, and ``N_t_R`` is the number of samples in the right child.\n",
       "\n",
       "    ``N``, ``N_t``, ``N_t_R`` and ``N_t_L`` all refer to the weighted sum,\n",
       "    if ``sample_weight`` is passed.\n",
       "\n",
       "    .. versionadded:: 0.19\n",
       "\n",
       "min_impurity_split : float, (default=1e-7)\n",
       "    Threshold for early stopping in tree growth. A node will split\n",
       "    if its impurity is above the threshold, otherwise it is a leaf.\n",
       "\n",
       "    .. deprecated:: 0.19\n",
       "       ``min_impurity_split`` has been deprecated in favor of\n",
       "       ``min_impurity_decrease`` in 0.19. The default value of\n",
       "       ``min_impurity_split`` will change from 1e-7 to 0 in 0.23 and it\n",
       "       will be removed in 0.25. Use ``min_impurity_decrease`` instead.\n",
       "\n",
       "presort : bool, optional (default=False)\n",
       "    Whether to presort the data to speed up the finding of best splits in\n",
       "    fitting. For the default settings of a decision tree on large\n",
       "    datasets, setting this to true may slow down the training process.\n",
       "    When using either a smaller dataset or a restricted depth, this may\n",
       "    speed up the training.\n",
       "\n",
       "Attributes\n",
       "----------\n",
       "feature_importances_ : array of shape = [n_features]\n",
       "    The feature importances.\n",
       "    The higher, the more important the feature.\n",
       "    The importance of a feature is computed as the\n",
       "    (normalized) total reduction of the criterion brought\n",
       "    by that feature. It is also known as the Gini importance [4]_.\n",
       "\n",
       "max_features_ : int,\n",
       "    The inferred value of max_features.\n",
       "\n",
       "n_features_ : int\n",
       "    The number of features when ``fit`` is performed.\n",
       "\n",
       "n_outputs_ : int\n",
       "    The number of outputs when ``fit`` is performed.\n",
       "\n",
       "tree_ : Tree object\n",
       "    The underlying Tree object. Please refer to\n",
       "    ``help(sklearn.tree._tree.Tree)`` for attributes of Tree object and\n",
       "    :ref:`sphx_glr_auto_examples_tree_plot_unveil_tree_structure.py`\n",
       "    for basic usage of these attributes.\n",
       "\n",
       "Notes\n",
       "-----\n",
       "The default values for the parameters controlling the size of the trees\n",
       "(e.g. ``max_depth``, ``min_samples_leaf``, etc.) lead to fully grown and\n",
       "unpruned trees which can potentially be very large on some data sets. To\n",
       "reduce memory consumption, the complexity and size of the trees should be\n",
       "controlled by setting those parameter values.\n",
       "\n",
       "The features are always randomly permuted at each split. Therefore,\n",
       "the best found split may vary, even with the same training data and\n",
       "``max_features=n_features``, if the improvement of the criterion is\n",
       "identical for several splits enumerated during the search of the best\n",
       "split. To obtain a deterministic behaviour during fitting,\n",
       "``random_state`` has to be fixed.\n",
       "\n",
       "See also\n",
       "--------\n",
       "DecisionTreeClassifier\n",
       "\n",
       "References\n",
       "----------\n",
       "\n",
       ".. [1] https://en.wikipedia.org/wiki/Decision_tree_learning\n",
       "\n",
       ".. [2] L. Breiman, J. Friedman, R. Olshen, and C. Stone, \"Classification\n",
       "       and Regression Trees\", Wadsworth, Belmont, CA, 1984.\n",
       "\n",
       ".. [3] T. Hastie, R. Tibshirani and J. Friedman. \"Elements of Statistical\n",
       "       Learning\", Springer, 2009.\n",
       "\n",
       ".. [4] L. Breiman, and A. Cutler, \"Random Forests\",\n",
       "       https://www.stat.berkeley.edu/~breiman/RandomForests/cc_home.htm\n",
       "\n",
       "Examples\n",
       "--------\n",
       ">>> from sklearn.datasets import load_boston\n",
       ">>> from sklearn.model_selection import cross_val_score\n",
       ">>> from sklearn.tree import DecisionTreeRegressor\n",
       ">>> boston = load_boston()\n",
       ">>> regressor = DecisionTreeRegressor(random_state=0)\n",
       ">>> cross_val_score(regressor, boston.data, boston.target, cv=10)\n",
       "...                    # doctest: +SKIP\n",
       "...\n",
       "array([ 0.61..., 0.57..., -0.34..., 0.41..., 0.75...,\n",
       "        0.07..., 0.29..., 0.33..., -1.42..., -1.77...])\n"
      ]
     },
     "metadata": {},
     "output_type": "display_data"
    }
   ],
   "source": [
    "?cart_model"
   ]
  },
  {
   "cell_type": "code",
   "execution_count": 63,
   "metadata": {},
   "outputs": [],
   "source": [
    "cart_params = {\"max_depth\": [2,3,4,5,10,20],\n",
    "              \"min_samples_split\": [2,10,5,30,50,10]}"
   ]
  },
  {
   "cell_type": "code",
   "execution_count": 64,
   "metadata": {},
   "outputs": [],
   "source": [
    "cart_model = DecisionTreeRegressor()"
   ]
  },
  {
   "cell_type": "code",
   "execution_count": 65,
   "metadata": {},
   "outputs": [],
   "source": [
    "cart_cv_model = GridSearchCV(cart_model, cart_params, cv = 10).fit(X_train, y_train)"
   ]
  },
  {
   "cell_type": "code",
   "execution_count": 66,
   "metadata": {},
   "outputs": [
    {
     "data": {
      "text/plain": [
       "{'max_depth': 10, 'min_samples_split': 50}"
      ]
     },
     "execution_count": 66,
     "metadata": {},
     "output_type": "execute_result"
    }
   ],
   "source": [
    "cart_cv_model.best_params_"
   ]
  },
  {
   "cell_type": "code",
   "execution_count": null,
   "metadata": {},
   "outputs": [],
   "source": [
    "#final model"
   ]
  },
  {
   "cell_type": "code",
   "execution_count": 68,
   "metadata": {},
   "outputs": [],
   "source": [
    "cart_tuned = DecisionTreeRegressor(max_depth = 10, min_samples_split = 50).fit(X_train, y_train)"
   ]
  },
  {
   "cell_type": "code",
   "execution_count": 69,
   "metadata": {},
   "outputs": [
    {
     "data": {
      "text/plain": [
       "361.0876906511434"
      ]
     },
     "execution_count": 69,
     "metadata": {},
     "output_type": "execute_result"
    }
   ],
   "source": [
    "y_pred = cart_tuned.predict(X_test)\n",
    "np.sqrt(mean_squared_error(y_test, y_pred))"
   ]
  },
  {
   "cell_type": "markdown",
   "metadata": {},
   "source": [
    "# Random Forests"
   ]
  },
  {
   "cell_type": "code",
   "execution_count": 70,
   "metadata": {},
   "outputs": [],
   "source": [
    "df = pd.read_csv(\"Hitters.csv\")\n",
    "df = df.dropna()\n",
    "dms = pd.get_dummies(df[['League', 'Division', 'NewLeague']])\n",
    "y = df[\"Salary\"]\n",
    "X_ = df.drop(['Salary', 'League', 'Division', 'NewLeague'], axis=1).astype('float64')\n",
    "X = pd.concat([X_, dms[['League_N', 'Division_W', 'NewLeague_N']]], axis=1)\n",
    "X_train, X_test, y_train, y_test = train_test_split(X, \n",
    "                                                    y, \n",
    "                                                    test_size=0.25, \n",
    "                                                    random_state=42)"
   ]
  },
  {
   "cell_type": "markdown",
   "metadata": {},
   "source": [
    "## Model & Tahmin"
   ]
  },
  {
   "cell_type": "code",
   "execution_count": 73,
   "metadata": {},
   "outputs": [],
   "source": [
    "rf_model = RandomForestRegressor(random_state = 42).fit(X_train, y_train)"
   ]
  },
  {
   "cell_type": "code",
   "execution_count": 74,
   "metadata": {},
   "outputs": [
    {
     "data": {
      "text/plain": [
       "RandomForestRegressor(bootstrap=True, criterion='mse', max_depth=None,\n",
       "                      max_features='auto', max_leaf_nodes=None,\n",
       "                      min_impurity_decrease=0.0, min_impurity_split=None,\n",
       "                      min_samples_leaf=1, min_samples_split=2,\n",
       "                      min_weight_fraction_leaf=0.0, n_estimators=10,\n",
       "                      n_jobs=None, oob_score=False, random_state=42, verbose=0,\n",
       "                      warm_start=False)"
      ]
     },
     "execution_count": 74,
     "metadata": {},
     "output_type": "execute_result"
    }
   ],
   "source": [
    "rf_model"
   ]
  },
  {
   "cell_type": "code",
   "execution_count": 75,
   "metadata": {},
   "outputs": [
    {
     "data": {
      "text/plain": [
       "373.04044281427"
      ]
     },
     "execution_count": 75,
     "metadata": {},
     "output_type": "execute_result"
    }
   ],
   "source": [
    "y_pred = rf_model.predict(X_test)\n",
    "np.sqrt(mean_squared_error(y_test, y_pred))"
   ]
  },
  {
   "cell_type": "markdown",
   "metadata": {},
   "source": [
    "## Model Tuning"
   ]
  },
  {
   "cell_type": "code",
   "execution_count": 77,
   "metadata": {},
   "outputs": [
    {
     "data": {
      "text/plain": [
       "RandomForestRegressor(bootstrap=True, criterion='mse', max_depth=None,\n",
       "                      max_features='auto', max_leaf_nodes=None,\n",
       "                      min_impurity_decrease=0.0, min_impurity_split=None,\n",
       "                      min_samples_leaf=1, min_samples_split=2,\n",
       "                      min_weight_fraction_leaf=0.0, n_estimators=10,\n",
       "                      n_jobs=None, oob_score=False, random_state=42, verbose=0,\n",
       "                      warm_start=False)"
      ]
     },
     "execution_count": 77,
     "metadata": {},
     "output_type": "execute_result"
    }
   ],
   "source": [
    "rf_model = RandomForestRegressor(random_state = 42).fit(X_train, y_train)\n",
    "rf_model"
   ]
  },
  {
   "cell_type": "code",
   "execution_count": 80,
   "metadata": {},
   "outputs": [],
   "source": [
    "rf_params = {\"max_depth\": [5,8,10],\n",
    "            \"max_features\": [2,5,10],\n",
    "            \"n_estimators\": [200, 500, 1000, 2000],\n",
    "            \"min_samples_split\": [2,10,80,100]}"
   ]
  },
  {
   "cell_type": "code",
   "execution_count": 81,
   "metadata": {},
   "outputs": [
    {
     "name": "stdout",
     "output_type": "stream",
     "text": [
      "Fitting 10 folds for each of 144 candidates, totalling 1440 fits\n"
     ]
    },
    {
     "name": "stderr",
     "output_type": "stream",
     "text": [
      "[Parallel(n_jobs=-1)]: Using backend LokyBackend with 12 concurrent workers.\n",
      "[Parallel(n_jobs=-1)]: Done  17 tasks      | elapsed:    2.8s\n",
      "[Parallel(n_jobs=-1)]: Done 138 tasks      | elapsed:   13.3s\n",
      "[Parallel(n_jobs=-1)]: Done 341 tasks      | elapsed:   34.3s\n",
      "[Parallel(n_jobs=-1)]: Done 624 tasks      | elapsed:  1.3min\n",
      "[Parallel(n_jobs=-1)]: Done 989 tasks      | elapsed:  2.5min\n",
      "[Parallel(n_jobs=-1)]: Done 1440 out of 1440 | elapsed:  3.4min finished\n"
     ]
    }
   ],
   "source": [
    "rf_cv_model = GridSearchCV(rf_model, rf_params, cv = 10, n_jobs = -1, verbose = 2).fit(X_train, y_train)"
   ]
  },
  {
   "cell_type": "code",
   "execution_count": 82,
   "metadata": {},
   "outputs": [
    {
     "data": {
      "text/plain": [
       "{'max_depth': 8,\n",
       " 'max_features': 2,\n",
       " 'min_samples_split': 2,\n",
       " 'n_estimators': 200}"
      ]
     },
     "execution_count": 82,
     "metadata": {},
     "output_type": "execute_result"
    }
   ],
   "source": [
    "rf_cv_model.best_params_"
   ]
  },
  {
   "cell_type": "code",
   "execution_count": 84,
   "metadata": {},
   "outputs": [],
   "source": [
    "rf_model = RandomForestRegressor(random_state = 42, \n",
    "                                 max_depth = 8,\n",
    "                                max_features = 2,\n",
    "                                min_samples_split = 2,\n",
    "                                 n_estimators = 200)\n",
    "rf_tuned = rf_model.fit(X_train, y_train)"
   ]
  },
  {
   "cell_type": "code",
   "execution_count": 85,
   "metadata": {},
   "outputs": [
    {
     "data": {
      "text/plain": [
       "RandomForestRegressor(bootstrap=True, criterion='mse', max_depth=8,\n",
       "                      max_features=2, max_leaf_nodes=None,\n",
       "                      min_impurity_decrease=0.0, min_impurity_split=None,\n",
       "                      min_samples_leaf=1, min_samples_split=2,\n",
       "                      min_weight_fraction_leaf=0.0, n_estimators=200,\n",
       "                      n_jobs=None, oob_score=False, random_state=42, verbose=0,\n",
       "                      warm_start=False)"
      ]
     },
     "execution_count": 85,
     "metadata": {},
     "output_type": "execute_result"
    }
   ],
   "source": [
    "rf_tuned"
   ]
  },
  {
   "cell_type": "code",
   "execution_count": 86,
   "metadata": {},
   "outputs": [
    {
     "data": {
      "text/plain": [
       "348.2372919119422"
      ]
     },
     "execution_count": 86,
     "metadata": {},
     "output_type": "execute_result"
    }
   ],
   "source": [
    "y_pred = rf_tuned.predict(X_test)\n",
    "np.sqrt(mean_squared_error(y_test, y_pred))"
   ]
  },
  {
   "cell_type": "markdown",
   "metadata": {},
   "source": [
    "## Değişken Önem Düzeyi"
   ]
  },
  {
   "cell_type": "code",
   "execution_count": 87,
   "metadata": {},
   "outputs": [
    {
     "data": {
      "text/plain": [
       "array([5.83939544, 6.29671412, 3.5548773 , 4.16102585, 4.66774588,\n",
       "       4.98722442, 7.39418621, 9.74125251, 8.68525461, 7.86496982,\n",
       "       8.76583148, 8.2943961 , 9.70887995, 4.70922791, 2.05255543,\n",
       "       1.85359068, 0.3831876 , 0.56203099, 0.47765369])"
      ]
     },
     "execution_count": 87,
     "metadata": {},
     "output_type": "execute_result"
    }
   ],
   "source": [
    "rf_tuned.feature_importances_*100"
   ]
  },
  {
   "cell_type": "code",
   "execution_count": 88,
   "metadata": {},
   "outputs": [
    {
     "data": {
      "image/png": "[encoded data removed]",
      "text/plain": [
       "<Figure size 432x288 with 1 Axes>"
      ]
     },
     "metadata": {
      "needs_background": "light"
     },
     "output_type": "display_data"
    }
   ],
   "source": [
    "Importance = pd.DataFrame({'Importance':rf_tuned.feature_importances_*100}, \n",
    "                          index = X_train.columns)\n",
    "\n",
    "\n",
    "Importance.sort_values(by = 'Importance', \n",
    "                       axis = 0, \n",
    "                       ascending = True).plot(kind = 'barh', \n",
    "                                              color = 'r', )\n",
    "\n",
    "plt.xlabel('Variable Importance')\n",
    "plt.gca().legend_ = None"
   ]
  },
  {
   "cell_type": "markdown",
   "metadata": {},
   "source": [
    "# Gradient Boosting Machines"
   ]
  },
  {
   "cell_type": "code",
   "execution_count": 89,
   "metadata": {},
   "outputs": [],
   "source": [
    "df = pd.read_csv(\"Hitters.csv\")\n",
    "df = df.dropna()\n",
    "dms = pd.get_dummies(df[['League', 'Division', 'NewLeague']])\n",
    "y = df[\"Salary\"]\n",
    "X_ = df.drop(['Salary', 'League', 'Division', 'NewLeague'], axis=1).astype('float64')\n",
    "X = pd.concat([X_, dms[['League_N', 'Division_W', 'NewLeague_N']]], axis=1)\n",
    "X_train, X_test, y_train, y_test = train_test_split(X, \n",
    "                                                    y, \n",
    "                                                    test_size=0.25, \n",
    "                                                    random_state=42)"
   ]
  },
  {
   "cell_type": "markdown",
   "metadata": {},
   "source": [
    "## Model & Tahmin"
   ]
  },
  {
   "cell_type": "code",
   "execution_count": 90,
   "metadata": {},
   "outputs": [],
   "source": [
    "gbm_model = GradientBoostingRegressor().fit(X_train, y_train)"
   ]
  },
  {
   "cell_type": "code",
   "execution_count": 91,
   "metadata": {},
   "outputs": [
    {
     "data": {
      "text/plain": [
       "GradientBoostingRegressor(alpha=0.9, criterion='friedman_mse', init=None,\n",
       "                          learning_rate=0.1, loss='ls', max_depth=3,\n",
       "                          max_features=None, max_leaf_nodes=None,\n",
       "                          min_impurity_decrease=0.0, min_impurity_split=None,\n",
       "                          min_samples_leaf=1, min_samples_split=2,\n",
       "                          min_weight_fraction_leaf=0.0, n_estimators=100,\n",
       "                          n_iter_no_change=None, presort='auto',\n",
       "                          random_state=None, subsample=1.0, tol=0.0001,\n",
       "                          validation_fraction=0.1, verbose=0, warm_start=False)"
      ]
     },
     "execution_count": 91,
     "metadata": {},
     "output_type": "execute_result"
    }
   ],
   "source": [
    "gbm_model"
   ]
  },
  {
   "cell_type": "code",
   "execution_count": 92,
   "metadata": {},
   "outputs": [],
   "source": [
    "y_pred = gbm_model.predict(X_test)"
   ]
  },
  {
   "cell_type": "code",
   "execution_count": 93,
   "metadata": {},
   "outputs": [
    {
     "data": {
      "text/plain": [
       "353.7423771972263"
      ]
     },
     "execution_count": 93,
     "metadata": {},
     "output_type": "execute_result"
    }
   ],
   "source": [
    "np.sqrt(mean_squared_error(y_test, y_pred))"
   ]
  },
  {
   "cell_type": "markdown",
   "metadata": {},
   "source": [
    "## Model Tuning"
   ]
  },
  {
   "cell_type": "code",
   "execution_count": 95,
   "metadata": {},
   "outputs": [
    {
     "data": {
      "text/plain": [
       "GradientBoostingRegressor(alpha=0.9, criterion='friedman_mse', init=None,\n",
       "                          learning_rate=0.1, loss='ls', max_depth=3,\n",
       "                          max_features=None, max_leaf_nodes=None,\n",
       "                          min_impurity_decrease=0.0, min_impurity_split=None,\n",
       "                          min_samples_leaf=1, min_samples_split=2,\n",
       "                          min_weight_fraction_leaf=0.0, n_estimators=100,\n",
       "                          n_iter_no_change=None, presort='auto',\n",
       "                          random_state=None, subsample=1.0, tol=0.0001,\n",
       "                          validation_fraction=0.1, verbose=0, warm_start=False)"
      ]
     },
     "execution_count": 95,
     "metadata": {},
     "output_type": "execute_result"
    }
   ],
   "source": [
    "gbm_model = GradientBoostingRegressor().fit(X_train, y_train)\n",
    "gbm_model"
   ]
  },
  {
   "cell_type": "code",
   "execution_count": 96,
   "metadata": {
    "collapsed": true,
    "jupyter": {
     "outputs_hidden": true
    }
   },
   "outputs": [
    {
     "data": {
      "text/plain": [
       "\u001b[0;31mType:\u001b[0m        GradientBoostingRegressor\n",
       "\u001b[0;31mString form:\u001b[0m\n",
       "GradientBoostingRegressor(alpha=0.9, criterion='friedman_mse', init=None,\n",
       "           <...> =1.0, tol=0.0001,\n",
       "           validation_fraction=0.1, verbose=0, warm_start=False)\n",
       "\u001b[0;31mLength:\u001b[0m      100\n",
       "\u001b[0;31mFile:\u001b[0m        ~/anaconda3/lib/python3.7/site-packages/sklearn/ensemble/gradient_boosting.py\n",
       "\u001b[0;31mDocstring:\u001b[0m  \n",
       "Gradient Boosting for regression.\n",
       "\n",
       "GB builds an additive model in a forward stage-wise fashion;\n",
       "it allows for the optimization of arbitrary differentiable loss functions.\n",
       "In each stage a regression tree is fit on the negative gradient of the\n",
       "given loss function.\n",
       "\n",
       "Read more in the :ref:`User Guide <gradient_boosting>`.\n",
       "\n",
       "Parameters\n",
       "----------\n",
       "loss : {'ls', 'lad', 'huber', 'quantile'}, optional (default='ls')\n",
       "    loss function to be optimized. 'ls' refers to least squares\n",
       "    regression. 'lad' (least absolute deviation) is a highly robust\n",
       "    loss function solely based on order information of the input\n",
       "    variables. 'huber' is a combination of the two. 'quantile'\n",
       "    allows quantile regression (use `alpha` to specify the quantile).\n",
       "\n",
       "learning_rate : float, optional (default=0.1)\n",
       "    learning rate shrinks the contribution of each tree by `learning_rate`.\n",
       "    There is a trade-off between learning_rate and n_estimators.\n",
       "\n",
       "n_estimators : int (default=100)\n",
       "    The number of boosting stages to perform. Gradient boosting\n",
       "    is fairly robust to over-fitting so a large number usually\n",
       "    results in better performance.\n",
       "\n",
       "subsample : float, optional (default=1.0)\n",
       "    The fraction of samples to be used for fitting the individual base\n",
       "    learners. If smaller than 1.0 this results in Stochastic Gradient\n",
       "    Boosting. `subsample` interacts with the parameter `n_estimators`.\n",
       "    Choosing `subsample < 1.0` leads to a reduction of variance\n",
       "    and an increase in bias.\n",
       "\n",
       "criterion : string, optional (default=\"friedman_mse\")\n",
       "    The function to measure the quality of a split. Supported criteria\n",
       "    are \"friedman_mse\" for the mean squared error with improvement\n",
       "    score by Friedman, \"mse\" for mean squared error, and \"mae\" for\n",
       "    the mean absolute error. The default value of \"friedman_mse\" is\n",
       "    generally the best as it can provide a better approximation in\n",
       "    some cases.\n",
       "\n",
       "    .. versionadded:: 0.18\n",
       "\n",
       "min_samples_split : int, float, optional (default=2)\n",
       "    The minimum number of samples required to split an internal node:\n",
       "\n",
       "    - If int, then consider `min_samples_split` as the minimum number.\n",
       "    - If float, then `min_samples_split` is a fraction and\n",
       "      `ceil(min_samples_split * n_samples)` are the minimum\n",
       "      number of samples for each split.\n",
       "\n",
       "    .. versionchanged:: 0.18\n",
       "       Added float values for fractions.\n",
       "\n",
       "min_samples_leaf : int, float, optional (default=1)\n",
       "    The minimum number of samples required to be at a leaf node.\n",
       "    A split point at any depth will only be considered if it leaves at\n",
       "    least ``min_samples_leaf`` training samples in each of the left and\n",
       "    right branches.  This may have the effect of smoothing the model,\n",
       "    especially in regression.\n",
       "\n",
       "    - If int, then consider `min_samples_leaf` as the minimum number.\n",
       "    - If float, then `min_samples_leaf` is a fraction and\n",
       "      `ceil(min_samples_leaf * n_samples)` are the minimum\n",
       "      number of samples for each node.\n",
       "\n",
       "    .. versionchanged:: 0.18\n",
       "       Added float values for fractions.\n",
       "\n",
       "min_weight_fraction_leaf : float, optional (default=0.)\n",
       "    The minimum weighted fraction of the sum total of weights (of all\n",
       "    the input samples) required to be at a leaf node. Samples have\n",
       "    equal weight when sample_weight is not provided.\n",
       "\n",
       "max_depth : integer, optional (default=3)\n",
       "    maximum depth of the individual regression estimators. The maximum\n",
       "    depth limits the number of nodes in the tree. Tune this parameter\n",
       "    for best performance; the best value depends on the interaction\n",
       "    of the input variables.\n",
       "\n",
       "min_impurity_decrease : float, optional (default=0.)\n",
       "    A node will be split if this split induces a decrease of the impurity\n",
       "    greater than or equal to this value.\n",
       "\n",
       "    The weighted impurity decrease equation is the following::\n",
       "\n",
       "        N_t / N * (impurity - N_t_R / N_t * right_impurity\n",
       "                            - N_t_L / N_t * left_impurity)\n",
       "\n",
       "    where ``N`` is the total number of samples, ``N_t`` is the number of\n",
       "    samples at the current node, ``N_t_L`` is the number of samples in the\n",
       "    left child, and ``N_t_R`` is the number of samples in the right child.\n",
       "\n",
       "    ``N``, ``N_t``, ``N_t_R`` and ``N_t_L`` all refer to the weighted sum,\n",
       "    if ``sample_weight`` is passed.\n",
       "\n",
       "    .. versionadded:: 0.19\n",
       "\n",
       "min_impurity_split : float, (default=1e-7)\n",
       "    Threshold for early stopping in tree growth. A node will split\n",
       "    if its impurity is above the threshold, otherwise it is a leaf.\n",
       "\n",
       "    .. deprecated:: 0.19\n",
       "       ``min_impurity_split`` has been deprecated in favor of\n",
       "       ``min_impurity_decrease`` in 0.19. The default value of\n",
       "       ``min_impurity_split`` will change from 1e-7 to 0 in 0.23 and it\n",
       "       will be removed in 0.25. Use ``min_impurity_decrease`` instead.\n",
       "\n",
       "init : estimator or 'zero', optional (default=None)\n",
       "    An estimator object that is used to compute the initial predictions.\n",
       "    ``init`` has to provide `fit` and `predict`. If 'zero', the initial\n",
       "    raw predictions are set to zero. By default a ``DummyEstimator`` is\n",
       "    used, predicting either the average target value (for loss='ls'), or\n",
       "    a quantile for the other losses.\n",
       "\n",
       "random_state : int, RandomState instance or None, optional (default=None)\n",
       "    If int, random_state is the seed used by the random number generator;\n",
       "    If RandomState instance, random_state is the random number generator;\n",
       "    If None, the random number generator is the RandomState instance used\n",
       "    by `np.random`.\n",
       "\n",
       "max_features : int, float, string or None, optional (default=None)\n",
       "    The number of features to consider when looking for the best split:\n",
       "\n",
       "    - If int, then consider `max_features` features at each split.\n",
       "    - If float, then `max_features` is a fraction and\n",
       "      `int(max_features * n_features)` features are considered at each\n",
       "      split.\n",
       "    - If \"auto\", then `max_features=n_features`.\n",
       "    - If \"sqrt\", then `max_features=sqrt(n_features)`.\n",
       "    - If \"log2\", then `max_features=log2(n_features)`.\n",
       "    - If None, then `max_features=n_features`.\n",
       "\n",
       "    Choosing `max_features < n_features` leads to a reduction of variance\n",
       "    and an increase in bias.\n",
       "\n",
       "    Note: the search for a split does not stop until at least one\n",
       "    valid partition of the node samples is found, even if it requires to\n",
       "    effectively inspect more than ``max_features`` features.\n",
       "\n",
       "alpha : float (default=0.9)\n",
       "    The alpha-quantile of the huber loss function and the quantile\n",
       "    loss function. Only if ``loss='huber'`` or ``loss='quantile'``.\n",
       "\n",
       "verbose : int, default: 0\n",
       "    Enable verbose output. If 1 then it prints progress and performance\n",
       "    once in a while (the more trees the lower the frequency). If greater\n",
       "    than 1 then it prints progress and performance for every tree.\n",
       "\n",
       "max_leaf_nodes : int or None, optional (default=None)\n",
       "    Grow trees with ``max_leaf_nodes`` in best-first fashion.\n",
       "    Best nodes are defined as relative reduction in impurity.\n",
       "    If None then unlimited number of leaf nodes.\n",
       "\n",
       "warm_start : bool, default: False\n",
       "    When set to ``True``, reuse the solution of the previous call to fit\n",
       "    and add more estimators to the ensemble, otherwise, just erase the\n",
       "    previous solution. See :term:`the Glossary <warm_start>`.\n",
       "\n",
       "presort : bool or 'auto', optional (default='auto')\n",
       "    Whether to presort the data to speed up the finding of best splits in\n",
       "    fitting. Auto mode by default will use presorting on dense data and\n",
       "    default to normal sorting on sparse data. Setting presort to true on\n",
       "    sparse data will raise an error.\n",
       "\n",
       "    .. versionadded:: 0.17\n",
       "       optional parameter *presort*.\n",
       "\n",
       "validation_fraction : float, optional, default 0.1\n",
       "    The proportion of training data to set aside as validation set for\n",
       "    early stopping. Must be between 0 and 1.\n",
       "    Only used if ``n_iter_no_change`` is set to an integer.\n",
       "\n",
       "    .. versionadded:: 0.20\n",
       "\n",
       "n_iter_no_change : int, default None\n",
       "    ``n_iter_no_change`` is used to decide if early stopping will be used\n",
       "    to terminate training when validation score is not improving. By\n",
       "    default it is set to None to disable early stopping. If set to a\n",
       "    number, it will set aside ``validation_fraction`` size of the training\n",
       "    data as validation and terminate training when validation score is not\n",
       "    improving in all of the previous ``n_iter_no_change`` numbers of\n",
       "    iterations.\n",
       "\n",
       "    .. versionadded:: 0.20\n",
       "\n",
       "tol : float, optional, default 1e-4\n",
       "    Tolerance for the early stopping. When the loss is not improving\n",
       "    by at least tol for ``n_iter_no_change`` iterations (if set to a\n",
       "    number), the training stops.\n",
       "\n",
       "    .. versionadded:: 0.20\n",
       "\n",
       "\n",
       "Attributes\n",
       "----------\n",
       "feature_importances_ : array, shape (n_features,)\n",
       "    The feature importances (the higher, the more important the feature).\n",
       "\n",
       "oob_improvement_ : array, shape (n_estimators,)\n",
       "    The improvement in loss (= deviance) on the out-of-bag samples\n",
       "    relative to the previous iteration.\n",
       "    ``oob_improvement_[0]`` is the improvement in\n",
       "    loss of the first stage over the ``init`` estimator.\n",
       "\n",
       "train_score_ : array, shape (n_estimators,)\n",
       "    The i-th score ``train_score_[i]`` is the deviance (= loss) of the\n",
       "    model at iteration ``i`` on the in-bag sample.\n",
       "    If ``subsample == 1`` this is the deviance on the training data.\n",
       "\n",
       "loss_ : LossFunction\n",
       "    The concrete ``LossFunction`` object.\n",
       "\n",
       "init_ : estimator\n",
       "    The estimator that provides the initial predictions.\n",
       "    Set via the ``init`` argument or ``loss.init_estimator``.\n",
       "\n",
       "estimators_ : array of DecisionTreeRegressor, shape (n_estimators, 1)\n",
       "    The collection of fitted sub-estimators.\n",
       "\n",
       "Notes\n",
       "-----\n",
       "The features are always randomly permuted at each split. Therefore,\n",
       "the best found split may vary, even with the same training data and\n",
       "``max_features=n_features``, if the improvement of the criterion is\n",
       "identical for several splits enumerated during the search of the best\n",
       "split. To obtain a deterministic behaviour during fitting,\n",
       "``random_state`` has to be fixed.\n",
       "\n",
       "See also\n",
       "--------\n",
       "sklearn.ensemble.HistGradientBoostingRegressor,\n",
       "sklearn.tree.DecisionTreeRegressor, RandomForestRegressor\n",
       "\n",
       "References\n",
       "----------\n",
       "J. Friedman, Greedy Function Approximation: A Gradient Boosting\n",
       "Machine, The Annals of Statistics, Vol. 29, No. 5, 2001.\n",
       "\n",
       "J. Friedman, Stochastic Gradient Boosting, 1999\n",
       "\n",
       "T. Hastie, R. Tibshirani and J. Friedman.\n",
       "Elements of Statistical Learning Ed. 2, Springer, 2009.\n"
      ]
     },
     "metadata": {},
     "output_type": "display_data"
    }
   ],
   "source": [
    "?gbm_model"
   ]
  },
  {
   "cell_type": "code",
   "execution_count": 97,
   "metadata": {},
   "outputs": [],
   "source": [
    "gbm_params = {\"learning_rate\": [0.001,0.1,0.01],\n",
    "             \"max_depth\": [3,5,8],\n",
    "             \"n_estimators\": [100,200,500],\n",
    "             \"subsample\": [1,0.5,0.8],\n",
    "             \"loss\": [\"ls\",\"lad\",\"quantile\"]}"
   ]
  },
  {
   "cell_type": "code",
   "execution_count": 98,
   "metadata": {},
   "outputs": [],
   "source": [
    "gbm_model = GradientBoostingRegressor().fit(X_train, y_train)"
   ]
  },
  {
   "cell_type": "code",
   "execution_count": 99,
   "metadata": {},
   "outputs": [
    {
     "name": "stdout",
     "output_type": "stream",
     "text": [
      "Fitting 10 folds for each of 243 candidates, totalling 2430 fits\n"
     ]
    },
    {
     "name": "stderr",
     "output_type": "stream",
     "text": [
      "[Parallel(n_jobs=-1)]: Using backend LokyBackend with 12 concurrent workers.\n",
      "[Parallel(n_jobs=-1)]: Done  17 tasks      | elapsed:    2.2s\n",
      "[Parallel(n_jobs=-1)]: Done 138 tasks      | elapsed:    4.3s\n",
      "[Parallel(n_jobs=-1)]: Done 341 tasks      | elapsed:   12.1s\n",
      "[Parallel(n_jobs=-1)]: Done 624 tasks      | elapsed:   32.1s\n",
      "[Parallel(n_jobs=-1)]: Done 989 tasks      | elapsed:   48.8s\n",
      "[Parallel(n_jobs=-1)]: Done 1434 tasks      | elapsed:  1.7min\n",
      "[Parallel(n_jobs=-1)]: Done 1961 tasks      | elapsed:  2.4min\n",
      "[Parallel(n_jobs=-1)]: Done 2430 out of 2430 | elapsed:  3.4min finished\n"
     ]
    }
   ],
   "source": [
    "gbm_cv_model = GridSearchCV(gbm_model, \n",
    "                            gbm_params, \n",
    "                            cv = 10, \n",
    "                            n_jobs=-1, \n",
    "                            verbose = 2).fit(X_train, y_train)"
   ]
  },
  {
   "cell_type": "code",
   "execution_count": 100,
   "metadata": {},
   "outputs": [
    {
     "data": {
      "text/plain": [
       "{'learning_rate': 0.1,\n",
       " 'loss': 'lad',\n",
       " 'max_depth': 3,\n",
       " 'n_estimators': 200,\n",
       " 'subsample': 1}"
      ]
     },
     "execution_count": 100,
     "metadata": {},
     "output_type": "execute_result"
    }
   ],
   "source": [
    "gbm_cv_model.best_params_"
   ]
  },
  {
   "cell_type": "code",
   "execution_count": 101,
   "metadata": {},
   "outputs": [],
   "source": [
    "gbm_tuned = GradientBoostingRegressor(learning_rate = 0.1,\n",
    "                                     loss = \"lad\",\n",
    "                                     max_depth = 3,\n",
    "                                     n_estimators = 200,\n",
    "                                     subsample = 1).fit(X_train, y_train)"
   ]
  },
  {
   "cell_type": "code",
   "execution_count": 102,
   "metadata": {},
   "outputs": [],
   "source": [
    "y_pred = gbm_tuned.predict(X_test)"
   ]
  },
  {
   "cell_type": "code",
   "execution_count": 103,
   "metadata": {},
   "outputs": [
    {
     "data": {
      "text/plain": [
       "345.3350976402029"
      ]
     },
     "execution_count": 103,
     "metadata": {},
     "output_type": "execute_result"
    }
   ],
   "source": [
    "np.sqrt(mean_squared_error(y_test, y_pred))"
   ]
  },
  {
   "cell_type": "code",
   "execution_count": null,
   "metadata": {},
   "outputs": [],
   "source": [
    "#degisken onem duzeyleri"
   ]
  },
  {
   "cell_type": "code",
   "execution_count": 104,
   "metadata": {},
   "outputs": [
    {
     "data": {
      "image/png": "[encoded data removed]",
      "text/plain": [
       "<Figure size 432x288 with 1 Axes>"
      ]
     },
     "metadata": {
      "needs_background": "light"
     },
     "output_type": "display_data"
    }
   ],
   "source": [
    "Importance = pd.DataFrame({'Importance':gbm_tuned.feature_importances_*100}, \n",
    "                          index = X_train.columns)\n",
    "\n",
    "\n",
    "Importance.sort_values(by = 'Importance', \n",
    "                       axis = 0, \n",
    "                       ascending = True).plot(kind = 'barh', \n",
    "                                              color = 'r', )\n",
    "\n",
    "plt.xlabel('Variable Importance')\n",
    "plt.gca().legend_ = None"
   ]
  },
  {
   "cell_type": "markdown",
   "metadata": {},
   "source": [
    "# XGBoost"
   ]
  },
  {
   "cell_type": "code",
   "execution_count": 128,
   "metadata": {},
   "outputs": [],
   "source": [
    "df = pd.read_csv(\"Hitters.csv\")\n",
    "df = df.dropna()\n",
    "dms = pd.get_dummies(df[['League', 'Division', 'NewLeague']])\n",
    "y = df[\"Salary\"]\n",
    "X_ = df.drop(['Salary', 'League', 'Division', 'NewLeague'], axis=1).astype('float64')\n",
    "X = pd.concat([X_, dms[['League_N', 'Division_W', 'NewLeague_N']]], axis=1)\n",
    "X_train, X_test, y_train, y_test = train_test_split(X, \n",
    "                                                    y, \n",
    "                                                    test_size=0.25, \n",
    "                                                    random_state=42)"
   ]
  },
  {
   "cell_type": "markdown",
   "metadata": {},
   "source": [
    "## Model & Tahmin"
   ]
  },
  {
   "cell_type": "code",
   "execution_count": 118,
   "metadata": {
    "collapsed": true,
    "jupyter": {
     "outputs_hidden": true
    }
   },
   "outputs": [
    {
     "name": "stdout",
     "output_type": "stream",
     "text": [
      "Collecting xgboost\n",
      "  Using cached https://files.pythonhosted.org/packages/96/84/4e2cae6247f397f83d8adc5c2a2a0c5d7d790a14a4c7400ff6574586f589/xgboost-0.90.tar.gz\n",
      "Requirement already satisfied: numpy in /Users/mvahit/anaconda3/lib/python3.7/site-packages (from xgboost) (1.16.4)\n",
      "Requirement already satisfied: scipy in /Users/mvahit/anaconda3/lib/python3.7/site-packages (from xgboost) (1.3.0)\n",
      "Building wheels for collected packages: xgboost\n",
      "  Building wheel for xgboost (setup.py) ... \u001b[?25ldone\n",
      "\u001b[?25h  Stored in directory: /Users/mvahit/Library/Caches/pip/wheels/e9/48/4d/de4187b5270dff71d3697c5a7857a1e2d9a0c63a28b3462eeb\n",
      "Successfully built xgboost\n",
      "Installing collected packages: xgboost\n",
      "Successfully installed xgboost-0.90\n"
     ]
    }
   ],
   "source": [
    "!pip install xgboost"
   ]
  },
  {
   "cell_type": "code",
   "execution_count": 129,
   "metadata": {},
   "outputs": [],
   "source": [
    "import xgboost"
   ]
  },
  {
   "cell_type": "code",
   "execution_count": 130,
   "metadata": {},
   "outputs": [],
   "source": [
    "from xgboost import XGBRegressor"
   ]
  },
  {
   "cell_type": "code",
   "execution_count": 131,
   "metadata": {},
   "outputs": [
    {
     "name": "stdout",
     "output_type": "stream",
     "text": [
      "[10:48:07] WARNING: src/objective/regression_obj.cu:152: reg:linear is now deprecated in favor of reg:squarederror.\n"
     ]
    }
   ],
   "source": [
    "xgb = XGBRegressor().fit(X_train, y_train)"
   ]
  },
  {
   "cell_type": "code",
   "execution_count": 132,
   "metadata": {},
   "outputs": [
    {
     "data": {
      "text/plain": [
       "XGBRegressor(base_score=0.5, booster='gbtree', colsample_bylevel=1,\n",
       "             colsample_bynode=1, colsample_bytree=1, gamma=0,\n",
       "             importance_type='gain', learning_rate=0.1, max_delta_step=0,\n",
       "             max_depth=3, min_child_weight=1, missing=None, n_estimators=100,\n",
       "             n_jobs=1, nthread=None, objective='reg:linear', random_state=0,\n",
       "             reg_alpha=0, reg_lambda=1, scale_pos_weight=1, seed=None,\n",
       "             silent=None, subsample=1, verbosity=1)"
      ]
     },
     "execution_count": 132,
     "metadata": {},
     "output_type": "execute_result"
    }
   ],
   "source": [
    "xgb"
   ]
  },
  {
   "cell_type": "code",
   "execution_count": 133,
   "metadata": {},
   "outputs": [],
   "source": [
    "y_pred = xgb.predict(X_test)"
   ]
  },
  {
   "cell_type": "code",
   "execution_count": 134,
   "metadata": {},
   "outputs": [
    {
     "data": {
      "text/plain": [
       "359.91750599447033"
      ]
     },
     "execution_count": 134,
     "metadata": {},
     "output_type": "execute_result"
    }
   ],
   "source": [
    "np.sqrt(mean_squared_error(y_test, y_pred))"
   ]
  },
  {
   "cell_type": "markdown",
   "metadata": {},
   "source": [
    "## Model Tuning"
   ]
  },
  {
   "cell_type": "code",
   "execution_count": 135,
   "metadata": {},
   "outputs": [
    {
     "data": {
      "text/plain": [
       "XGBRegressor(base_score=0.5, booster='gbtree', colsample_bylevel=1,\n",
       "             colsample_bynode=1, colsample_bytree=1, gamma=0,\n",
       "             importance_type='gain', learning_rate=0.1, max_delta_step=0,\n",
       "             max_depth=3, min_child_weight=1, missing=None, n_estimators=100,\n",
       "             n_jobs=1, nthread=None, objective='reg:linear', random_state=0,\n",
       "             reg_alpha=0, reg_lambda=1, scale_pos_weight=1, seed=None,\n",
       "             silent=None, subsample=1, verbosity=1)"
      ]
     },
     "execution_count": 135,
     "metadata": {},
     "output_type": "execute_result"
    }
   ],
   "source": [
    "xgb = XGBRegressor()\n",
    "xgb"
   ]
  },
  {
   "cell_type": "code",
   "execution_count": 136,
   "metadata": {},
   "outputs": [],
   "source": [
    "xgb_params = {\"learning_rate\": [0.1,0.01,0.5],\n",
    "             \"max_depth\": [2,3,4,5,8],\n",
    "             \"n_estimators\": [100,200,500,1000],\n",
    "             \"colsample_bytree\": [0.4,0.7,1]}"
   ]
  },
  {
   "cell_type": "code",
   "execution_count": 137,
   "metadata": {},
   "outputs": [
    {
     "name": "stdout",
     "output_type": "stream",
     "text": [
      "Fitting 10 folds for each of 180 candidates, totalling 1800 fits\n"
     ]
    },
    {
     "name": "stderr",
     "output_type": "stream",
     "text": [
      "[Parallel(n_jobs=-1)]: Using backend LokyBackend with 12 concurrent workers.\n",
      "[Parallel(n_jobs=-1)]: Done  17 tasks      | elapsed:    2.8s\n",
      "[Parallel(n_jobs=-1)]: Done 138 tasks      | elapsed:    4.7s\n",
      "[Parallel(n_jobs=-1)]: Done 341 tasks      | elapsed:    7.8s\n",
      "[Parallel(n_jobs=-1)]: Done 624 tasks      | elapsed:   12.3s\n",
      "[Parallel(n_jobs=-1)]: Done 989 tasks      | elapsed:   21.2s\n",
      "[Parallel(n_jobs=-1)]: Done 1434 tasks      | elapsed:   32.2s\n"
     ]
    },
    {
     "name": "stdout",
     "output_type": "stream",
     "text": [
      "[11:01:51] WARNING: src/objective/regression_obj.cu:152: reg:linear is now deprecated in favor of reg:squarederror.\n"
     ]
    },
    {
     "name": "stderr",
     "output_type": "stream",
     "text": [
      "[Parallel(n_jobs=-1)]: Done 1800 out of 1800 | elapsed:   43.1s finished\n"
     ]
    }
   ],
   "source": [
    "xgb_cv_model  = GridSearchCV(xgb,xgb_params, cv = 10, n_jobs = -1, verbose = 2).fit(X_train, y_train)"
   ]
  },
  {
   "cell_type": "code",
   "execution_count": 138,
   "metadata": {},
   "outputs": [
    {
     "data": {
      "text/plain": [
       "{'colsample_bytree': 0.7,\n",
       " 'learning_rate': 0.5,\n",
       " 'max_depth': 2,\n",
       " 'n_estimators': 100}"
      ]
     },
     "execution_count": 138,
     "metadata": {},
     "output_type": "execute_result"
    }
   ],
   "source": [
    "xgb_cv_model.best_params_"
   ]
  },
  {
   "cell_type": "code",
   "execution_count": 139,
   "metadata": {},
   "outputs": [
    {
     "name": "stdout",
     "output_type": "stream",
     "text": [
      "[11:09:57] WARNING: src/objective/regression_obj.cu:152: reg:linear is now deprecated in favor of reg:squarederror.\n"
     ]
    }
   ],
   "source": [
    "xgb_tuned = XGBRegressor(colsample_bytree = 0.7, \n",
    "                         learning_rate = 0.5, \n",
    "                         max_depth = 2, \n",
    "                         n_estimators = 100).fit(X_train, y_train)\n"
   ]
  },
  {
   "cell_type": "code",
   "execution_count": 140,
   "metadata": {},
   "outputs": [],
   "source": [
    "y_pred = xgb_tuned.predict(X_test)"
   ]
  },
  {
   "cell_type": "code",
   "execution_count": 141,
   "metadata": {},
   "outputs": [
    {
     "data": {
      "text/plain": [
       "360.59070607134015"
      ]
     },
     "execution_count": 141,
     "metadata": {},
     "output_type": "execute_result"
    }
   ],
   "source": [
    "np.sqrt(mean_squared_error(y_test, y_pred))"
   ]
  },
  {
   "cell_type": "markdown",
   "metadata": {},
   "source": [
    "# LightGBM"
   ]
  },
  {
   "cell_type": "code",
   "execution_count": 149,
   "metadata": {},
   "outputs": [],
   "source": [
    "df = pd.read_csv(\"Hitters.csv\")\n",
    "df = df.dropna()\n",
    "dms = pd.get_dummies(df[['League', 'Division', 'NewLeague']])\n",
    "y = df[\"Salary\"]\n",
    "X_ = df.drop(['Salary', 'League', 'Division', 'NewLeague'], axis=1).astype('float64')\n",
    "X = pd.concat([X_, dms[['League_N', 'Division_W', 'NewLeague_N']]], axis=1)\n",
    "X_train, X_test, y_train, y_test = train_test_split(X, \n",
    "                                                    y, \n",
    "                                                    test_size=0.25, \n",
    "                                                    random_state=42)"
   ]
  },
  {
   "cell_type": "code",
   "execution_count": 145,
   "metadata": {
    "collapsed": true,
    "jupyter": {
     "outputs_hidden": true
    }
   },
   "outputs": [
    {
     "name": "stdout",
     "output_type": "stream",
     "text": [
      "Requirement already satisfied: lightgbm in /Users/mvahit/anaconda3/lib/python3.7/site-packages (2.3.0)\n",
      "Requirement already satisfied: numpy in /Users/mvahit/anaconda3/lib/python3.7/site-packages (from lightgbm) (1.16.4)\n",
      "Requirement already satisfied: scikit-learn in /Users/mvahit/anaconda3/lib/python3.7/site-packages (from lightgbm) (0.21.2)\n",
      "Requirement already satisfied: scipy in /Users/mvahit/anaconda3/lib/python3.7/site-packages (from lightgbm) (1.3.0)\n",
      "Requirement already satisfied: joblib>=0.11 in /Users/mvahit/anaconda3/lib/python3.7/site-packages (from scikit-learn->lightgbm) (0.13.2)\n"
     ]
    }
   ],
   "source": [
    "!pip install lightgbm"
   ]
  },
  {
   "cell_type": "code",
   "execution_count": 146,
   "metadata": {
    "collapsed": true,
    "jupyter": {
     "outputs_hidden": true
    }
   },
   "outputs": [
    {
     "name": "stdout",
     "output_type": "stream",
     "text": [
      "Collecting package metadata (current_repodata.json): done\n",
      "Solving environment: | \n",
      "The environment is inconsistent, please check the package plan carefully\n",
      "The following packages are causing the inconsistency:\n",
      "\n",
      "  - defaults/osx-64::anaconda==2019.07=py37_0\n",
      "  - defaults/osx-64::numba==0.44.1=py37h6440ff4_0\n",
      "done\n",
      "\n",
      "## Package Plan ##\n",
      "\n",
      "  environment location: /Users/mvahit/anaconda3\n",
      "\n",
      "  added / updated specs:\n",
      "    - lightgbm\n",
      "\n",
      "\n",
      "The following packages will be downloaded:\n",
      "\n",
      "    package                    |            build\n",
      "    ---------------------------|-----------------\n",
      "    _anaconda_depends-2019.03  |           py37_0           6 KB\n",
      "    anaconda-custom            |           py37_1           3 KB\n",
      "    ca-certificates-2019.9.11  |       hecc5488_0         143 KB  conda-forge\n",
      "    certifi-2019.9.11          |           py37_0         147 KB  conda-forge\n",
      "    conda-4.7.12               |           py37_0         3.0 MB  conda-forge\n",
      "    lightgbm-2.2.3             |   py37h0a44026_0         660 KB\n",
      "    openssl-1.1.1c             |       h01d97ff_0         1.9 MB  conda-forge\n",
      "    tbb-2018.0.5               |       h2d50403_0         150 KB  conda-forge\n",
      "    ------------------------------------------------------------\n",
      "                                           Total:         6.0 MB\n",
      "\n",
      "The following NEW packages will be INSTALLED:\n",
      "\n",
      "  _anaconda_depends  pkgs/main/osx-64::_anaconda_depends-2019.03-py37_0\n",
      "  lightgbm           pkgs/main/osx-64::lightgbm-2.2.3-py37h0a44026_0\n",
      "  tbb                conda-forge/osx-64::tbb-2018.0.5-h2d50403_0\n",
      "\n",
      "The following packages will be UPDATED:\n",
      "\n",
      "  ca-certificates    pkgs/main::ca-certificates-2019.5.15-0 --> conda-forge::ca-certificates-2019.9.11-hecc5488_0\n",
      "  certifi               pkgs/main::certifi-2019.6.16-py37_0 --> conda-forge::certifi-2019.9.11-py37_0\n",
      "\n",
      "The following packages will be SUPERSEDED by a higher-priority channel:\n",
      "\n",
      "  conda                                           pkgs/main --> conda-forge\n",
      "  openssl              pkgs/main::openssl-1.1.1c-h1de35cc_1 --> conda-forge::openssl-1.1.1c-h01d97ff_0\n",
      "\n",
      "The following packages will be DOWNGRADED:\n",
      "\n",
      "  anaconda                                   2019.07-py37_0 --> custom-py37_1\n",
      "\n",
      "\n",
      "\n",
      "Downloading and Extracting Packages\n",
      "openssl-1.1.1c       | 1.9 MB    | ##################################### | 100% \n",
      "conda-4.7.12         | 3.0 MB    | ##################################### | 100% \n",
      "tbb-2018.0.5         | 150 KB    | ##################################### | 100% \n",
      "_anaconda_depends-20 | 6 KB      | ##################################### | 100% \n",
      "certifi-2019.9.11    | 147 KB    | ##################################### | 100% \n",
      "ca-certificates-2019 | 143 KB    | ##################################### | 100% \n",
      "anaconda-custom      | 3 KB      | ##################################### | 100% \n",
      "lightgbm-2.2.3       | 660 KB    | ##################################### | 100% \n",
      "Preparing transaction: done\n",
      "Verifying transaction: done\n",
      "Executing transaction: done\n",
      "\n",
      "Note: you may need to restart the kernel to use updated packages.\n"
     ]
    }
   ],
   "source": [
    "conda install -c conda-forge lightgbm"
   ]
  },
  {
   "cell_type": "code",
   "execution_count": 150,
   "metadata": {},
   "outputs": [],
   "source": [
    "from lightgbm import LGBMRegressor"
   ]
  },
  {
   "cell_type": "markdown",
   "metadata": {},
   "source": [
    "## Model & Tahmin"
   ]
  },
  {
   "cell_type": "code",
   "execution_count": 153,
   "metadata": {},
   "outputs": [],
   "source": [
    "lgb_model = LGBMRegressor().fit(X_train, y_train)"
   ]
  },
  {
   "cell_type": "code",
   "execution_count": 154,
   "metadata": {},
   "outputs": [
    {
     "data": {
      "text/plain": [
       "LGBMRegressor(boosting_type='gbdt', class_weight=None, colsample_bytree=1.0,\n",
       "              importance_type='split', learning_rate=0.1, max_depth=-1,\n",
       "              min_child_samples=20, min_child_weight=0.001, min_split_gain=0.0,\n",
       "              n_estimators=100, n_jobs=-1, num_leaves=31, objective=None,\n",
       "              random_state=None, reg_alpha=0.0, reg_lambda=0.0, silent=True,\n",
       "              subsample=1.0, subsample_for_bin=200000, subsample_freq=0)"
      ]
     },
     "execution_count": 154,
     "metadata": {},
     "output_type": "execute_result"
    }
   ],
   "source": [
    "lgb_model"
   ]
  },
  {
   "cell_type": "code",
   "execution_count": 155,
   "metadata": {},
   "outputs": [],
   "source": [
    "y_pred = lgb_model.predict(X_test)"
   ]
  },
  {
   "cell_type": "code",
   "execution_count": 156,
   "metadata": {},
   "outputs": [
    {
     "data": {
      "text/plain": [
       "363.8712087611089"
      ]
     },
     "execution_count": 156,
     "metadata": {},
     "output_type": "execute_result"
    }
   ],
   "source": [
    "np.sqrt(mean_squared_error(y_test, y_pred))"
   ]
  },
  {
   "cell_type": "markdown",
   "metadata": {},
   "source": [
    "## Model Tuning"
   ]
  },
  {
   "cell_type": "code",
   "execution_count": 157,
   "metadata": {},
   "outputs": [
    {
     "data": {
      "text/plain": [
       "LGBMRegressor(boosting_type='gbdt', class_weight=None, colsample_bytree=1.0,\n",
       "              importance_type='split', learning_rate=0.1, max_depth=-1,\n",
       "              min_child_samples=20, min_child_weight=0.001, min_split_gain=0.0,\n",
       "              n_estimators=100, n_jobs=-1, num_leaves=31, objective=None,\n",
       "              random_state=None, reg_alpha=0.0, reg_lambda=0.0, silent=True,\n",
       "              subsample=1.0, subsample_for_bin=200000, subsample_freq=0)"
      ]
     },
     "execution_count": 157,
     "metadata": {},
     "output_type": "execute_result"
    }
   ],
   "source": [
    "lgb_model = LGBMRegressor()\n",
    "lgb_model"
   ]
  },
  {
   "cell_type": "code",
   "execution_count": 158,
   "metadata": {},
   "outputs": [],
   "source": [
    "lgbm_params = {\"learning_rate\": [0.01, 0.1, 0.5, 1],\n",
    "              \"n_estimators\": [20,40,100,200,500,1000],\n",
    "              \"max_depth\": [1,2,3,4,5,6,7,8,9,10]}"
   ]
  },
  {
   "cell_type": "code",
   "execution_count": 159,
   "metadata": {},
   "outputs": [
    {
     "name": "stdout",
     "output_type": "stream",
     "text": [
      "Fitting 10 folds for each of 240 candidates, totalling 2400 fits\n"
     ]
    },
    {
     "name": "stderr",
     "output_type": "stream",
     "text": [
      "[Parallel(n_jobs=-1)]: Using backend LokyBackend with 12 concurrent workers.\n",
      "[Parallel(n_jobs=-1)]: Done  17 tasks      | elapsed:    2.8s\n",
      "[Parallel(n_jobs=-1)]: Done 471 tasks      | elapsed:    6.5s\n",
      "[Parallel(n_jobs=-1)]: Done 1411 tasks      | elapsed:   14.6s\n",
      "[Parallel(n_jobs=-1)]: Done 2400 out of 2400 | elapsed:   24.4s finished\n"
     ]
    }
   ],
   "source": [
    "lgbm_cv_model = GridSearchCV(lgb_model, \n",
    "                             lgbm_params, \n",
    "                             cv = 10, \n",
    "                             n_jobs = -1, \n",
    "                             verbose =2).fit(X_train, y_train)"
   ]
  },
  {
   "cell_type": "code",
   "execution_count": 160,
   "metadata": {},
   "outputs": [
    {
     "data": {
      "text/plain": [
       "{'learning_rate': 0.1, 'max_depth': 6, 'n_estimators': 20}"
      ]
     },
     "execution_count": 160,
     "metadata": {},
     "output_type": "execute_result"
    }
   ],
   "source": [
    "lgbm_cv_model.best_params_"
   ]
  },
  {
   "cell_type": "code",
   "execution_count": 163,
   "metadata": {},
   "outputs": [],
   "source": [
    "lgbm_tuned = LGBMRegressor(learning_rate = 0.1, \n",
    "                          max_depth = 6, \n",
    "                          n_estimators = 20).fit(X_train, y_train)"
   ]
  },
  {
   "cell_type": "code",
   "execution_count": 164,
   "metadata": {},
   "outputs": [],
   "source": [
    "y_pred = lgbm_tuned.predict(X_test)"
   ]
  },
  {
   "cell_type": "code",
   "execution_count": 165,
   "metadata": {},
   "outputs": [
    {
     "data": {
      "text/plain": [
       "371.5044868943621"
      ]
     },
     "execution_count": 165,
     "metadata": {},
     "output_type": "execute_result"
    }
   ],
   "source": [
    "np.sqrt(mean_squared_error(y_test, y_pred))"
   ]
  },
  {
   "cell_type": "markdown",
   "metadata": {},
   "source": [
    "# CatBoost"
   ]
  },
  {
   "cell_type": "code",
   "execution_count": null,
   "metadata": {},
   "outputs": [],
   "source": []
  },
  {
   "cell_type": "code",
   "execution_count": 171,
   "metadata": {},
   "outputs": [],
   "source": [
    "df = pd.read_csv(\"Hitters.csv\")\n",
    "df = df.dropna()\n",
    "dms = pd.get_dummies(df[['League', 'Division', 'NewLeague']])\n",
    "\n",
    "y = df[\"Salary\"]\n",
    "X_ = df.drop(['Salary', 'League', 'Division', 'NewLeague'], axis=1).astype('float64')\n",
    "X = pd.concat([X_, dms[['League_N', 'Division_W', 'NewLeague_N']]], axis=1)\n",
    "X_train, X_test, y_train, y_test = train_test_split(X, \n",
    "                                                    y, \n",
    "                                                    test_size=0.25, \n",
    "                                                    random_state=42)"
   ]
  },
  {
   "cell_type": "code",
   "execution_count": 167,
   "metadata": {
    "collapsed": true,
    "jupyter": {
     "outputs_hidden": true
    }
   },
   "outputs": [
    {
     "name": "stdout",
     "output_type": "stream",
     "text": [
      "Collecting catboost\n",
      "\u001b[?25l  Downloading https://files.pythonhosted.org/packages/fa/fa/1890b5b42a6811de630c04cf56939ce8d1b8cb6d2c3a81db7bfc0286952c/catboost-0.18-cp37-none-macosx_10_6_intel.macosx_10_9_intel.macosx_10_9_x86_64.macosx_10_10_intel.macosx_10_10_x86_64.whl (9.8MB)\n",
      "\u001b[K     |████████████████████████████████| 9.8MB 2.6MB/s eta 0:00:01\n",
      "\u001b[?25hRequirement already satisfied: numpy>=1.16.0 in /Users/mvahit/anaconda3/lib/python3.7/site-packages (from catboost) (1.16.4)\n",
      "Requirement already satisfied: matplotlib in /Users/mvahit/anaconda3/lib/python3.7/site-packages (from catboost) (3.1.0)\n",
      "Collecting plotly (from catboost)\n",
      "\u001b[?25l  Downloading https://files.pythonhosted.org/packages/f7/05/3c32c6bc85acbd30a18fbc3ba732fed5e48e5f8fd60d2a148877970f4a61/plotly-4.2.1-py2.py3-none-any.whl (7.2MB)\n",
      "\u001b[K     |████████████████████████████████| 7.2MB 2.6MB/s eta 0:00:01\n",
      "\u001b[?25hRequirement already satisfied: pandas>=0.24.0 in /Users/mvahit/anaconda3/lib/python3.7/site-packages (from catboost) (0.24.2)\n",
      "Requirement already satisfied: six in /Users/mvahit/anaconda3/lib/python3.7/site-packages (from catboost) (1.12.0)\n",
      "Requirement already satisfied: graphviz in /Users/mvahit/anaconda3/lib/python3.7/site-packages (from catboost) (0.13)\n",
      "Requirement already satisfied: scipy in /Users/mvahit/anaconda3/lib/python3.7/site-packages (from catboost) (1.3.0)\n",
      "Requirement already satisfied: cycler>=0.10 in /Users/mvahit/anaconda3/lib/python3.7/site-packages (from matplotlib->catboost) (0.10.0)\n",
      "Requirement already satisfied: kiwisolver>=1.0.1 in /Users/mvahit/anaconda3/lib/python3.7/site-packages (from matplotlib->catboost) (1.1.0)\n",
      "Requirement already satisfied: pyparsing!=2.0.4,!=2.1.2,!=2.1.6,>=2.0.1 in /Users/mvahit/anaconda3/lib/python3.7/site-packages (from matplotlib->catboost) (2.4.0)\n",
      "Requirement already satisfied: python-dateutil>=2.1 in /Users/mvahit/anaconda3/lib/python3.7/site-packages (from matplotlib->catboost) (2.8.0)\n",
      "Collecting retrying>=1.3.3 (from plotly->catboost)\n",
      "Requirement already satisfied: pytz>=2011k in /Users/mvahit/anaconda3/lib/python3.7/site-packages (from pandas>=0.24.0->catboost) (2019.1)\n",
      "Requirement already satisfied: setuptools in /Users/mvahit/anaconda3/lib/python3.7/site-packages (from kiwisolver>=1.0.1->matplotlib->catboost) (41.0.1)\n",
      "Installing collected packages: retrying, plotly, catboost\n",
      "Successfully installed catboost-0.18 plotly-4.2.1 retrying-1.3.3\n"
     ]
    }
   ],
   "source": [
    "!pip install catboost"
   ]
  },
  {
   "cell_type": "markdown",
   "metadata": {},
   "source": [
    "## Model & Tahmin"
   ]
  },
  {
   "cell_type": "code",
   "execution_count": 172,
   "metadata": {},
   "outputs": [],
   "source": [
    "from catboost import CatBoostRegressor"
   ]
  },
  {
   "cell_type": "code",
   "execution_count": 173,
   "metadata": {
    "collapsed": true,
    "jupyter": {
     "outputs_hidden": true
    }
   },
   "outputs": [
    {
     "name": "stdout",
     "output_type": "stream",
     "text": [
      "0:\tlearn: 438.0966735\ttotal: 54.5ms\tremaining: 54.4s\n",
      "1:\tlearn: 431.5853264\ttotal: 57.6ms\tremaining: 28.8s\n",
      "2:\tlearn: 425.7558130\ttotal: 60.4ms\tremaining: 20.1s\n",
      "3:\tlearn: 419.1494283\ttotal: 63.4ms\tremaining: 15.8s\n",
      "4:\tlearn: 413.2198205\ttotal: 66ms\tremaining: 13.1s\n",
      "5:\tlearn: 407.7285866\ttotal: 68.8ms\tremaining: 11.4s\n",
      "6:\tlearn: 402.6999214\ttotal: 71.3ms\tremaining: 10.1s\n",
      "7:\tlearn: 397.4711554\ttotal: 74ms\tremaining: 9.17s\n",
      "8:\tlearn: 392.5019077\ttotal: 76.4ms\tremaining: 8.41s\n",
      "9:\tlearn: 386.9350322\ttotal: 79.1ms\tremaining: 7.83s\n",
      "10:\tlearn: 381.6044691\ttotal: 81.7ms\tremaining: 7.34s\n",
      "11:\tlearn: 376.3829594\ttotal: 85.1ms\tremaining: 7.01s\n",
      "12:\tlearn: 371.5857221\ttotal: 88.7ms\tremaining: 6.73s\n",
      "13:\tlearn: 367.3826656\ttotal: 90.7ms\tremaining: 6.39s\n",
      "14:\tlearn: 362.7543396\ttotal: 93.6ms\tremaining: 6.15s\n",
      "15:\tlearn: 358.3970231\ttotal: 96.7ms\tremaining: 5.95s\n",
      "16:\tlearn: 353.7775269\ttotal: 100ms\tremaining: 5.79s\n",
      "17:\tlearn: 349.3496767\ttotal: 102ms\tremaining: 5.58s\n",
      "18:\tlearn: 345.2665713\ttotal: 105ms\tremaining: 5.4s\n",
      "19:\tlearn: 341.2664107\ttotal: 107ms\tremaining: 5.25s\n",
      "20:\tlearn: 337.3028938\ttotal: 110ms\tremaining: 5.12s\n",
      "21:\tlearn: 333.9477709\ttotal: 113ms\tremaining: 5.01s\n",
      "22:\tlearn: 330.0941143\ttotal: 116ms\tremaining: 4.92s\n",
      "23:\tlearn: 326.2146113\ttotal: 119ms\tremaining: 4.82s\n",
      "24:\tlearn: 323.1992141\ttotal: 121ms\tremaining: 4.71s\n",
      "25:\tlearn: 319.7365365\ttotal: 124ms\tremaining: 4.64s\n",
      "26:\tlearn: 316.2511889\ttotal: 127ms\tremaining: 4.59s\n",
      "27:\tlearn: 313.1256059\ttotal: 129ms\tremaining: 4.48s\n",
      "28:\tlearn: 309.8970696\ttotal: 131ms\tremaining: 4.38s\n",
      "29:\tlearn: 306.3265302\ttotal: 133ms\tremaining: 4.31s\n",
      "30:\tlearn: 303.1960447\ttotal: 136ms\tremaining: 4.25s\n",
      "31:\tlearn: 300.2750336\ttotal: 139ms\tremaining: 4.21s\n",
      "32:\tlearn: 297.4909968\ttotal: 142ms\tremaining: 4.15s\n",
      "33:\tlearn: 294.4619698\ttotal: 144ms\tremaining: 4.09s\n",
      "34:\tlearn: 291.5191075\ttotal: 146ms\tremaining: 4.01s\n",
      "35:\tlearn: 288.7892334\ttotal: 147ms\tremaining: 3.95s\n",
      "36:\tlearn: 285.7269944\ttotal: 149ms\tremaining: 3.88s\n",
      "37:\tlearn: 282.8632298\ttotal: 151ms\tremaining: 3.83s\n",
      "38:\tlearn: 280.1492046\ttotal: 153ms\tremaining: 3.78s\n",
      "39:\tlearn: 277.5973012\ttotal: 156ms\tremaining: 3.73s\n",
      "40:\tlearn: 274.6020751\ttotal: 157ms\tremaining: 3.67s\n",
      "41:\tlearn: 272.3657006\ttotal: 159ms\tremaining: 3.63s\n",
      "42:\tlearn: 269.8538724\ttotal: 161ms\tremaining: 3.59s\n",
      "43:\tlearn: 268.0820955\ttotal: 163ms\tremaining: 3.55s\n",
      "44:\tlearn: 265.9063294\ttotal: 165ms\tremaining: 3.51s\n",
      "45:\tlearn: 263.6506430\ttotal: 167ms\tremaining: 3.47s\n",
      "46:\tlearn: 261.5972180\ttotal: 169ms\tremaining: 3.44s\n",
      "47:\tlearn: 259.8030941\ttotal: 171ms\tremaining: 3.4s\n",
      "48:\tlearn: 258.1623067\ttotal: 173ms\tremaining: 3.36s\n",
      "49:\tlearn: 256.1802584\ttotal: 175ms\tremaining: 3.33s\n",
      "50:\tlearn: 253.6982417\ttotal: 177ms\tremaining: 3.3s\n",
      "51:\tlearn: 251.7625287\ttotal: 179ms\tremaining: 3.27s\n",
      "52:\tlearn: 249.8701440\ttotal: 181ms\tremaining: 3.24s\n",
      "53:\tlearn: 248.2583645\ttotal: 184ms\tremaining: 3.22s\n",
      "54:\tlearn: 246.3567380\ttotal: 185ms\tremaining: 3.19s\n",
      "55:\tlearn: 244.6195352\ttotal: 188ms\tremaining: 3.17s\n",
      "56:\tlearn: 242.8500511\ttotal: 191ms\tremaining: 3.15s\n",
      "57:\tlearn: 241.0575082\ttotal: 193ms\tremaining: 3.14s\n",
      "58:\tlearn: 239.3800235\ttotal: 196ms\tremaining: 3.13s\n",
      "59:\tlearn: 237.4248185\ttotal: 199ms\tremaining: 3.11s\n",
      "60:\tlearn: 235.8077891\ttotal: 201ms\tremaining: 3.09s\n",
      "61:\tlearn: 234.1972777\ttotal: 204ms\tremaining: 3.08s\n",
      "62:\tlearn: 232.7960069\ttotal: 205ms\tremaining: 3.05s\n",
      "63:\tlearn: 231.4219331\ttotal: 208ms\tremaining: 3.04s\n",
      "64:\tlearn: 229.9099828\ttotal: 209ms\tremaining: 3.01s\n",
      "65:\tlearn: 228.4174084\ttotal: 211ms\tremaining: 2.99s\n",
      "66:\tlearn: 226.7391510\ttotal: 213ms\tremaining: 2.97s\n",
      "67:\tlearn: 225.5485649\ttotal: 216ms\tremaining: 2.96s\n",
      "68:\tlearn: 224.1106460\ttotal: 219ms\tremaining: 2.95s\n",
      "69:\tlearn: 222.7917513\ttotal: 220ms\tremaining: 2.93s\n",
      "70:\tlearn: 221.5625467\ttotal: 222ms\tremaining: 2.91s\n",
      "71:\tlearn: 219.9861570\ttotal: 224ms\tremaining: 2.89s\n",
      "72:\tlearn: 218.6544890\ttotal: 226ms\tremaining: 2.88s\n",
      "73:\tlearn: 217.5844772\ttotal: 228ms\tremaining: 2.86s\n",
      "74:\tlearn: 216.4100400\ttotal: 230ms\tremaining: 2.84s\n",
      "75:\tlearn: 215.0590146\ttotal: 233ms\tremaining: 2.83s\n",
      "76:\tlearn: 213.8733902\ttotal: 235ms\tremaining: 2.82s\n",
      "77:\tlearn: 212.6864370\ttotal: 238ms\tremaining: 2.82s\n",
      "78:\tlearn: 211.6033977\ttotal: 242ms\tremaining: 2.82s\n",
      "79:\tlearn: 210.7914434\ttotal: 244ms\tremaining: 2.8s\n",
      "80:\tlearn: 209.5592180\ttotal: 246ms\tremaining: 2.79s\n",
      "81:\tlearn: 208.3792549\ttotal: 248ms\tremaining: 2.78s\n",
      "82:\tlearn: 207.2972922\ttotal: 251ms\tremaining: 2.77s\n",
      "83:\tlearn: 206.1931454\ttotal: 253ms\tremaining: 2.76s\n",
      "84:\tlearn: 205.0706036\ttotal: 256ms\tremaining: 2.75s\n",
      "85:\tlearn: 203.8244760\ttotal: 258ms\tremaining: 2.74s\n",
      "86:\tlearn: 202.8268163\ttotal: 260ms\tremaining: 2.73s\n",
      "87:\tlearn: 201.6998805\ttotal: 264ms\tremaining: 2.73s\n",
      "88:\tlearn: 200.7191479\ttotal: 267ms\tremaining: 2.73s\n",
      "89:\tlearn: 199.4012354\ttotal: 269ms\tremaining: 2.72s\n",
      "90:\tlearn: 197.8716762\ttotal: 272ms\tremaining: 2.71s\n",
      "91:\tlearn: 197.0532144\ttotal: 274ms\tremaining: 2.71s\n",
      "92:\tlearn: 196.0704732\ttotal: 278ms\tremaining: 2.71s\n",
      "93:\tlearn: 194.6855399\ttotal: 281ms\tremaining: 2.71s\n",
      "94:\tlearn: 193.5232667\ttotal: 284ms\tremaining: 2.71s\n",
      "95:\tlearn: 192.4253383\ttotal: 287ms\tremaining: 2.71s\n",
      "96:\tlearn: 191.6813065\ttotal: 290ms\tremaining: 2.7s\n",
      "97:\tlearn: 190.6678084\ttotal: 293ms\tremaining: 2.7s\n",
      "98:\tlearn: 189.8424871\ttotal: 295ms\tremaining: 2.68s\n",
      "99:\tlearn: 188.8633709\ttotal: 297ms\tremaining: 2.67s\n",
      "100:\tlearn: 187.6964626\ttotal: 300ms\tremaining: 2.67s\n",
      "101:\tlearn: 186.8257990\ttotal: 303ms\tremaining: 2.66s\n",
      "102:\tlearn: 186.0565239\ttotal: 305ms\tremaining: 2.66s\n",
      "103:\tlearn: 185.0643451\ttotal: 308ms\tremaining: 2.65s\n",
      "104:\tlearn: 184.4190434\ttotal: 310ms\tremaining: 2.64s\n",
      "105:\tlearn: 183.4735149\ttotal: 313ms\tremaining: 2.64s\n",
      "106:\tlearn: 182.6071996\ttotal: 316ms\tremaining: 2.63s\n",
      "107:\tlearn: 181.5894558\ttotal: 318ms\tremaining: 2.63s\n",
      "108:\tlearn: 180.5389919\ttotal: 321ms\tremaining: 2.62s\n",
      "109:\tlearn: 179.6328759\ttotal: 323ms\tremaining: 2.61s\n",
      "110:\tlearn: 178.9809455\ttotal: 325ms\tremaining: 2.61s\n",
      "111:\tlearn: 178.0901323\ttotal: 328ms\tremaining: 2.6s\n",
      "112:\tlearn: 177.4848322\ttotal: 331ms\tremaining: 2.6s\n",
      "113:\tlearn: 177.0417264\ttotal: 334ms\tremaining: 2.6s\n",
      "114:\tlearn: 176.2898056\ttotal: 337ms\tremaining: 2.6s\n",
      "115:\tlearn: 175.5080364\ttotal: 341ms\tremaining: 2.6s\n",
      "116:\tlearn: 174.7856410\ttotal: 344ms\tremaining: 2.59s\n",
      "117:\tlearn: 173.9929322\ttotal: 347ms\tremaining: 2.59s\n",
      "118:\tlearn: 173.2923793\ttotal: 349ms\tremaining: 2.58s\n",
      "119:\tlearn: 172.3437846\ttotal: 352ms\tremaining: 2.58s\n",
      "120:\tlearn: 171.7905604\ttotal: 355ms\tremaining: 2.58s\n",
      "121:\tlearn: 171.1809295\ttotal: 358ms\tremaining: 2.57s\n",
      "122:\tlearn: 170.6305219\ttotal: 360ms\tremaining: 2.57s\n",
      "123:\tlearn: 170.1659012\ttotal: 362ms\tremaining: 2.56s\n",
      "124:\tlearn: 169.1888384\ttotal: 364ms\tremaining: 2.55s\n",
      "125:\tlearn: 168.3948729\ttotal: 367ms\tremaining: 2.55s\n",
      "126:\tlearn: 167.7427196\ttotal: 370ms\tremaining: 2.55s\n",
      "127:\tlearn: 166.8364252\ttotal: 373ms\tremaining: 2.54s\n",
      "128:\tlearn: 166.2236048\ttotal: 374ms\tremaining: 2.53s\n",
      "129:\tlearn: 165.7754013\ttotal: 377ms\tremaining: 2.52s\n",
      "130:\tlearn: 165.2599856\ttotal: 380ms\tremaining: 2.52s\n",
      "131:\tlearn: 164.5357000\ttotal: 382ms\tremaining: 2.51s\n",
      "132:\tlearn: 163.8651121\ttotal: 385ms\tremaining: 2.51s\n",
      "133:\tlearn: 163.5635142\ttotal: 387ms\tremaining: 2.5s\n",
      "134:\tlearn: 163.0100657\ttotal: 388ms\tremaining: 2.49s\n",
      "135:\tlearn: 162.3369262\ttotal: 392ms\tremaining: 2.49s\n",
      "136:\tlearn: 161.7418564\ttotal: 394ms\tremaining: 2.48s\n",
      "137:\tlearn: 161.0277185\ttotal: 396ms\tremaining: 2.47s\n",
      "138:\tlearn: 160.3964571\ttotal: 399ms\tremaining: 2.47s\n",
      "139:\tlearn: 159.8658269\ttotal: 400ms\tremaining: 2.46s\n",
      "140:\tlearn: 159.1434019\ttotal: 402ms\tremaining: 2.45s\n",
      "141:\tlearn: 159.0025772\ttotal: 405ms\tremaining: 2.45s\n",
      "142:\tlearn: 158.5264143\ttotal: 408ms\tremaining: 2.44s\n",
      "143:\tlearn: 157.8711204\ttotal: 410ms\tremaining: 2.44s\n",
      "144:\tlearn: 157.2058247\ttotal: 412ms\tremaining: 2.43s\n",
      "145:\tlearn: 156.5483629\ttotal: 415ms\tremaining: 2.42s\n",
      "146:\tlearn: 155.7654150\ttotal: 417ms\tremaining: 2.42s\n",
      "147:\tlearn: 155.6022136\ttotal: 420ms\tremaining: 2.42s\n",
      "148:\tlearn: 155.2097441\ttotal: 423ms\tremaining: 2.41s\n",
      "149:\tlearn: 154.7639157\ttotal: 426ms\tremaining: 2.41s\n",
      "150:\tlearn: 154.0586675\ttotal: 428ms\tremaining: 2.41s\n",
      "151:\tlearn: 153.5405500\ttotal: 431ms\tremaining: 2.4s\n",
      "152:\tlearn: 153.0638238\ttotal: 433ms\tremaining: 2.4s\n",
      "153:\tlearn: 152.5877216\ttotal: 436ms\tremaining: 2.4s\n",
      "154:\tlearn: 152.3669911\ttotal: 439ms\tremaining: 2.39s\n",
      "155:\tlearn: 151.7737104\ttotal: 441ms\tremaining: 2.39s\n",
      "156:\tlearn: 151.4040054\ttotal: 446ms\tremaining: 2.4s\n",
      "157:\tlearn: 150.9254358\ttotal: 449ms\tremaining: 2.39s\n",
      "158:\tlearn: 150.4695765\ttotal: 452ms\tremaining: 2.39s\n",
      "159:\tlearn: 150.2863112\ttotal: 455ms\tremaining: 2.39s\n",
      "160:\tlearn: 149.9030850\ttotal: 457ms\tremaining: 2.38s\n",
      "161:\tlearn: 149.4741917\ttotal: 461ms\tremaining: 2.38s\n",
      "162:\tlearn: 148.8274126\ttotal: 464ms\tremaining: 2.38s\n",
      "163:\tlearn: 148.4111704\ttotal: 467ms\tremaining: 2.38s\n",
      "164:\tlearn: 147.8586324\ttotal: 471ms\tremaining: 2.38s\n",
      "165:\tlearn: 147.1460485\ttotal: 474ms\tremaining: 2.38s\n",
      "166:\tlearn: 146.6804015\ttotal: 477ms\tremaining: 2.38s\n",
      "167:\tlearn: 145.8792667\ttotal: 479ms\tremaining: 2.37s\n",
      "168:\tlearn: 145.7422220\ttotal: 482ms\tremaining: 2.37s\n",
      "169:\tlearn: 145.4271906\ttotal: 485ms\tremaining: 2.37s\n",
      "170:\tlearn: 144.8387138\ttotal: 487ms\tremaining: 2.36s\n",
      "171:\tlearn: 144.3067733\ttotal: 490ms\tremaining: 2.36s\n",
      "172:\tlearn: 143.9353414\ttotal: 492ms\tremaining: 2.35s\n",
      "173:\tlearn: 143.5992989\ttotal: 495ms\tremaining: 2.35s\n",
      "174:\tlearn: 143.0356531\ttotal: 498ms\tremaining: 2.35s\n",
      "175:\tlearn: 142.8415360\ttotal: 501ms\tremaining: 2.35s\n",
      "176:\tlearn: 142.3827311\ttotal: 503ms\tremaining: 2.34s\n",
      "177:\tlearn: 141.8469267\ttotal: 506ms\tremaining: 2.33s\n",
      "178:\tlearn: 141.3633435\ttotal: 509ms\tremaining: 2.33s\n",
      "179:\tlearn: 140.6493307\ttotal: 511ms\tremaining: 2.33s\n",
      "180:\tlearn: 140.3244786\ttotal: 513ms\tremaining: 2.32s\n",
      "181:\tlearn: 139.8600455\ttotal: 517ms\tremaining: 2.32s\n",
      "182:\tlearn: 139.1396686\ttotal: 520ms\tremaining: 2.32s\n",
      "183:\tlearn: 138.5404043\ttotal: 523ms\tremaining: 2.32s\n",
      "184:\tlearn: 138.0104562\ttotal: 525ms\tremaining: 2.31s\n",
      "185:\tlearn: 137.3944797\ttotal: 528ms\tremaining: 2.31s\n",
      "186:\tlearn: 137.1946762\ttotal: 530ms\tremaining: 2.31s\n",
      "187:\tlearn: 136.7510242\ttotal: 532ms\tremaining: 2.3s\n",
      "188:\tlearn: 136.2056194\ttotal: 535ms\tremaining: 2.3s\n",
      "189:\tlearn: 135.9791181\ttotal: 538ms\tremaining: 2.29s\n",
      "190:\tlearn: 135.5197910\ttotal: 540ms\tremaining: 2.29s\n",
      "191:\tlearn: 134.8427138\ttotal: 542ms\tremaining: 2.28s\n",
      "192:\tlearn: 134.5028816\ttotal: 544ms\tremaining: 2.27s\n",
      "193:\tlearn: 134.4102445\ttotal: 545ms\tremaining: 2.26s\n",
      "194:\tlearn: 134.1332475\ttotal: 547ms\tremaining: 2.26s\n",
      "195:\tlearn: 133.7938587\ttotal: 550ms\tremaining: 2.25s\n",
      "196:\tlearn: 133.1854695\ttotal: 552ms\tremaining: 2.25s\n",
      "197:\tlearn: 132.7654982\ttotal: 554ms\tremaining: 2.24s\n",
      "198:\tlearn: 132.5667663\ttotal: 556ms\tremaining: 2.24s\n",
      "199:\tlearn: 132.3795792\ttotal: 558ms\tremaining: 2.23s\n",
      "200:\tlearn: 131.7521754\ttotal: 560ms\tremaining: 2.23s\n",
      "201:\tlearn: 131.6419191\ttotal: 563ms\tremaining: 2.22s\n",
      "202:\tlearn: 131.2883359\ttotal: 565ms\tremaining: 2.22s\n",
      "203:\tlearn: 131.1673878\ttotal: 567ms\tremaining: 2.21s\n",
      "204:\tlearn: 131.0171744\ttotal: 569ms\tremaining: 2.21s\n",
      "205:\tlearn: 130.6163994\ttotal: 572ms\tremaining: 2.2s\n",
      "206:\tlearn: 130.1836039\ttotal: 575ms\tremaining: 2.2s\n",
      "207:\tlearn: 129.7299069\ttotal: 578ms\tremaining: 2.2s\n",
      "208:\tlearn: 129.4205309\ttotal: 580ms\tremaining: 2.2s\n",
      "209:\tlearn: 128.8451944\ttotal: 582ms\tremaining: 2.19s\n",
      "210:\tlearn: 128.6717001\ttotal: 584ms\tremaining: 2.19s\n",
      "211:\tlearn: 128.3199121\ttotal: 587ms\tremaining: 2.18s\n",
      "212:\tlearn: 127.3117518\ttotal: 589ms\tremaining: 2.17s\n",
      "213:\tlearn: 127.0337039\ttotal: 591ms\tremaining: 2.17s\n",
      "214:\tlearn: 126.9133901\ttotal: 592ms\tremaining: 2.16s\n",
      "215:\tlearn: 126.7289987\ttotal: 595ms\tremaining: 2.16s\n",
      "216:\tlearn: 126.3233581\ttotal: 598ms\tremaining: 2.16s\n",
      "217:\tlearn: 126.0411464\ttotal: 599ms\tremaining: 2.15s\n",
      "218:\tlearn: 125.9262219\ttotal: 601ms\tremaining: 2.14s\n",
      "219:\tlearn: 125.6464032\ttotal: 603ms\tremaining: 2.14s\n",
      "220:\tlearn: 125.4182045\ttotal: 605ms\tremaining: 2.13s\n",
      "221:\tlearn: 124.8999025\ttotal: 607ms\tremaining: 2.13s\n",
      "222:\tlearn: 124.6137169\ttotal: 609ms\tremaining: 2.12s\n",
      "223:\tlearn: 124.0323472\ttotal: 612ms\tremaining: 2.12s\n",
      "224:\tlearn: 123.5529484\ttotal: 614ms\tremaining: 2.12s\n",
      "225:\tlearn: 123.0747654\ttotal: 617ms\tremaining: 2.11s\n",
      "226:\tlearn: 122.9683890\ttotal: 620ms\tremaining: 2.11s\n",
      "227:\tlearn: 122.3226045\ttotal: 623ms\tremaining: 2.11s\n",
      "228:\tlearn: 121.6144213\ttotal: 625ms\tremaining: 2.1s\n",
      "229:\tlearn: 121.3342333\ttotal: 628ms\tremaining: 2.1s\n",
      "230:\tlearn: 120.9674744\ttotal: 631ms\tremaining: 2.1s\n",
      "231:\tlearn: 120.8821382\ttotal: 634ms\tremaining: 2.1s\n",
      "232:\tlearn: 120.0989835\ttotal: 637ms\tremaining: 2.1s\n",
      "233:\tlearn: 119.2477819\ttotal: 639ms\tremaining: 2.09s\n",
      "234:\tlearn: 118.5548275\ttotal: 642ms\tremaining: 2.09s\n",
      "235:\tlearn: 118.4631769\ttotal: 646ms\tremaining: 2.09s\n",
      "236:\tlearn: 118.0297863\ttotal: 648ms\tremaining: 2.09s\n",
      "237:\tlearn: 117.9071604\ttotal: 652ms\tremaining: 2.09s\n",
      "238:\tlearn: 117.6856679\ttotal: 654ms\tremaining: 2.08s\n",
      "239:\tlearn: 116.8584895\ttotal: 658ms\tremaining: 2.08s\n",
      "240:\tlearn: 116.2306585\ttotal: 661ms\tremaining: 2.08s\n",
      "241:\tlearn: 115.9195376\ttotal: 665ms\tremaining: 2.08s\n",
      "242:\tlearn: 115.6014983\ttotal: 668ms\tremaining: 2.08s\n",
      "243:\tlearn: 115.1045647\ttotal: 671ms\tremaining: 2.08s\n",
      "244:\tlearn: 114.8245226\ttotal: 675ms\tremaining: 2.08s\n",
      "245:\tlearn: 114.7335903\ttotal: 678ms\tremaining: 2.08s\n",
      "246:\tlearn: 113.9889264\ttotal: 680ms\tremaining: 2.07s\n",
      "247:\tlearn: 113.7701652\ttotal: 683ms\tremaining: 2.07s\n",
      "248:\tlearn: 113.4995295\ttotal: 685ms\tremaining: 2.07s\n",
      "249:\tlearn: 113.0888477\ttotal: 689ms\tremaining: 2.06s\n",
      "250:\tlearn: 112.4722701\ttotal: 692ms\tremaining: 2.06s\n",
      "251:\tlearn: 111.8259810\ttotal: 693ms\tremaining: 2.06s\n",
      "252:\tlearn: 111.3599827\ttotal: 696ms\tremaining: 2.05s\n",
      "253:\tlearn: 111.1503505\ttotal: 700ms\tremaining: 2.06s\n",
      "254:\tlearn: 110.6038258\ttotal: 703ms\tremaining: 2.06s\n",
      "255:\tlearn: 110.5410307\ttotal: 706ms\tremaining: 2.05s\n",
      "256:\tlearn: 110.3055918\ttotal: 708ms\tremaining: 2.05s\n",
      "257:\tlearn: 109.9724485\ttotal: 710ms\tremaining: 2.04s\n",
      "258:\tlearn: 109.5955219\ttotal: 713ms\tremaining: 2.04s\n",
      "259:\tlearn: 109.1325924\ttotal: 716ms\tremaining: 2.04s\n",
      "260:\tlearn: 108.6174981\ttotal: 718ms\tremaining: 2.03s\n",
      "261:\tlearn: 108.1460210\ttotal: 720ms\tremaining: 2.03s\n",
      "262:\tlearn: 107.9298789\ttotal: 723ms\tremaining: 2.02s\n",
      "263:\tlearn: 107.3726731\ttotal: 726ms\tremaining: 2.02s\n",
      "264:\tlearn: 106.8902989\ttotal: 729ms\tremaining: 2.02s\n",
      "265:\tlearn: 106.5173641\ttotal: 731ms\tremaining: 2.02s\n",
      "266:\tlearn: 106.2934941\ttotal: 734ms\tremaining: 2.02s\n",
      "267:\tlearn: 105.7527815\ttotal: 736ms\tremaining: 2.01s\n",
      "268:\tlearn: 105.3435506\ttotal: 739ms\tremaining: 2.01s\n",
      "269:\tlearn: 105.1731833\ttotal: 740ms\tremaining: 2s\n",
      "270:\tlearn: 104.6300008\ttotal: 743ms\tremaining: 2s\n",
      "271:\tlearn: 104.1783797\ttotal: 745ms\tremaining: 2s\n",
      "272:\tlearn: 104.0769529\ttotal: 747ms\tremaining: 1.99s\n",
      "273:\tlearn: 103.8881298\ttotal: 750ms\tremaining: 1.99s\n",
      "274:\tlearn: 103.4150557\ttotal: 753ms\tremaining: 1.98s\n",
      "275:\tlearn: 102.9958096\ttotal: 755ms\tremaining: 1.98s\n",
      "276:\tlearn: 102.4597458\ttotal: 758ms\tremaining: 1.98s\n",
      "277:\tlearn: 102.3416481\ttotal: 760ms\tremaining: 1.97s\n",
      "278:\tlearn: 102.2020650\ttotal: 762ms\tremaining: 1.97s\n",
      "279:\tlearn: 101.8019529\ttotal: 764ms\tremaining: 1.97s\n",
      "280:\tlearn: 101.4017508\ttotal: 767ms\tremaining: 1.96s\n",
      "281:\tlearn: 101.1047034\ttotal: 769ms\tremaining: 1.96s\n",
      "282:\tlearn: 100.5903488\ttotal: 772ms\tremaining: 1.96s\n",
      "283:\tlearn: 100.1456338\ttotal: 775ms\tremaining: 1.95s\n",
      "284:\tlearn: 99.6568638\ttotal: 780ms\tremaining: 1.96s\n",
      "285:\tlearn: 99.1812151\ttotal: 782ms\tremaining: 1.95s\n",
      "286:\tlearn: 98.9616805\ttotal: 784ms\tremaining: 1.95s\n",
      "287:\tlearn: 98.7427082\ttotal: 786ms\tremaining: 1.94s\n",
      "288:\tlearn: 98.2662664\ttotal: 789ms\tremaining: 1.94s\n",
      "289:\tlearn: 98.1462801\ttotal: 791ms\tremaining: 1.94s\n",
      "290:\tlearn: 97.6784218\ttotal: 793ms\tremaining: 1.93s\n",
      "291:\tlearn: 97.1790960\ttotal: 795ms\tremaining: 1.93s\n",
      "292:\tlearn: 97.0938684\ttotal: 797ms\tremaining: 1.92s\n",
      "293:\tlearn: 96.5875971\ttotal: 800ms\tremaining: 1.92s\n",
      "294:\tlearn: 96.1204974\ttotal: 803ms\tremaining: 1.92s\n",
      "295:\tlearn: 95.6653886\ttotal: 805ms\tremaining: 1.92s\n",
      "296:\tlearn: 95.5981714\ttotal: 808ms\tremaining: 1.91s\n",
      "297:\tlearn: 95.0710561\ttotal: 811ms\tremaining: 1.91s\n",
      "298:\tlearn: 95.0057116\ttotal: 813ms\tremaining: 1.91s\n",
      "299:\tlearn: 94.8397463\ttotal: 816ms\tremaining: 1.9s\n",
      "300:\tlearn: 94.3955310\ttotal: 818ms\tremaining: 1.9s\n",
      "301:\tlearn: 94.2540762\ttotal: 821ms\tremaining: 1.9s\n",
      "302:\tlearn: 94.0028974\ttotal: 824ms\tremaining: 1.9s\n",
      "303:\tlearn: 93.9318931\ttotal: 827ms\tremaining: 1.89s\n",
      "304:\tlearn: 93.3072469\ttotal: 830ms\tremaining: 1.89s\n",
      "305:\tlearn: 92.8595101\ttotal: 832ms\tremaining: 1.89s\n",
      "306:\tlearn: 92.6855824\ttotal: 835ms\tremaining: 1.89s\n",
      "307:\tlearn: 92.5328302\ttotal: 837ms\tremaining: 1.88s\n",
      "308:\tlearn: 92.1191057\ttotal: 840ms\tremaining: 1.88s\n",
      "309:\tlearn: 91.7147081\ttotal: 843ms\tremaining: 1.88s\n",
      "310:\tlearn: 91.3418757\ttotal: 846ms\tremaining: 1.87s\n",
      "311:\tlearn: 91.0337969\ttotal: 849ms\tremaining: 1.87s\n",
      "312:\tlearn: 90.5685784\ttotal: 852ms\tremaining: 1.87s\n",
      "313:\tlearn: 90.3704046\ttotal: 857ms\tremaining: 1.87s\n",
      "314:\tlearn: 90.2054412\ttotal: 860ms\tremaining: 1.87s\n",
      "315:\tlearn: 89.7407685\ttotal: 862ms\tremaining: 1.87s\n",
      "316:\tlearn: 89.3931640\ttotal: 866ms\tremaining: 1.86s\n",
      "317:\tlearn: 89.1688430\ttotal: 869ms\tremaining: 1.86s\n",
      "318:\tlearn: 88.8130341\ttotal: 871ms\tremaining: 1.86s\n",
      "319:\tlearn: 88.6831328\ttotal: 873ms\tremaining: 1.85s\n",
      "320:\tlearn: 88.3401907\ttotal: 875ms\tremaining: 1.85s\n",
      "321:\tlearn: 87.9404381\ttotal: 878ms\tremaining: 1.85s\n",
      "322:\tlearn: 87.8629457\ttotal: 881ms\tremaining: 1.84s\n",
      "323:\tlearn: 87.6778217\ttotal: 884ms\tremaining: 1.84s\n",
      "324:\tlearn: 87.5941441\ttotal: 886ms\tremaining: 1.84s\n",
      "325:\tlearn: 87.2119497\ttotal: 888ms\tremaining: 1.83s\n",
      "326:\tlearn: 86.9299604\ttotal: 890ms\tremaining: 1.83s\n",
      "327:\tlearn: 86.5534532\ttotal: 892ms\tremaining: 1.83s\n",
      "328:\tlearn: 86.1855698\ttotal: 895ms\tremaining: 1.83s\n",
      "329:\tlearn: 85.8041628\ttotal: 898ms\tremaining: 1.82s\n",
      "330:\tlearn: 85.4614965\ttotal: 901ms\tremaining: 1.82s\n",
      "331:\tlearn: 85.1087883\ttotal: 903ms\tremaining: 1.82s\n",
      "332:\tlearn: 84.8532810\ttotal: 905ms\tremaining: 1.81s\n",
      "333:\tlearn: 84.7320638\ttotal: 908ms\tremaining: 1.81s\n",
      "334:\tlearn: 84.4113683\ttotal: 911ms\tremaining: 1.81s\n",
      "335:\tlearn: 84.3077044\ttotal: 913ms\tremaining: 1.8s\n",
      "336:\tlearn: 83.9515942\ttotal: 915ms\tremaining: 1.8s\n",
      "337:\tlearn: 83.7246051\ttotal: 917ms\tremaining: 1.79s\n",
      "338:\tlearn: 83.4377272\ttotal: 919ms\tremaining: 1.79s\n",
      "339:\tlearn: 83.3155718\ttotal: 922ms\tremaining: 1.79s\n",
      "340:\tlearn: 83.2340219\ttotal: 923ms\tremaining: 1.78s\n",
      "341:\tlearn: 83.1781418\ttotal: 926ms\tremaining: 1.78s\n",
      "342:\tlearn: 82.8595214\ttotal: 927ms\tremaining: 1.78s\n",
      "343:\tlearn: 82.5038616\ttotal: 930ms\tremaining: 1.77s\n",
      "344:\tlearn: 82.2309381\ttotal: 933ms\tremaining: 1.77s\n",
      "345:\tlearn: 82.0770899\ttotal: 936ms\tremaining: 1.77s\n",
      "346:\tlearn: 81.7604068\ttotal: 938ms\tremaining: 1.76s\n",
      "347:\tlearn: 81.4902191\ttotal: 940ms\tremaining: 1.76s\n",
      "348:\tlearn: 81.2036135\ttotal: 942ms\tremaining: 1.76s\n",
      "349:\tlearn: 81.1362314\ttotal: 944ms\tremaining: 1.75s\n",
      "350:\tlearn: 81.0282320\ttotal: 946ms\tremaining: 1.75s\n",
      "351:\tlearn: 80.6344967\ttotal: 948ms\tremaining: 1.74s\n",
      "352:\tlearn: 80.2825171\ttotal: 950ms\tremaining: 1.74s\n",
      "353:\tlearn: 79.9561379\ttotal: 952ms\tremaining: 1.74s\n",
      "354:\tlearn: 79.6416209\ttotal: 955ms\tremaining: 1.73s\n",
      "355:\tlearn: 79.2965330\ttotal: 958ms\tremaining: 1.73s\n",
      "356:\tlearn: 78.9026768\ttotal: 960ms\tremaining: 1.73s\n",
      "357:\tlearn: 78.6106612\ttotal: 963ms\tremaining: 1.73s\n",
      "358:\tlearn: 78.3648691\ttotal: 965ms\tremaining: 1.72s\n",
      "359:\tlearn: 77.9614893\ttotal: 968ms\tremaining: 1.72s\n",
      "360:\tlearn: 77.5751324\ttotal: 970ms\tremaining: 1.72s\n",
      "361:\tlearn: 77.4466572\ttotal: 972ms\tremaining: 1.71s\n",
      "362:\tlearn: 77.0154440\ttotal: 974ms\tremaining: 1.71s\n",
      "363:\tlearn: 76.6033791\ttotal: 976ms\tremaining: 1.71s\n",
      "364:\tlearn: 76.2250347\ttotal: 979ms\tremaining: 1.7s\n",
      "365:\tlearn: 75.9191689\ttotal: 982ms\tremaining: 1.7s\n",
      "366:\tlearn: 75.7529686\ttotal: 985ms\tremaining: 1.7s\n",
      "367:\tlearn: 75.6131632\ttotal: 988ms\tremaining: 1.7s\n",
      "368:\tlearn: 75.4646229\ttotal: 990ms\tremaining: 1.69s\n",
      "369:\tlearn: 75.4102385\ttotal: 993ms\tremaining: 1.69s\n",
      "370:\tlearn: 75.1192538\ttotal: 996ms\tremaining: 1.69s\n",
      "371:\tlearn: 74.8949585\ttotal: 999ms\tremaining: 1.69s\n",
      "372:\tlearn: 74.5813611\ttotal: 1s\tremaining: 1.68s\n",
      "373:\tlearn: 74.2701062\ttotal: 1s\tremaining: 1.68s\n",
      "374:\tlearn: 73.9143111\ttotal: 1.01s\tremaining: 1.68s\n",
      "375:\tlearn: 73.6252029\ttotal: 1.01s\tremaining: 1.68s\n",
      "376:\tlearn: 73.4763139\ttotal: 1.01s\tremaining: 1.67s\n",
      "377:\tlearn: 73.1518627\ttotal: 1.01s\tremaining: 1.67s\n",
      "378:\tlearn: 72.7509169\ttotal: 1.02s\tremaining: 1.67s\n",
      "379:\tlearn: 72.6970762\ttotal: 1.02s\tremaining: 1.67s\n",
      "380:\tlearn: 72.3184621\ttotal: 1.02s\tremaining: 1.66s\n",
      "381:\tlearn: 72.0829848\ttotal: 1.03s\tremaining: 1.66s\n",
      "382:\tlearn: 71.8261224\ttotal: 1.03s\tremaining: 1.66s\n",
      "383:\tlearn: 71.7819815\ttotal: 1.03s\tremaining: 1.66s\n",
      "384:\tlearn: 71.6029916\ttotal: 1.04s\tremaining: 1.66s\n",
      "385:\tlearn: 71.3296740\ttotal: 1.04s\tremaining: 1.65s\n",
      "386:\tlearn: 71.1817476\ttotal: 1.04s\tremaining: 1.65s\n",
      "387:\tlearn: 70.9080395\ttotal: 1.04s\tremaining: 1.65s\n",
      "388:\tlearn: 70.6539092\ttotal: 1.05s\tremaining: 1.65s\n",
      "389:\tlearn: 70.4661947\ttotal: 1.05s\tremaining: 1.64s\n",
      "390:\tlearn: 70.1920476\ttotal: 1.05s\tremaining: 1.64s\n",
      "391:\tlearn: 69.9233456\ttotal: 1.05s\tremaining: 1.64s\n",
      "392:\tlearn: 69.6189921\ttotal: 1.06s\tremaining: 1.63s\n",
      "393:\tlearn: 69.3821059\ttotal: 1.06s\tremaining: 1.63s\n",
      "394:\tlearn: 69.3306467\ttotal: 1.06s\tremaining: 1.63s\n",
      "395:\tlearn: 69.1474505\ttotal: 1.07s\tremaining: 1.63s\n",
      "396:\tlearn: 68.8436797\ttotal: 1.07s\tremaining: 1.62s\n",
      "397:\tlearn: 68.6360520\ttotal: 1.07s\tremaining: 1.62s\n",
      "398:\tlearn: 68.4548856\ttotal: 1.07s\tremaining: 1.62s\n",
      "399:\tlearn: 68.1099786\ttotal: 1.08s\tremaining: 1.61s\n",
      "400:\tlearn: 68.0103481\ttotal: 1.08s\tremaining: 1.61s\n",
      "401:\tlearn: 67.7863960\ttotal: 1.08s\tremaining: 1.61s\n",
      "402:\tlearn: 67.4954413\ttotal: 1.08s\tremaining: 1.61s\n",
      "403:\tlearn: 67.2875528\ttotal: 1.09s\tremaining: 1.6s\n",
      "404:\tlearn: 67.0519157\ttotal: 1.09s\tremaining: 1.6s\n",
      "405:\tlearn: 66.7657054\ttotal: 1.09s\tremaining: 1.6s\n",
      "406:\tlearn: 66.4762795\ttotal: 1.09s\tremaining: 1.6s\n",
      "407:\tlearn: 66.2846792\ttotal: 1.1s\tremaining: 1.59s\n",
      "408:\tlearn: 66.1020319\ttotal: 1.1s\tremaining: 1.59s\n",
      "409:\tlearn: 65.8009694\ttotal: 1.1s\tremaining: 1.58s\n",
      "410:\tlearn: 65.5649438\ttotal: 1.1s\tremaining: 1.58s\n",
      "411:\tlearn: 65.2723124\ttotal: 1.1s\tremaining: 1.58s\n",
      "412:\tlearn: 65.2335528\ttotal: 1.11s\tremaining: 1.57s\n",
      "413:\tlearn: 65.1313885\ttotal: 1.11s\tremaining: 1.57s\n",
      "414:\tlearn: 64.8500259\ttotal: 1.11s\tremaining: 1.57s\n",
      "415:\tlearn: 64.7608580\ttotal: 1.11s\tremaining: 1.56s\n",
      "416:\tlearn: 64.7016889\ttotal: 1.12s\tremaining: 1.56s\n",
      "417:\tlearn: 64.4848485\ttotal: 1.12s\tremaining: 1.56s\n",
      "418:\tlearn: 64.4376173\ttotal: 1.12s\tremaining: 1.56s\n",
      "419:\tlearn: 64.3076045\ttotal: 1.12s\tremaining: 1.55s\n",
      "420:\tlearn: 64.0339872\ttotal: 1.13s\tremaining: 1.55s\n",
      "421:\tlearn: 63.8529325\ttotal: 1.13s\tremaining: 1.55s\n",
      "422:\tlearn: 63.7939771\ttotal: 1.13s\tremaining: 1.54s\n",
      "423:\tlearn: 63.5604781\ttotal: 1.13s\tremaining: 1.54s\n",
      "424:\tlearn: 63.3591974\ttotal: 1.14s\tremaining: 1.54s\n",
      "425:\tlearn: 63.1149954\ttotal: 1.14s\tremaining: 1.53s\n",
      "426:\tlearn: 62.9791017\ttotal: 1.14s\tremaining: 1.53s\n",
      "427:\tlearn: 62.6749445\ttotal: 1.15s\tremaining: 1.53s\n",
      "428:\tlearn: 62.3433888\ttotal: 1.15s\tremaining: 1.53s\n",
      "429:\tlearn: 62.1235483\ttotal: 1.15s\tremaining: 1.52s\n",
      "430:\tlearn: 61.9709582\ttotal: 1.15s\tremaining: 1.52s\n",
      "431:\tlearn: 61.7256889\ttotal: 1.15s\tremaining: 1.52s\n",
      "432:\tlearn: 61.4684292\ttotal: 1.16s\tremaining: 1.51s\n",
      "433:\tlearn: 61.2014745\ttotal: 1.16s\tremaining: 1.51s\n",
      "434:\tlearn: 60.9472230\ttotal: 1.16s\tremaining: 1.51s\n",
      "435:\tlearn: 60.7868189\ttotal: 1.17s\tremaining: 1.51s\n",
      "436:\tlearn: 60.4845228\ttotal: 1.17s\tremaining: 1.5s\n",
      "437:\tlearn: 60.2664287\ttotal: 1.17s\tremaining: 1.5s\n",
      "438:\tlearn: 60.2347454\ttotal: 1.17s\tremaining: 1.5s\n",
      "439:\tlearn: 60.1773204\ttotal: 1.18s\tremaining: 1.5s\n",
      "440:\tlearn: 59.8510752\ttotal: 1.18s\tremaining: 1.49s\n",
      "441:\tlearn: 59.5917388\ttotal: 1.18s\tremaining: 1.49s\n",
      "442:\tlearn: 59.3770756\ttotal: 1.18s\tremaining: 1.49s\n",
      "443:\tlearn: 59.2118321\ttotal: 1.19s\tremaining: 1.48s\n",
      "444:\tlearn: 58.9852351\ttotal: 1.19s\tremaining: 1.48s\n",
      "445:\tlearn: 58.7484192\ttotal: 1.19s\tremaining: 1.48s\n",
      "446:\tlearn: 58.5839617\ttotal: 1.19s\tremaining: 1.48s\n",
      "447:\tlearn: 58.3131175\ttotal: 1.2s\tremaining: 1.47s\n",
      "448:\tlearn: 58.2289341\ttotal: 1.2s\tremaining: 1.47s\n",
      "449:\tlearn: 57.8300839\ttotal: 1.2s\tremaining: 1.47s\n",
      "450:\tlearn: 57.5923157\ttotal: 1.2s\tremaining: 1.47s\n",
      "451:\tlearn: 57.5566358\ttotal: 1.21s\tremaining: 1.46s\n",
      "452:\tlearn: 57.3908060\ttotal: 1.21s\tremaining: 1.46s\n",
      "453:\tlearn: 57.1151705\ttotal: 1.21s\tremaining: 1.46s\n",
      "454:\tlearn: 56.8846862\ttotal: 1.22s\tremaining: 1.46s\n",
      "455:\tlearn: 56.5913487\ttotal: 1.22s\tremaining: 1.46s\n",
      "456:\tlearn: 56.4553243\ttotal: 1.22s\tremaining: 1.45s\n",
      "457:\tlearn: 56.2285779\ttotal: 1.23s\tremaining: 1.45s\n",
      "458:\tlearn: 56.0676681\ttotal: 1.23s\tremaining: 1.45s\n",
      "459:\tlearn: 56.0267987\ttotal: 1.23s\tremaining: 1.44s\n",
      "460:\tlearn: 55.9611718\ttotal: 1.23s\tremaining: 1.44s\n",
      "461:\tlearn: 55.8165952\ttotal: 1.24s\tremaining: 1.44s\n",
      "462:\tlearn: 55.7533115\ttotal: 1.24s\tremaining: 1.44s\n",
      "463:\tlearn: 55.5064218\ttotal: 1.24s\tremaining: 1.43s\n",
      "464:\tlearn: 55.3431822\ttotal: 1.24s\tremaining: 1.43s\n",
      "465:\tlearn: 55.3140748\ttotal: 1.25s\tremaining: 1.43s\n",
      "466:\tlearn: 55.0892697\ttotal: 1.25s\tremaining: 1.42s\n",
      "467:\tlearn: 55.0201817\ttotal: 1.25s\tremaining: 1.42s\n",
      "468:\tlearn: 54.9543337\ttotal: 1.25s\tremaining: 1.42s\n",
      "469:\tlearn: 54.7280129\ttotal: 1.25s\tremaining: 1.41s\n",
      "470:\tlearn: 54.5169553\ttotal: 1.25s\tremaining: 1.41s\n",
      "471:\tlearn: 54.4365245\ttotal: 1.26s\tremaining: 1.41s\n",
      "472:\tlearn: 54.1292707\ttotal: 1.26s\tremaining: 1.4s\n",
      "473:\tlearn: 54.0293814\ttotal: 1.26s\tremaining: 1.4s\n",
      "474:\tlearn: 53.7805879\ttotal: 1.26s\tremaining: 1.4s\n",
      "475:\tlearn: 53.5597568\ttotal: 1.26s\tremaining: 1.39s\n",
      "476:\tlearn: 53.3982484\ttotal: 1.27s\tremaining: 1.39s\n",
      "477:\tlearn: 53.1220252\ttotal: 1.27s\tremaining: 1.39s\n",
      "478:\tlearn: 53.0963801\ttotal: 1.27s\tremaining: 1.38s\n",
      "479:\tlearn: 52.9605610\ttotal: 1.27s\tremaining: 1.38s\n",
      "480:\tlearn: 52.7158069\ttotal: 1.27s\tremaining: 1.38s\n",
      "481:\tlearn: 52.4315327\ttotal: 1.28s\tremaining: 1.37s\n",
      "482:\tlearn: 52.2294534\ttotal: 1.28s\tremaining: 1.37s\n",
      "483:\tlearn: 51.9929199\ttotal: 1.28s\tremaining: 1.37s\n",
      "484:\tlearn: 51.8769438\ttotal: 1.28s\tremaining: 1.36s\n",
      "485:\tlearn: 51.6781118\ttotal: 1.28s\tremaining: 1.36s\n",
      "486:\tlearn: 51.4640537\ttotal: 1.29s\tremaining: 1.36s\n",
      "487:\tlearn: 51.3005547\ttotal: 1.29s\tremaining: 1.35s\n",
      "488:\tlearn: 51.2724146\ttotal: 1.29s\tremaining: 1.35s\n",
      "489:\tlearn: 51.1677547\ttotal: 1.29s\tremaining: 1.35s\n",
      "490:\tlearn: 51.0863080\ttotal: 1.3s\tremaining: 1.34s\n",
      "491:\tlearn: 50.9567124\ttotal: 1.3s\tremaining: 1.34s\n",
      "492:\tlearn: 50.9202277\ttotal: 1.3s\tremaining: 1.34s\n",
      "493:\tlearn: 50.7569929\ttotal: 1.3s\tremaining: 1.33s\n",
      "494:\tlearn: 50.5542677\ttotal: 1.3s\tremaining: 1.33s\n",
      "495:\tlearn: 50.5152646\ttotal: 1.31s\tremaining: 1.33s\n",
      "496:\tlearn: 50.3491992\ttotal: 1.31s\tremaining: 1.32s\n",
      "497:\tlearn: 50.2348022\ttotal: 1.31s\tremaining: 1.32s\n",
      "498:\tlearn: 50.2056149\ttotal: 1.31s\tremaining: 1.32s\n",
      "499:\tlearn: 49.9623350\ttotal: 1.31s\tremaining: 1.31s\n",
      "500:\tlearn: 49.8295415\ttotal: 1.32s\tremaining: 1.31s\n",
      "501:\tlearn: 49.6485156\ttotal: 1.32s\tremaining: 1.31s\n",
      "502:\tlearn: 49.4443417\ttotal: 1.32s\tremaining: 1.3s\n",
      "503:\tlearn: 49.4095250\ttotal: 1.32s\tremaining: 1.3s\n",
      "504:\tlearn: 49.2591046\ttotal: 1.32s\tremaining: 1.3s\n",
      "505:\tlearn: 49.1036575\ttotal: 1.33s\tremaining: 1.29s\n",
      "506:\tlearn: 48.9550604\ttotal: 1.33s\tremaining: 1.29s\n",
      "507:\tlearn: 48.8342630\ttotal: 1.33s\tremaining: 1.29s\n",
      "508:\tlearn: 48.7516397\ttotal: 1.33s\tremaining: 1.29s\n",
      "509:\tlearn: 48.6512915\ttotal: 1.33s\tremaining: 1.28s\n",
      "510:\tlearn: 48.5500183\ttotal: 1.34s\tremaining: 1.28s\n",
      "511:\tlearn: 48.4392144\ttotal: 1.34s\tremaining: 1.28s\n",
      "512:\tlearn: 48.4173769\ttotal: 1.34s\tremaining: 1.27s\n",
      "513:\tlearn: 48.3956896\ttotal: 1.34s\tremaining: 1.27s\n",
      "514:\tlearn: 48.1945371\ttotal: 1.35s\tremaining: 1.27s\n",
      "515:\tlearn: 48.1454760\ttotal: 1.35s\tremaining: 1.26s\n",
      "516:\tlearn: 47.9999041\ttotal: 1.35s\tremaining: 1.26s\n",
      "517:\tlearn: 47.8654025\ttotal: 1.35s\tremaining: 1.26s\n",
      "518:\tlearn: 47.7378932\ttotal: 1.35s\tremaining: 1.26s\n",
      "519:\tlearn: 47.6037393\ttotal: 1.36s\tremaining: 1.25s\n",
      "520:\tlearn: 47.4243560\ttotal: 1.36s\tremaining: 1.25s\n",
      "521:\tlearn: 47.1717120\ttotal: 1.36s\tremaining: 1.25s\n",
      "522:\tlearn: 47.0255824\ttotal: 1.36s\tremaining: 1.25s\n",
      "523:\tlearn: 46.9997140\ttotal: 1.37s\tremaining: 1.24s\n",
      "524:\tlearn: 46.8763927\ttotal: 1.37s\tremaining: 1.24s\n",
      "525:\tlearn: 46.7161503\ttotal: 1.37s\tremaining: 1.24s\n",
      "526:\tlearn: 46.5907150\ttotal: 1.38s\tremaining: 1.23s\n",
      "527:\tlearn: 46.5167191\ttotal: 1.38s\tremaining: 1.23s\n",
      "528:\tlearn: 46.2521376\ttotal: 1.38s\tremaining: 1.23s\n",
      "529:\tlearn: 46.1399625\ttotal: 1.38s\tremaining: 1.23s\n",
      "530:\tlearn: 45.9409592\ttotal: 1.39s\tremaining: 1.22s\n",
      "531:\tlearn: 45.7926590\ttotal: 1.39s\tremaining: 1.22s\n",
      "532:\tlearn: 45.6646139\ttotal: 1.39s\tremaining: 1.22s\n",
      "533:\tlearn: 45.5167163\ttotal: 1.4s\tremaining: 1.22s\n",
      "534:\tlearn: 45.4917764\ttotal: 1.4s\tremaining: 1.21s\n",
      "535:\tlearn: 45.2857643\ttotal: 1.4s\tremaining: 1.21s\n",
      "536:\tlearn: 45.1922379\ttotal: 1.4s\tremaining: 1.21s\n",
      "537:\tlearn: 45.0356358\ttotal: 1.4s\tremaining: 1.21s\n",
      "538:\tlearn: 44.8694212\ttotal: 1.41s\tremaining: 1.2s\n",
      "539:\tlearn: 44.7775800\ttotal: 1.41s\tremaining: 1.2s\n",
      "540:\tlearn: 44.5793565\ttotal: 1.41s\tremaining: 1.2s\n",
      "541:\tlearn: 44.4834562\ttotal: 1.41s\tremaining: 1.2s\n",
      "542:\tlearn: 44.3282156\ttotal: 1.42s\tremaining: 1.19s\n",
      "543:\tlearn: 44.1587369\ttotal: 1.42s\tremaining: 1.19s\n",
      "544:\tlearn: 43.9971968\ttotal: 1.42s\tremaining: 1.19s\n",
      "545:\tlearn: 43.8311187\ttotal: 1.42s\tremaining: 1.18s\n",
      "546:\tlearn: 43.7277543\ttotal: 1.43s\tremaining: 1.18s\n",
      "547:\tlearn: 43.6425924\ttotal: 1.43s\tremaining: 1.18s\n",
      "548:\tlearn: 43.4830123\ttotal: 1.43s\tremaining: 1.17s\n",
      "549:\tlearn: 43.2686591\ttotal: 1.43s\tremaining: 1.17s\n",
      "550:\tlearn: 43.2404310\ttotal: 1.43s\tremaining: 1.17s\n",
      "551:\tlearn: 43.2085556\ttotal: 1.43s\tremaining: 1.16s\n",
      "552:\tlearn: 43.0926813\ttotal: 1.44s\tremaining: 1.16s\n",
      "553:\tlearn: 43.0289790\ttotal: 1.44s\tremaining: 1.16s\n",
      "554:\tlearn: 43.0100271\ttotal: 1.44s\tremaining: 1.16s\n",
      "555:\tlearn: 42.8561131\ttotal: 1.44s\tremaining: 1.15s\n",
      "556:\tlearn: 42.8330377\ttotal: 1.45s\tremaining: 1.15s\n",
      "557:\tlearn: 42.6337797\ttotal: 1.45s\tremaining: 1.15s\n",
      "558:\tlearn: 42.6124896\ttotal: 1.45s\tremaining: 1.14s\n",
      "559:\tlearn: 42.4948823\ttotal: 1.45s\tremaining: 1.14s\n",
      "560:\tlearn: 42.4687763\ttotal: 1.45s\tremaining: 1.14s\n",
      "561:\tlearn: 42.3536136\ttotal: 1.46s\tremaining: 1.13s\n",
      "562:\tlearn: 42.1897155\ttotal: 1.46s\tremaining: 1.13s\n",
      "563:\tlearn: 42.1558239\ttotal: 1.46s\tremaining: 1.13s\n",
      "564:\tlearn: 42.0675668\ttotal: 1.46s\tremaining: 1.12s\n",
      "565:\tlearn: 41.9124110\ttotal: 1.46s\tremaining: 1.12s\n",
      "566:\tlearn: 41.7569936\ttotal: 1.47s\tremaining: 1.12s\n",
      "567:\tlearn: 41.5912401\ttotal: 1.47s\tremaining: 1.12s\n",
      "568:\tlearn: 41.4455148\ttotal: 1.47s\tremaining: 1.11s\n",
      "569:\tlearn: 41.3362586\ttotal: 1.47s\tremaining: 1.11s\n",
      "570:\tlearn: 41.1244501\ttotal: 1.47s\tremaining: 1.11s\n",
      "571:\tlearn: 40.9675978\ttotal: 1.48s\tremaining: 1.1s\n",
      "572:\tlearn: 40.9504668\ttotal: 1.48s\tremaining: 1.1s\n",
      "573:\tlearn: 40.8662974\ttotal: 1.48s\tremaining: 1.1s\n",
      "574:\tlearn: 40.7012620\ttotal: 1.48s\tremaining: 1.09s\n",
      "575:\tlearn: 40.5714011\ttotal: 1.48s\tremaining: 1.09s\n",
      "576:\tlearn: 40.3492683\ttotal: 1.49s\tremaining: 1.09s\n",
      "577:\tlearn: 40.1268117\ttotal: 1.49s\tremaining: 1.09s\n",
      "578:\tlearn: 40.0553918\ttotal: 1.49s\tremaining: 1.08s\n",
      "579:\tlearn: 39.9201439\ttotal: 1.49s\tremaining: 1.08s\n",
      "580:\tlearn: 39.7841001\ttotal: 1.5s\tremaining: 1.08s\n",
      "581:\tlearn: 39.6378472\ttotal: 1.5s\tremaining: 1.07s\n",
      "582:\tlearn: 39.6198958\ttotal: 1.5s\tremaining: 1.07s\n",
      "583:\tlearn: 39.4902168\ttotal: 1.5s\tremaining: 1.07s\n",
      "584:\tlearn: 39.4444887\ttotal: 1.5s\tremaining: 1.07s\n",
      "585:\tlearn: 39.2807161\ttotal: 1.5s\tremaining: 1.06s\n",
      "586:\tlearn: 39.2608851\ttotal: 1.51s\tremaining: 1.06s\n",
      "587:\tlearn: 39.1638650\ttotal: 1.51s\tremaining: 1.06s\n",
      "588:\tlearn: 39.0108404\ttotal: 1.51s\tremaining: 1.05s\n",
      "589:\tlearn: 38.9282179\ttotal: 1.51s\tremaining: 1.05s\n",
      "590:\tlearn: 38.8348611\ttotal: 1.52s\tremaining: 1.05s\n",
      "591:\tlearn: 38.7323189\ttotal: 1.52s\tremaining: 1.05s\n",
      "592:\tlearn: 38.5983818\ttotal: 1.52s\tremaining: 1.04s\n",
      "593:\tlearn: 38.5765707\ttotal: 1.52s\tremaining: 1.04s\n",
      "594:\tlearn: 38.4532190\ttotal: 1.52s\tremaining: 1.04s\n",
      "595:\tlearn: 38.3535257\ttotal: 1.52s\tremaining: 1.03s\n",
      "596:\tlearn: 38.2918850\ttotal: 1.53s\tremaining: 1.03s\n",
      "597:\tlearn: 38.2362901\ttotal: 1.53s\tremaining: 1.03s\n",
      "598:\tlearn: 38.1683902\ttotal: 1.53s\tremaining: 1.03s\n",
      "599:\tlearn: 38.0210989\ttotal: 1.54s\tremaining: 1.02s\n",
      "600:\tlearn: 37.8690029\ttotal: 1.54s\tremaining: 1.02s\n",
      "601:\tlearn: 37.7986705\ttotal: 1.54s\tremaining: 1.02s\n",
      "602:\tlearn: 37.7456265\ttotal: 1.54s\tremaining: 1.02s\n",
      "603:\tlearn: 37.5824924\ttotal: 1.55s\tremaining: 1.01s\n",
      "604:\tlearn: 37.4375698\ttotal: 1.55s\tremaining: 1.01s\n",
      "605:\tlearn: 37.3286798\ttotal: 1.55s\tremaining: 1.01s\n",
      "606:\tlearn: 37.2130347\ttotal: 1.55s\tremaining: 1.01s\n",
      "607:\tlearn: 37.1406936\ttotal: 1.56s\tremaining: 1s\n",
      "608:\tlearn: 37.1147315\ttotal: 1.56s\tremaining: 1s\n",
      "609:\tlearn: 36.9803751\ttotal: 1.56s\tremaining: 1000ms\n",
      "610:\tlearn: 36.8465346\ttotal: 1.56s\tremaining: 997ms\n",
      "611:\tlearn: 36.7421866\ttotal: 1.57s\tremaining: 994ms\n",
      "612:\tlearn: 36.5886777\ttotal: 1.57s\tremaining: 992ms\n",
      "613:\tlearn: 36.4762106\ttotal: 1.57s\tremaining: 989ms\n",
      "614:\tlearn: 36.4572105\ttotal: 1.58s\tremaining: 987ms\n",
      "615:\tlearn: 36.3465203\ttotal: 1.58s\tremaining: 984ms\n",
      "616:\tlearn: 36.1895538\ttotal: 1.58s\tremaining: 983ms\n",
      "617:\tlearn: 36.0673624\ttotal: 1.58s\tremaining: 980ms\n",
      "618:\tlearn: 36.0493175\ttotal: 1.59s\tremaining: 978ms\n",
      "619:\tlearn: 35.9243574\ttotal: 1.59s\tremaining: 975ms\n",
      "620:\tlearn: 35.8475819\ttotal: 1.59s\tremaining: 972ms\n",
      "621:\tlearn: 35.7389608\ttotal: 1.59s\tremaining: 970ms\n",
      "622:\tlearn: 35.5916398\ttotal: 1.6s\tremaining: 967ms\n",
      "623:\tlearn: 35.5453352\ttotal: 1.6s\tremaining: 964ms\n",
      "624:\tlearn: 35.4872009\ttotal: 1.6s\tremaining: 961ms\n",
      "625:\tlearn: 35.3997626\ttotal: 1.6s\tremaining: 958ms\n",
      "626:\tlearn: 35.3426983\ttotal: 1.61s\tremaining: 956ms\n",
      "627:\tlearn: 35.3206741\ttotal: 1.61s\tremaining: 954ms\n",
      "628:\tlearn: 35.2637591\ttotal: 1.61s\tremaining: 951ms\n",
      "629:\tlearn: 35.1575635\ttotal: 1.61s\tremaining: 948ms\n",
      "630:\tlearn: 35.0554500\ttotal: 1.62s\tremaining: 946ms\n",
      "631:\tlearn: 34.9808683\ttotal: 1.62s\tremaining: 943ms\n",
      "632:\tlearn: 34.7977962\ttotal: 1.62s\tremaining: 940ms\n",
      "633:\tlearn: 34.7760526\ttotal: 1.62s\tremaining: 937ms\n",
      "634:\tlearn: 34.7271665\ttotal: 1.62s\tremaining: 934ms\n",
      "635:\tlearn: 34.5094778\ttotal: 1.63s\tremaining: 931ms\n",
      "636:\tlearn: 34.3962456\ttotal: 1.63s\tremaining: 928ms\n",
      "637:\tlearn: 34.2655921\ttotal: 1.63s\tremaining: 926ms\n",
      "638:\tlearn: 34.1386121\ttotal: 1.63s\tremaining: 923ms\n",
      "639:\tlearn: 34.0359859\ttotal: 1.64s\tremaining: 920ms\n",
      "640:\tlearn: 33.9537924\ttotal: 1.64s\tremaining: 918ms\n",
      "641:\tlearn: 33.8865568\ttotal: 1.64s\tremaining: 915ms\n",
      "642:\tlearn: 33.7874199\ttotal: 1.64s\tremaining: 912ms\n",
      "643:\tlearn: 33.6671068\ttotal: 1.64s\tremaining: 909ms\n",
      "644:\tlearn: 33.5444868\ttotal: 1.65s\tremaining: 906ms\n",
      "645:\tlearn: 33.4026908\ttotal: 1.65s\tremaining: 903ms\n",
      "646:\tlearn: 33.2606694\ttotal: 1.65s\tremaining: 900ms\n",
      "647:\tlearn: 33.2486094\ttotal: 1.65s\tremaining: 897ms\n",
      "648:\tlearn: 33.1749276\ttotal: 1.65s\tremaining: 895ms\n",
      "649:\tlearn: 33.0926063\ttotal: 1.66s\tremaining: 892ms\n",
      "650:\tlearn: 33.0165337\ttotal: 1.66s\tremaining: 889ms\n",
      "651:\tlearn: 32.9700912\ttotal: 1.66s\tremaining: 886ms\n",
      "652:\tlearn: 32.8291722\ttotal: 1.66s\tremaining: 883ms\n",
      "653:\tlearn: 32.6268941\ttotal: 1.66s\tremaining: 880ms\n",
      "654:\tlearn: 32.5095623\ttotal: 1.67s\tremaining: 877ms\n",
      "655:\tlearn: 32.4588094\ttotal: 1.67s\tremaining: 875ms\n",
      "656:\tlearn: 32.4464367\ttotal: 1.67s\tremaining: 872ms\n",
      "657:\tlearn: 32.3018570\ttotal: 1.67s\tremaining: 869ms\n",
      "658:\tlearn: 32.2088759\ttotal: 1.67s\tremaining: 866ms\n",
      "659:\tlearn: 32.1672697\ttotal: 1.68s\tremaining: 864ms\n",
      "660:\tlearn: 32.1536732\ttotal: 1.68s\tremaining: 861ms\n",
      "661:\tlearn: 32.0692323\ttotal: 1.68s\tremaining: 859ms\n",
      "662:\tlearn: 31.9694216\ttotal: 1.68s\tremaining: 856ms\n",
      "663:\tlearn: 31.8594813\ttotal: 1.69s\tremaining: 853ms\n",
      "664:\tlearn: 31.7329232\ttotal: 1.69s\tremaining: 850ms\n",
      "665:\tlearn: 31.6358239\ttotal: 1.69s\tremaining: 847ms\n",
      "666:\tlearn: 31.6185658\ttotal: 1.69s\tremaining: 844ms\n",
      "667:\tlearn: 31.5034672\ttotal: 1.69s\tremaining: 842ms\n",
      "668:\tlearn: 31.4399175\ttotal: 1.7s\tremaining: 839ms\n",
      "669:\tlearn: 31.3979928\ttotal: 1.7s\tremaining: 836ms\n",
      "670:\tlearn: 31.2450322\ttotal: 1.7s\tremaining: 834ms\n",
      "671:\tlearn: 31.2044430\ttotal: 1.7s\tremaining: 831ms\n",
      "672:\tlearn: 31.0874715\ttotal: 1.71s\tremaining: 829ms\n",
      "673:\tlearn: 30.9308433\ttotal: 1.71s\tremaining: 826ms\n",
      "674:\tlearn: 30.7540260\ttotal: 1.71s\tremaining: 823ms\n",
      "675:\tlearn: 30.6699331\ttotal: 1.71s\tremaining: 821ms\n",
      "676:\tlearn: 30.5102275\ttotal: 1.71s\tremaining: 818ms\n",
      "677:\tlearn: 30.4724847\ttotal: 1.72s\tremaining: 816ms\n",
      "678:\tlearn: 30.3778021\ttotal: 1.72s\tremaining: 813ms\n",
      "679:\tlearn: 30.2663165\ttotal: 1.72s\tremaining: 811ms\n",
      "680:\tlearn: 30.1511607\ttotal: 1.73s\tremaining: 809ms\n",
      "681:\tlearn: 30.0482206\ttotal: 1.73s\tremaining: 806ms\n",
      "682:\tlearn: 29.9275271\ttotal: 1.73s\tremaining: 804ms\n",
      "683:\tlearn: 29.8567680\ttotal: 1.73s\tremaining: 801ms\n",
      "684:\tlearn: 29.7772168\ttotal: 1.74s\tremaining: 798ms\n",
      "685:\tlearn: 29.7364155\ttotal: 1.74s\tremaining: 796ms\n",
      "686:\tlearn: 29.6228824\ttotal: 1.74s\tremaining: 793ms\n",
      "687:\tlearn: 29.5414100\ttotal: 1.74s\tremaining: 791ms\n",
      "688:\tlearn: 29.4396234\ttotal: 1.75s\tremaining: 788ms\n",
      "689:\tlearn: 29.4009488\ttotal: 1.75s\tremaining: 786ms\n",
      "690:\tlearn: 29.3397870\ttotal: 1.75s\tremaining: 783ms\n",
      "691:\tlearn: 29.3035389\ttotal: 1.75s\tremaining: 781ms\n",
      "692:\tlearn: 29.2677323\ttotal: 1.76s\tremaining: 778ms\n",
      "693:\tlearn: 29.2598188\ttotal: 1.76s\tremaining: 776ms\n",
      "694:\tlearn: 29.1249659\ttotal: 1.76s\tremaining: 773ms\n",
      "695:\tlearn: 29.1140178\ttotal: 1.76s\tremaining: 770ms\n",
      "696:\tlearn: 29.0898483\ttotal: 1.76s\tremaining: 768ms\n",
      "697:\tlearn: 28.9681999\ttotal: 1.77s\tremaining: 765ms\n",
      "698:\tlearn: 28.9237955\ttotal: 1.77s\tremaining: 763ms\n",
      "699:\tlearn: 28.8305129\ttotal: 1.77s\tremaining: 761ms\n",
      "700:\tlearn: 28.8215643\ttotal: 1.78s\tremaining: 758ms\n",
      "701:\tlearn: 28.7494758\ttotal: 1.78s\tremaining: 755ms\n",
      "702:\tlearn: 28.6534532\ttotal: 1.78s\tremaining: 753ms\n",
      "703:\tlearn: 28.5352347\ttotal: 1.78s\tremaining: 750ms\n",
      "704:\tlearn: 28.4523691\ttotal: 1.79s\tremaining: 747ms\n",
      "705:\tlearn: 28.3898138\ttotal: 1.79s\tremaining: 745ms\n",
      "706:\tlearn: 28.3107522\ttotal: 1.79s\tremaining: 742ms\n",
      "707:\tlearn: 28.2463122\ttotal: 1.79s\tremaining: 740ms\n",
      "708:\tlearn: 28.1699777\ttotal: 1.8s\tremaining: 737ms\n",
      "709:\tlearn: 28.1178294\ttotal: 1.8s\tremaining: 735ms\n",
      "710:\tlearn: 28.0104750\ttotal: 1.8s\tremaining: 732ms\n",
      "711:\tlearn: 27.9320528\ttotal: 1.8s\tremaining: 729ms\n",
      "712:\tlearn: 27.8412455\ttotal: 1.8s\tremaining: 727ms\n",
      "713:\tlearn: 27.7509140\ttotal: 1.81s\tremaining: 724ms\n",
      "714:\tlearn: 27.6637542\ttotal: 1.81s\tremaining: 721ms\n",
      "715:\tlearn: 27.5699154\ttotal: 1.81s\tremaining: 718ms\n",
      "716:\tlearn: 27.5253987\ttotal: 1.81s\tremaining: 716ms\n",
      "717:\tlearn: 27.4267993\ttotal: 1.81s\tremaining: 713ms\n",
      "718:\tlearn: 27.3838705\ttotal: 1.82s\tremaining: 711ms\n",
      "719:\tlearn: 27.2918309\ttotal: 1.82s\tremaining: 708ms\n",
      "720:\tlearn: 27.1476436\ttotal: 1.82s\tremaining: 705ms\n",
      "721:\tlearn: 27.0682619\ttotal: 1.82s\tremaining: 703ms\n",
      "722:\tlearn: 26.9519535\ttotal: 1.83s\tremaining: 700ms\n",
      "723:\tlearn: 26.8588701\ttotal: 1.83s\tremaining: 697ms\n",
      "724:\tlearn: 26.7912783\ttotal: 1.83s\tremaining: 694ms\n",
      "725:\tlearn: 26.6841865\ttotal: 1.83s\tremaining: 692ms\n",
      "726:\tlearn: 26.6034665\ttotal: 1.83s\tremaining: 689ms\n",
      "727:\tlearn: 26.5896351\ttotal: 1.84s\tremaining: 686ms\n",
      "728:\tlearn: 26.5684435\ttotal: 1.84s\tremaining: 683ms\n",
      "729:\tlearn: 26.4652506\ttotal: 1.84s\tremaining: 680ms\n",
      "730:\tlearn: 26.3979651\ttotal: 1.84s\tremaining: 678ms\n",
      "731:\tlearn: 26.3880435\ttotal: 1.84s\tremaining: 675ms\n",
      "732:\tlearn: 26.2670320\ttotal: 1.85s\tremaining: 673ms\n",
      "733:\tlearn: 26.2202353\ttotal: 1.85s\tremaining: 670ms\n",
      "734:\tlearn: 26.0763023\ttotal: 1.85s\tremaining: 668ms\n",
      "735:\tlearn: 26.0040667\ttotal: 1.85s\tremaining: 665ms\n",
      "736:\tlearn: 25.9911232\ttotal: 1.85s\tremaining: 662ms\n",
      "737:\tlearn: 25.8426255\ttotal: 1.86s\tremaining: 659ms\n",
      "738:\tlearn: 25.7851357\ttotal: 1.86s\tremaining: 656ms\n",
      "739:\tlearn: 25.7146885\ttotal: 1.86s\tremaining: 654ms\n",
      "740:\tlearn: 25.6282970\ttotal: 1.86s\tremaining: 651ms\n",
      "741:\tlearn: 25.5484021\ttotal: 1.86s\tremaining: 649ms\n",
      "742:\tlearn: 25.5385186\ttotal: 1.87s\tremaining: 646ms\n",
      "743:\tlearn: 25.4308424\ttotal: 1.87s\tremaining: 643ms\n",
      "744:\tlearn: 25.3606955\ttotal: 1.87s\tremaining: 640ms\n",
      "745:\tlearn: 25.3342251\ttotal: 1.87s\tremaining: 638ms\n",
      "746:\tlearn: 25.3228456\ttotal: 1.87s\tremaining: 635ms\n",
      "747:\tlearn: 25.2005681\ttotal: 1.88s\tremaining: 632ms\n",
      "748:\tlearn: 25.1516952\ttotal: 1.88s\tremaining: 630ms\n",
      "749:\tlearn: 25.1315486\ttotal: 1.88s\tremaining: 627ms\n",
      "750:\tlearn: 25.0287851\ttotal: 1.88s\tremaining: 624ms\n",
      "751:\tlearn: 24.9455600\ttotal: 1.89s\tremaining: 622ms\n",
      "752:\tlearn: 24.8830294\ttotal: 1.89s\tremaining: 619ms\n",
      "753:\tlearn: 24.7635918\ttotal: 1.89s\tremaining: 616ms\n",
      "754:\tlearn: 24.6424287\ttotal: 1.89s\tremaining: 614ms\n",
      "755:\tlearn: 24.5198224\ttotal: 1.89s\tremaining: 611ms\n",
      "756:\tlearn: 24.4580622\ttotal: 1.9s\tremaining: 608ms\n",
      "757:\tlearn: 24.4389293\ttotal: 1.9s\tremaining: 606ms\n",
      "758:\tlearn: 24.3254468\ttotal: 1.9s\tremaining: 604ms\n",
      "759:\tlearn: 24.2171489\ttotal: 1.9s\tremaining: 601ms\n",
      "760:\tlearn: 24.1598733\ttotal: 1.91s\tremaining: 598ms\n",
      "761:\tlearn: 24.1025194\ttotal: 1.91s\tremaining: 596ms\n",
      "762:\tlearn: 24.0906652\ttotal: 1.91s\tremaining: 594ms\n",
      "763:\tlearn: 24.0053420\ttotal: 1.91s\tremaining: 591ms\n",
      "764:\tlearn: 23.9314770\ttotal: 1.92s\tremaining: 589ms\n",
      "765:\tlearn: 23.8513891\ttotal: 1.92s\tremaining: 586ms\n",
      "766:\tlearn: 23.7547138\ttotal: 1.92s\tremaining: 584ms\n",
      "767:\tlearn: 23.6147221\ttotal: 1.92s\tremaining: 581ms\n",
      "768:\tlearn: 23.5960423\ttotal: 1.93s\tremaining: 578ms\n",
      "769:\tlearn: 23.5607368\ttotal: 1.93s\tremaining: 576ms\n",
      "770:\tlearn: 23.4932897\ttotal: 1.93s\tremaining: 574ms\n",
      "771:\tlearn: 23.4455502\ttotal: 1.93s\tremaining: 571ms\n",
      "772:\tlearn: 23.3727141\ttotal: 1.94s\tremaining: 568ms\n",
      "773:\tlearn: 23.2899073\ttotal: 1.94s\tremaining: 566ms\n",
      "774:\tlearn: 23.2081860\ttotal: 1.94s\tremaining: 563ms\n",
      "775:\tlearn: 23.1080041\ttotal: 1.94s\tremaining: 561ms\n",
      "776:\tlearn: 23.0316090\ttotal: 1.95s\tremaining: 558ms\n",
      "777:\tlearn: 22.9791346\ttotal: 1.95s\tremaining: 556ms\n",
      "778:\tlearn: 22.8995100\ttotal: 1.95s\tremaining: 553ms\n",
      "779:\tlearn: 22.8602935\ttotal: 1.95s\tremaining: 551ms\n",
      "780:\tlearn: 22.8112370\ttotal: 1.96s\tremaining: 548ms\n",
      "781:\tlearn: 22.7444879\ttotal: 1.96s\tremaining: 546ms\n",
      "782:\tlearn: 22.6998078\ttotal: 1.96s\tremaining: 543ms\n",
      "783:\tlearn: 22.6040350\ttotal: 1.96s\tremaining: 541ms\n",
      "784:\tlearn: 22.5241882\ttotal: 1.97s\tremaining: 539ms\n",
      "785:\tlearn: 22.4219086\ttotal: 1.97s\tremaining: 536ms\n",
      "786:\tlearn: 22.3472054\ttotal: 1.97s\tremaining: 533ms\n",
      "787:\tlearn: 22.2556324\ttotal: 1.97s\tremaining: 531ms\n",
      "788:\tlearn: 22.1888741\ttotal: 1.97s\tremaining: 528ms\n",
      "789:\tlearn: 22.1023646\ttotal: 1.98s\tremaining: 526ms\n",
      "790:\tlearn: 21.9913027\ttotal: 1.98s\tremaining: 523ms\n",
      "791:\tlearn: 21.9539958\ttotal: 1.98s\tremaining: 521ms\n",
      "792:\tlearn: 21.8809817\ttotal: 1.99s\tremaining: 518ms\n",
      "793:\tlearn: 21.8131611\ttotal: 1.99s\tremaining: 515ms\n",
      "794:\tlearn: 21.7199114\ttotal: 1.99s\tremaining: 513ms\n",
      "795:\tlearn: 21.6409161\ttotal: 1.99s\tremaining: 510ms\n",
      "796:\tlearn: 21.6326266\ttotal: 1.99s\tremaining: 507ms\n",
      "797:\tlearn: 21.6186674\ttotal: 1.99s\tremaining: 505ms\n",
      "798:\tlearn: 21.5455113\ttotal: 2s\tremaining: 502ms\n",
      "799:\tlearn: 21.5065906\ttotal: 2s\tremaining: 499ms\n",
      "800:\tlearn: 21.4735182\ttotal: 2s\tremaining: 497ms\n",
      "801:\tlearn: 21.3935420\ttotal: 2s\tremaining: 494ms\n",
      "802:\tlearn: 21.3169467\ttotal: 2s\tremaining: 492ms\n",
      "803:\tlearn: 21.2747308\ttotal: 2.01s\tremaining: 489ms\n",
      "804:\tlearn: 21.2159140\ttotal: 2.01s\tremaining: 487ms\n",
      "805:\tlearn: 21.1487603\ttotal: 2.01s\tremaining: 484ms\n",
      "806:\tlearn: 21.0885351\ttotal: 2.01s\tremaining: 481ms\n",
      "807:\tlearn: 21.0586704\ttotal: 2.01s\tremaining: 479ms\n",
      "808:\tlearn: 21.0010264\ttotal: 2.02s\tremaining: 476ms\n",
      "809:\tlearn: 20.9926714\ttotal: 2.02s\tremaining: 473ms\n",
      "810:\tlearn: 20.9135295\ttotal: 2.02s\tremaining: 471ms\n",
      "811:\tlearn: 20.8354522\ttotal: 2.02s\tremaining: 468ms\n",
      "812:\tlearn: 20.7798124\ttotal: 2.02s\tremaining: 466ms\n",
      "813:\tlearn: 20.6946028\ttotal: 2.03s\tremaining: 463ms\n",
      "814:\tlearn: 20.6339005\ttotal: 2.03s\tremaining: 461ms\n",
      "815:\tlearn: 20.5810839\ttotal: 2.03s\tremaining: 458ms\n",
      "816:\tlearn: 20.5646611\ttotal: 2.03s\tremaining: 455ms\n",
      "817:\tlearn: 20.5312495\ttotal: 2.03s\tremaining: 453ms\n",
      "818:\tlearn: 20.5084488\ttotal: 2.04s\tremaining: 450ms\n",
      "819:\tlearn: 20.4773352\ttotal: 2.04s\tremaining: 448ms\n",
      "820:\tlearn: 20.4043337\ttotal: 2.04s\tremaining: 445ms\n",
      "821:\tlearn: 20.3685498\ttotal: 2.04s\tremaining: 442ms\n",
      "822:\tlearn: 20.3227169\ttotal: 2.04s\tremaining: 440ms\n",
      "823:\tlearn: 20.2489252\ttotal: 2.05s\tremaining: 437ms\n",
      "824:\tlearn: 20.1805502\ttotal: 2.05s\tremaining: 435ms\n",
      "825:\tlearn: 20.1351318\ttotal: 2.05s\tremaining: 432ms\n",
      "826:\tlearn: 20.0808677\ttotal: 2.05s\tremaining: 430ms\n",
      "827:\tlearn: 20.0615664\ttotal: 2.06s\tremaining: 427ms\n",
      "828:\tlearn: 20.0210533\ttotal: 2.06s\tremaining: 424ms\n",
      "829:\tlearn: 19.9553617\ttotal: 2.06s\tremaining: 422ms\n",
      "830:\tlearn: 19.8957465\ttotal: 2.06s\tremaining: 419ms\n",
      "831:\tlearn: 19.8617225\ttotal: 2.06s\tremaining: 417ms\n",
      "832:\tlearn: 19.8122937\ttotal: 2.06s\tremaining: 414ms\n",
      "833:\tlearn: 19.7347856\ttotal: 2.07s\tremaining: 412ms\n",
      "834:\tlearn: 19.6847074\ttotal: 2.07s\tremaining: 409ms\n",
      "835:\tlearn: 19.6600914\ttotal: 2.07s\tremaining: 407ms\n",
      "836:\tlearn: 19.6088767\ttotal: 2.07s\tremaining: 404ms\n",
      "837:\tlearn: 19.5521760\ttotal: 2.08s\tremaining: 402ms\n",
      "838:\tlearn: 19.4907222\ttotal: 2.08s\tremaining: 399ms\n",
      "839:\tlearn: 19.4354428\ttotal: 2.08s\tremaining: 396ms\n",
      "840:\tlearn: 19.3747632\ttotal: 2.08s\tremaining: 394ms\n",
      "841:\tlearn: 19.3126733\ttotal: 2.08s\tremaining: 391ms\n",
      "842:\tlearn: 19.3009828\ttotal: 2.09s\tremaining: 389ms\n",
      "843:\tlearn: 19.2206330\ttotal: 2.09s\tremaining: 386ms\n",
      "844:\tlearn: 19.1620727\ttotal: 2.09s\tremaining: 384ms\n",
      "845:\tlearn: 19.1386033\ttotal: 2.1s\tremaining: 382ms\n",
      "846:\tlearn: 19.0801708\ttotal: 2.1s\tremaining: 379ms\n",
      "847:\tlearn: 19.0157302\ttotal: 2.1s\tremaining: 377ms\n",
      "848:\tlearn: 18.9601825\ttotal: 2.1s\tremaining: 374ms\n",
      "849:\tlearn: 18.8771585\ttotal: 2.1s\tremaining: 372ms\n",
      "850:\tlearn: 18.7996985\ttotal: 2.11s\tremaining: 369ms\n",
      "851:\tlearn: 18.7306698\ttotal: 2.11s\tremaining: 367ms\n",
      "852:\tlearn: 18.6745358\ttotal: 2.11s\tremaining: 364ms\n",
      "853:\tlearn: 18.6200858\ttotal: 2.12s\tremaining: 362ms\n",
      "854:\tlearn: 18.5430037\ttotal: 2.12s\tremaining: 359ms\n",
      "855:\tlearn: 18.4689965\ttotal: 2.12s\tremaining: 357ms\n",
      "856:\tlearn: 18.4602188\ttotal: 2.12s\tremaining: 354ms\n",
      "857:\tlearn: 18.4127858\ttotal: 2.13s\tremaining: 352ms\n",
      "858:\tlearn: 18.3572957\ttotal: 2.13s\tremaining: 349ms\n",
      "859:\tlearn: 18.3516702\ttotal: 2.13s\tremaining: 347ms\n",
      "860:\tlearn: 18.2984579\ttotal: 2.13s\tremaining: 344ms\n",
      "861:\tlearn: 18.2705594\ttotal: 2.13s\tremaining: 342ms\n",
      "862:\tlearn: 18.1912792\ttotal: 2.14s\tremaining: 339ms\n",
      "863:\tlearn: 18.1447059\ttotal: 2.14s\tremaining: 337ms\n",
      "864:\tlearn: 18.0812938\ttotal: 2.14s\tremaining: 335ms\n",
      "865:\tlearn: 18.0195125\ttotal: 2.15s\tremaining: 332ms\n",
      "866:\tlearn: 17.9828750\ttotal: 2.15s\tremaining: 330ms\n",
      "867:\tlearn: 17.9420709\ttotal: 2.15s\tremaining: 327ms\n",
      "868:\tlearn: 17.8677349\ttotal: 2.15s\tremaining: 325ms\n",
      "869:\tlearn: 17.8398602\ttotal: 2.16s\tremaining: 322ms\n",
      "870:\tlearn: 17.7942998\ttotal: 2.16s\tremaining: 320ms\n",
      "871:\tlearn: 17.7536023\ttotal: 2.16s\tremaining: 317ms\n",
      "872:\tlearn: 17.7052183\ttotal: 2.16s\tremaining: 315ms\n",
      "873:\tlearn: 17.6657475\ttotal: 2.17s\tremaining: 312ms\n",
      "874:\tlearn: 17.5947960\ttotal: 2.17s\tremaining: 310ms\n",
      "875:\tlearn: 17.5844739\ttotal: 2.17s\tremaining: 307ms\n",
      "876:\tlearn: 17.5238667\ttotal: 2.17s\tremaining: 305ms\n",
      "877:\tlearn: 17.4835447\ttotal: 2.17s\tremaining: 302ms\n",
      "878:\tlearn: 17.4384106\ttotal: 2.18s\tremaining: 300ms\n",
      "879:\tlearn: 17.3837104\ttotal: 2.18s\tremaining: 297ms\n",
      "880:\tlearn: 17.3322600\ttotal: 2.18s\tremaining: 295ms\n",
      "881:\tlearn: 17.2926962\ttotal: 2.18s\tremaining: 292ms\n",
      "882:\tlearn: 17.2460116\ttotal: 2.18s\tremaining: 289ms\n",
      "883:\tlearn: 17.1872439\ttotal: 2.19s\tremaining: 287ms\n",
      "884:\tlearn: 17.1379291\ttotal: 2.19s\tremaining: 284ms\n",
      "885:\tlearn: 17.0720821\ttotal: 2.19s\tremaining: 282ms\n",
      "886:\tlearn: 17.0006086\ttotal: 2.19s\tremaining: 279ms\n",
      "887:\tlearn: 16.9669498\ttotal: 2.19s\tremaining: 277ms\n",
      "888:\tlearn: 16.9352810\ttotal: 2.19s\tremaining: 274ms\n",
      "889:\tlearn: 16.8779384\ttotal: 2.2s\tremaining: 272ms\n",
      "890:\tlearn: 16.8721554\ttotal: 2.2s\tremaining: 269ms\n",
      "891:\tlearn: 16.7879581\ttotal: 2.2s\tremaining: 267ms\n",
      "892:\tlearn: 16.7383625\ttotal: 2.2s\tremaining: 264ms\n",
      "893:\tlearn: 16.6831078\ttotal: 2.21s\tremaining: 261ms\n",
      "894:\tlearn: 16.6264637\ttotal: 2.21s\tremaining: 259ms\n",
      "895:\tlearn: 16.5985013\ttotal: 2.21s\tremaining: 256ms\n",
      "896:\tlearn: 16.5482391\ttotal: 2.21s\tremaining: 254ms\n",
      "897:\tlearn: 16.4723900\ttotal: 2.21s\tremaining: 251ms\n",
      "898:\tlearn: 16.4452611\ttotal: 2.21s\tremaining: 249ms\n",
      "899:\tlearn: 16.4098349\ttotal: 2.22s\tremaining: 246ms\n",
      "900:\tlearn: 16.3392441\ttotal: 2.22s\tremaining: 244ms\n",
      "901:\tlearn: 16.3013860\ttotal: 2.22s\tremaining: 241ms\n",
      "902:\tlearn: 16.2860252\ttotal: 2.22s\tremaining: 239ms\n",
      "903:\tlearn: 16.2327328\ttotal: 2.22s\tremaining: 236ms\n",
      "904:\tlearn: 16.1914934\ttotal: 2.23s\tremaining: 234ms\n",
      "905:\tlearn: 16.1483796\ttotal: 2.23s\tremaining: 231ms\n",
      "906:\tlearn: 16.0968952\ttotal: 2.23s\tremaining: 229ms\n",
      "907:\tlearn: 16.0726372\ttotal: 2.23s\tremaining: 226ms\n",
      "908:\tlearn: 16.0282227\ttotal: 2.23s\tremaining: 224ms\n",
      "909:\tlearn: 15.9815375\ttotal: 2.23s\tremaining: 221ms\n",
      "910:\tlearn: 15.9365744\ttotal: 2.24s\tremaining: 219ms\n",
      "911:\tlearn: 15.8732880\ttotal: 2.24s\tremaining: 216ms\n",
      "912:\tlearn: 15.8147351\ttotal: 2.24s\tremaining: 214ms\n",
      "913:\tlearn: 15.7558266\ttotal: 2.24s\tremaining: 211ms\n",
      "914:\tlearn: 15.7190930\ttotal: 2.25s\tremaining: 209ms\n",
      "915:\tlearn: 15.6708589\ttotal: 2.25s\tremaining: 206ms\n",
      "916:\tlearn: 15.6522328\ttotal: 2.25s\tremaining: 204ms\n",
      "917:\tlearn: 15.5782279\ttotal: 2.25s\tremaining: 201ms\n",
      "918:\tlearn: 15.5276872\ttotal: 2.25s\tremaining: 199ms\n",
      "919:\tlearn: 15.4824952\ttotal: 2.25s\tremaining: 196ms\n",
      "920:\tlearn: 15.4198267\ttotal: 2.26s\tremaining: 194ms\n",
      "921:\tlearn: 15.3763691\ttotal: 2.26s\tremaining: 191ms\n",
      "922:\tlearn: 15.3214931\ttotal: 2.26s\tremaining: 189ms\n",
      "923:\tlearn: 15.2871385\ttotal: 2.26s\tremaining: 186ms\n",
      "924:\tlearn: 15.2197831\ttotal: 2.26s\tremaining: 184ms\n",
      "925:\tlearn: 15.1731619\ttotal: 2.27s\tremaining: 181ms\n",
      "926:\tlearn: 15.1353317\ttotal: 2.27s\tremaining: 179ms\n",
      "927:\tlearn: 15.0957286\ttotal: 2.27s\tremaining: 176ms\n",
      "928:\tlearn: 15.0683784\ttotal: 2.27s\tremaining: 174ms\n",
      "929:\tlearn: 15.0497727\ttotal: 2.28s\tremaining: 171ms\n",
      "930:\tlearn: 15.0300307\ttotal: 2.28s\tremaining: 169ms\n",
      "931:\tlearn: 15.0049960\ttotal: 2.28s\tremaining: 166ms\n",
      "932:\tlearn: 14.9597178\ttotal: 2.28s\tremaining: 164ms\n",
      "933:\tlearn: 14.9037580\ttotal: 2.29s\tremaining: 162ms\n",
      "934:\tlearn: 14.8626895\ttotal: 2.29s\tremaining: 159ms\n",
      "935:\tlearn: 14.8426565\ttotal: 2.29s\tremaining: 157ms\n",
      "936:\tlearn: 14.7768691\ttotal: 2.29s\tremaining: 154ms\n",
      "937:\tlearn: 14.7640220\ttotal: 2.29s\tremaining: 152ms\n",
      "938:\tlearn: 14.7046461\ttotal: 2.3s\tremaining: 149ms\n",
      "939:\tlearn: 14.6855054\ttotal: 2.3s\tremaining: 147ms\n",
      "940:\tlearn: 14.6544758\ttotal: 2.3s\tremaining: 144ms\n",
      "941:\tlearn: 14.6392164\ttotal: 2.31s\tremaining: 142ms\n",
      "942:\tlearn: 14.5734699\ttotal: 2.31s\tremaining: 140ms\n",
      "943:\tlearn: 14.5244777\ttotal: 2.31s\tremaining: 137ms\n",
      "944:\tlearn: 14.4499880\ttotal: 2.31s\tremaining: 135ms\n",
      "945:\tlearn: 14.4034748\ttotal: 2.31s\tremaining: 132ms\n",
      "946:\tlearn: 14.3983117\ttotal: 2.32s\tremaining: 130ms\n",
      "947:\tlearn: 14.3376612\ttotal: 2.32s\tremaining: 127ms\n",
      "948:\tlearn: 14.2957688\ttotal: 2.32s\tremaining: 125ms\n",
      "949:\tlearn: 14.2792124\ttotal: 2.33s\tremaining: 122ms\n",
      "950:\tlearn: 14.2409641\ttotal: 2.33s\tremaining: 120ms\n",
      "951:\tlearn: 14.1959821\ttotal: 2.33s\tremaining: 118ms\n",
      "952:\tlearn: 14.1729346\ttotal: 2.33s\tremaining: 115ms\n",
      "953:\tlearn: 14.1288529\ttotal: 2.34s\tremaining: 113ms\n",
      "954:\tlearn: 14.1194877\ttotal: 2.34s\tremaining: 110ms\n",
      "955:\tlearn: 14.0874287\ttotal: 2.34s\tremaining: 108ms\n",
      "956:\tlearn: 14.0391449\ttotal: 2.34s\tremaining: 105ms\n",
      "957:\tlearn: 14.0192784\ttotal: 2.35s\tremaining: 103ms\n",
      "958:\tlearn: 13.9774206\ttotal: 2.35s\tremaining: 100ms\n",
      "959:\tlearn: 13.9469829\ttotal: 2.35s\tremaining: 97.9ms\n",
      "960:\tlearn: 13.9046060\ttotal: 2.35s\tremaining: 95.5ms\n",
      "961:\tlearn: 13.8566507\ttotal: 2.35s\tremaining: 93.1ms\n",
      "962:\tlearn: 13.8189242\ttotal: 2.36s\tremaining: 90.6ms\n",
      "963:\tlearn: 13.7827943\ttotal: 2.36s\tremaining: 88.1ms\n",
      "964:\tlearn: 13.7461101\ttotal: 2.36s\tremaining: 85.6ms\n",
      "965:\tlearn: 13.7194949\ttotal: 2.36s\tremaining: 83.2ms\n",
      "966:\tlearn: 13.6751131\ttotal: 2.36s\tremaining: 80.7ms\n",
      "967:\tlearn: 13.6430502\ttotal: 2.37s\tremaining: 78.2ms\n",
      "968:\tlearn: 13.6060051\ttotal: 2.37s\tremaining: 75.8ms\n",
      "969:\tlearn: 13.5564035\ttotal: 2.37s\tremaining: 73.3ms\n",
      "970:\tlearn: 13.5005663\ttotal: 2.37s\tremaining: 70.8ms\n",
      "971:\tlearn: 13.4646968\ttotal: 2.37s\tremaining: 68.4ms\n",
      "972:\tlearn: 13.4110911\ttotal: 2.38s\tremaining: 66ms\n",
      "973:\tlearn: 13.3734845\ttotal: 2.38s\tremaining: 63.5ms\n",
      "974:\tlearn: 13.3385183\ttotal: 2.38s\tremaining: 61ms\n",
      "975:\tlearn: 13.2909902\ttotal: 2.38s\tremaining: 58.6ms\n",
      "976:\tlearn: 13.2417130\ttotal: 2.38s\tremaining: 56.1ms\n",
      "977:\tlearn: 13.2078721\ttotal: 2.39s\tremaining: 53.7ms\n",
      "978:\tlearn: 13.1541296\ttotal: 2.39s\tremaining: 51.2ms\n",
      "979:\tlearn: 13.1169938\ttotal: 2.39s\tremaining: 48.8ms\n",
      "980:\tlearn: 13.0682027\ttotal: 2.39s\tremaining: 46.3ms\n",
      "981:\tlearn: 12.9975416\ttotal: 2.39s\tremaining: 43.9ms\n",
      "982:\tlearn: 12.9928245\ttotal: 2.4s\tremaining: 41.5ms\n",
      "983:\tlearn: 12.9480725\ttotal: 2.4s\tremaining: 39ms\n",
      "984:\tlearn: 12.8925505\ttotal: 2.4s\tremaining: 36.6ms\n",
      "985:\tlearn: 12.8686382\ttotal: 2.4s\tremaining: 34.1ms\n",
      "986:\tlearn: 12.8280471\ttotal: 2.4s\tremaining: 31.7ms\n",
      "987:\tlearn: 12.7702403\ttotal: 2.41s\tremaining: 29.2ms\n",
      "988:\tlearn: 12.7377540\ttotal: 2.41s\tremaining: 26.8ms\n",
      "989:\tlearn: 12.6950222\ttotal: 2.41s\tremaining: 24.3ms\n",
      "990:\tlearn: 12.6640277\ttotal: 2.41s\tremaining: 21.9ms\n",
      "991:\tlearn: 12.6438538\ttotal: 2.41s\tremaining: 19.5ms\n",
      "992:\tlearn: 12.6093104\ttotal: 2.42s\tremaining: 17ms\n",
      "993:\tlearn: 12.5595182\ttotal: 2.42s\tremaining: 14.6ms\n",
      "994:\tlearn: 12.5178377\ttotal: 2.42s\tremaining: 12.2ms\n",
      "995:\tlearn: 12.4693848\ttotal: 2.42s\tremaining: 9.73ms\n",
      "996:\tlearn: 12.4278458\ttotal: 2.42s\tremaining: 7.29ms\n",
      "997:\tlearn: 12.4161336\ttotal: 2.43s\tremaining: 4.86ms\n",
      "998:\tlearn: 12.3574078\ttotal: 2.43s\tremaining: 2.43ms\n",
      "999:\tlearn: 12.3086457\ttotal: 2.43s\tremaining: 0us\n"
     ]
    }
   ],
   "source": [
    "catb_model = CatBoostRegressor().fit(X_train, y_train)"
   ]
  },
  {
   "cell_type": "code",
   "execution_count": 290,
   "metadata": {
    "collapsed": true,
    "jupyter": {
     "outputs_hidden": true
    }
   },
   "outputs": [
    {
     "data": {
      "text/plain": [
       "['__class__',\n",
       " '__copy__',\n",
       " '__deepcopy__',\n",
       " '__delattr__',\n",
       " '__dict__',\n",
       " '__dir__',\n",
       " '__doc__',\n",
       " '__eq__',\n",
       " '__format__',\n",
       " '__ge__',\n",
       " '__getattribute__',\n",
       " '__getstate__',\n",
       " '__gt__',\n",
       " '__hash__',\n",
       " '__init__',\n",
       " '__init_subclass__',\n",
       " '__le__',\n",
       " '__lt__',\n",
       " '__module__',\n",
       " '__ne__',\n",
       " '__neq__',\n",
       " '__new__',\n",
       " '__reduce__',\n",
       " '__reduce_ex__',\n",
       " '__repr__',\n",
       " '__setattr__',\n",
       " '__setstate__',\n",
       " '__sizeof__',\n",
       " '__str__',\n",
       " '__subclasshook__',\n",
       " '__weakref__',\n",
       " '_base_calc_leaf_indexes',\n",
       " '_base_drop_unused_features',\n",
       " '_base_eval_metrics',\n",
       " '_base_predict',\n",
       " '_base_shrink',\n",
       " '_calc_fstr',\n",
       " '_calc_leaf_indexes',\n",
       " '_calc_ostr',\n",
       " '_check_is_regressor_loss',\n",
       " '_convert_to_asymmetric_representation',\n",
       " '_deserialize_model',\n",
       " '_estimator_type',\n",
       " '_eval_metrics',\n",
       " '_fit',\n",
       " '_get_borders',\n",
       " '_get_cat_feature_indices',\n",
       " '_get_float_feature_indices',\n",
       " '_get_params',\n",
       " '_get_tree_leaf_values',\n",
       " '_get_tree_splits',\n",
       " '_init_params',\n",
       " '_is_classification_objective',\n",
       " '_is_comparable_to',\n",
       " '_is_regression_objective',\n",
       " '_iterate_leaf_indexes',\n",
       " '_leaf_indexes_iterator',\n",
       " '_load_model',\n",
       " '_object',\n",
       " '_predict',\n",
       " '_prepare_train_params',\n",
       " '_process_predict_input_data',\n",
       " '_save_borders',\n",
       " '_save_model',\n",
       " '_serialize_model',\n",
       " '_set_test_evals',\n",
       " '_set_trained_model_attributes',\n",
       " '_staged_predict',\n",
       " '_staged_predict_iterator',\n",
       " '_sum_models',\n",
       " '_train',\n",
       " '_tune_hyperparams',\n",
       " '_validate_prediction_type',\n",
       " 'best_iteration_',\n",
       " 'best_score_',\n",
       " 'calc_feature_statistics',\n",
       " 'calc_leaf_indexes',\n",
       " 'classes_',\n",
       " 'compare',\n",
       " 'copy',\n",
       " 'create_metric_calcer',\n",
       " 'drop_unused_features',\n",
       " 'eval_metrics',\n",
       " 'evals_result_',\n",
       " 'feature_importances_',\n",
       " 'feature_names_',\n",
       " 'fit',\n",
       " 'get_all_params',\n",
       " 'get_best_iteration',\n",
       " 'get_best_score',\n",
       " 'get_borders',\n",
       " 'get_cat_feature_indices',\n",
       " 'get_evals_result',\n",
       " 'get_feature_importance',\n",
       " 'get_leaf_values',\n",
       " 'get_leaf_weights',\n",
       " 'get_metadata',\n",
       " 'get_object_importance',\n",
       " 'get_param',\n",
       " 'get_params',\n",
       " 'get_test_eval',\n",
       " 'get_test_evals',\n",
       " 'get_tree_leaf_counts',\n",
       " 'grid_search',\n",
       " 'is_fitted',\n",
       " 'iterate_leaf_indexes',\n",
       " 'learning_rate_',\n",
       " 'load_model',\n",
       " 'plot_predictions',\n",
       " 'plot_tree',\n",
       " 'predict',\n",
       " 'random_seed_',\n",
       " 'randomized_search',\n",
       " 'save_borders',\n",
       " 'save_model',\n",
       " 'score',\n",
       " 'set_feature_names',\n",
       " 'set_leaf_values',\n",
       " 'set_params',\n",
       " 'shrink',\n",
       " 'staged_predict',\n",
       " 'tree_count_']"
      ]
     },
     "execution_count": 290,
     "metadata": {},
     "output_type": "execute_result"
    }
   ],
   "source": [
    "dir(catb_model)"
   ]
  },
  {
   "cell_type": "code",
   "execution_count": 174,
   "metadata": {},
   "outputs": [],
   "source": [
    "y_pred = catb_model.predict(X_test)"
   ]
  },
  {
   "cell_type": "code",
   "execution_count": 176,
   "metadata": {},
   "outputs": [
    {
     "data": {
      "text/plain": [
       "344.6108804474126"
      ]
     },
     "execution_count": 176,
     "metadata": {},
     "output_type": "execute_result"
    }
   ],
   "source": [
    "np.sqrt(mean_squared_error(y_test, y_pred))"
   ]
  },
  {
   "cell_type": "markdown",
   "metadata": {},
   "source": [
    "## Model Tuning"
   ]
  },
  {
   "cell_type": "code",
   "execution_count": 177,
   "metadata": {},
   "outputs": [],
   "source": [
    "catb_params = {\"iterations\": [200,500,100],\n",
    "              \"learning_rate\": [0.01,0.1],\n",
    "              \"depth\": [3,6,8]}"
   ]
  },
  {
   "cell_type": "code",
   "execution_count": 178,
   "metadata": {},
   "outputs": [],
   "source": [
    "catb_model = CatBoostRegressor()"
   ]
  },
  {
   "cell_type": "code",
   "execution_count": 180,
   "metadata": {
    "collapsed": true,
    "jupyter": {
     "outputs_hidden": true
    }
   },
   "outputs": [
    {
     "name": "stdout",
     "output_type": "stream",
     "text": [
      "Fitting 5 folds for each of 18 candidates, totalling 90 fits\n"
     ]
    },
    {
     "name": "stderr",
     "output_type": "stream",
     "text": [
      "[Parallel(n_jobs=-1)]: Using backend LokyBackend with 12 concurrent workers.\n",
      "[Parallel(n_jobs=-1)]: Done  17 tasks      | elapsed:    7.9s\n",
      "[Parallel(n_jobs=-1)]: Done  90 out of  90 | elapsed:   39.0s finished\n"
     ]
    },
    {
     "name": "stdout",
     "output_type": "stream",
     "text": [
      "0:\tlearn: 425.1513907\ttotal: 1.05ms\tremaining: 522ms\n",
      "1:\tlearn: 402.8241549\ttotal: 2.73ms\tremaining: 681ms\n",
      "2:\tlearn: 384.9516687\ttotal: 3.92ms\tremaining: 650ms\n",
      "3:\tlearn: 370.2047924\ttotal: 5ms\tremaining: 620ms\n",
      "4:\tlearn: 354.3912010\ttotal: 6.11ms\tremaining: 605ms\n",
      "5:\tlearn: 341.2436603\ttotal: 7.16ms\tremaining: 589ms\n",
      "6:\tlearn: 329.7531166\ttotal: 8.41ms\tremaining: 592ms\n",
      "7:\tlearn: 321.4528232\ttotal: 9.6ms\tremaining: 591ms\n",
      "8:\tlearn: 312.6602387\ttotal: 10.7ms\tremaining: 583ms\n",
      "9:\tlearn: 303.5114728\ttotal: 11.8ms\tremaining: 580ms\n",
      "10:\tlearn: 294.8248838\ttotal: 13.1ms\tremaining: 580ms\n",
      "11:\tlearn: 287.9705821\ttotal: 14.2ms\tremaining: 577ms\n",
      "12:\tlearn: 282.6327679\ttotal: 15.2ms\tremaining: 571ms\n",
      "13:\tlearn: 276.7182887\ttotal: 16.3ms\tremaining: 564ms\n",
      "14:\tlearn: 271.4490864\ttotal: 17.3ms\tremaining: 560ms\n",
      "15:\tlearn: 266.8471238\ttotal: 18.8ms\tremaining: 568ms\n",
      "16:\tlearn: 263.7752341\ttotal: 19.8ms\tremaining: 563ms\n",
      "17:\tlearn: 257.5253460\ttotal: 20.9ms\tremaining: 558ms\n",
      "18:\tlearn: 252.7637825\ttotal: 21.9ms\tremaining: 553ms\n",
      "19:\tlearn: 249.6002108\ttotal: 22.9ms\tremaining: 550ms\n",
      "20:\tlearn: 245.9232251\ttotal: 24.1ms\tremaining: 549ms\n",
      "21:\tlearn: 241.6906437\ttotal: 25.1ms\tremaining: 546ms\n",
      "22:\tlearn: 238.6590374\ttotal: 26.2ms\tremaining: 543ms\n",
      "23:\tlearn: 235.1807717\ttotal: 27.4ms\tremaining: 544ms\n",
      "24:\tlearn: 233.3342154\ttotal: 28.8ms\tremaining: 548ms\n",
      "25:\tlearn: 228.6027878\ttotal: 29.8ms\tremaining: 544ms\n",
      "26:\tlearn: 226.5211496\ttotal: 31ms\tremaining: 544ms\n",
      "27:\tlearn: 223.9395941\ttotal: 32.1ms\tremaining: 541ms\n",
      "28:\tlearn: 221.3493082\ttotal: 33.1ms\tremaining: 538ms\n",
      "29:\tlearn: 220.1971018\ttotal: 34.1ms\tremaining: 535ms\n",
      "30:\tlearn: 218.0436020\ttotal: 35.2ms\tremaining: 533ms\n",
      "31:\tlearn: 216.9634075\ttotal: 36.6ms\tremaining: 536ms\n",
      "32:\tlearn: 216.1708907\ttotal: 37.7ms\tremaining: 533ms\n",
      "33:\tlearn: 215.4516087\ttotal: 38.7ms\tremaining: 530ms\n",
      "34:\tlearn: 213.4015173\ttotal: 39.7ms\tremaining: 528ms\n",
      "35:\tlearn: 211.9871097\ttotal: 40.7ms\tremaining: 525ms\n",
      "36:\tlearn: 210.1608247\ttotal: 41.6ms\tremaining: 521ms\n",
      "37:\tlearn: 209.3693410\ttotal: 42.6ms\tremaining: 518ms\n",
      "38:\tlearn: 207.8937541\ttotal: 43.6ms\tremaining: 515ms\n",
      "39:\tlearn: 205.0136403\ttotal: 44.7ms\tremaining: 513ms\n",
      "40:\tlearn: 204.0217380\ttotal: 45.7ms\tremaining: 511ms\n",
      "41:\tlearn: 201.6162979\ttotal: 46.7ms\tremaining: 509ms\n",
      "42:\tlearn: 200.4483869\ttotal: 47.7ms\tremaining: 507ms\n",
      "43:\tlearn: 199.6072002\ttotal: 48.7ms\tremaining: 505ms\n",
      "44:\tlearn: 198.8256220\ttotal: 49.7ms\tremaining: 503ms\n",
      "45:\tlearn: 196.8389452\ttotal: 50.8ms\tremaining: 501ms\n",
      "46:\tlearn: 194.5633920\ttotal: 51.8ms\tremaining: 500ms\n",
      "47:\tlearn: 193.5582529\ttotal: 52.9ms\tremaining: 498ms\n",
      "48:\tlearn: 192.8475647\ttotal: 53.9ms\tremaining: 496ms\n",
      "49:\tlearn: 190.0180645\ttotal: 55.3ms\tremaining: 498ms\n",
      "50:\tlearn: 188.0570614\ttotal: 56.5ms\tremaining: 498ms\n",
      "51:\tlearn: 186.6644046\ttotal: 57.6ms\tremaining: 496ms\n",
      "52:\tlearn: 186.1701361\ttotal: 58.7ms\tremaining: 495ms\n",
      "53:\tlearn: 184.7381920\ttotal: 59.8ms\tremaining: 494ms\n",
      "54:\tlearn: 184.3231976\ttotal: 60.9ms\tremaining: 493ms\n",
      "55:\tlearn: 183.9537524\ttotal: 62ms\tremaining: 491ms\n",
      "56:\tlearn: 181.8581554\ttotal: 63ms\tremaining: 490ms\n",
      "57:\tlearn: 181.4454345\ttotal: 64.2ms\tremaining: 489ms\n",
      "58:\tlearn: 180.8458178\ttotal: 65.2ms\tremaining: 487ms\n",
      "59:\tlearn: 180.4042535\ttotal: 66.3ms\tremaining: 486ms\n",
      "60:\tlearn: 179.9776830\ttotal: 67.3ms\tremaining: 484ms\n",
      "61:\tlearn: 177.9856271\ttotal: 68.3ms\tremaining: 482ms\n",
      "62:\tlearn: 177.6591530\ttotal: 69.4ms\tremaining: 481ms\n",
      "63:\tlearn: 177.0583810\ttotal: 70.4ms\tremaining: 480ms\n",
      "64:\tlearn: 176.7722544\ttotal: 71.3ms\tremaining: 477ms\n",
      "65:\tlearn: 176.2568487\ttotal: 72.3ms\tremaining: 475ms\n",
      "66:\tlearn: 175.3021012\ttotal: 73.6ms\tremaining: 475ms\n",
      "67:\tlearn: 174.1879865\ttotal: 74.6ms\tremaining: 474ms\n",
      "68:\tlearn: 172.3048379\ttotal: 75.7ms\tremaining: 473ms\n",
      "69:\tlearn: 171.3517350\ttotal: 76.7ms\tremaining: 471ms\n",
      "70:\tlearn: 169.9219614\ttotal: 77.8ms\tremaining: 470ms\n",
      "71:\tlearn: 167.5003149\ttotal: 79ms\tremaining: 470ms\n",
      "72:\tlearn: 167.0379330\ttotal: 80ms\tremaining: 468ms\n",
      "73:\tlearn: 165.3722587\ttotal: 81.6ms\tremaining: 470ms\n",
      "74:\tlearn: 164.5229866\ttotal: 82.7ms\tremaining: 469ms\n",
      "75:\tlearn: 162.1469544\ttotal: 83.7ms\tremaining: 467ms\n",
      "76:\tlearn: 160.7255446\ttotal: 84.8ms\tremaining: 466ms\n",
      "77:\tlearn: 160.4670149\ttotal: 85.9ms\tremaining: 465ms\n",
      "78:\tlearn: 160.0212546\ttotal: 86.9ms\tremaining: 463ms\n",
      "79:\tlearn: 159.5728419\ttotal: 87.9ms\tremaining: 461ms\n",
      "80:\tlearn: 159.2320486\ttotal: 88.9ms\tremaining: 460ms\n",
      "81:\tlearn: 158.2064575\ttotal: 89.9ms\tremaining: 458ms\n",
      "82:\tlearn: 156.0593658\ttotal: 91.2ms\tremaining: 458ms\n",
      "83:\tlearn: 155.6719619\ttotal: 92.2ms\tremaining: 457ms\n",
      "84:\tlearn: 154.8034957\ttotal: 93.5ms\tremaining: 457ms\n",
      "85:\tlearn: 154.1523793\ttotal: 94.6ms\tremaining: 455ms\n",
      "86:\tlearn: 152.7964593\ttotal: 95.7ms\tremaining: 454ms\n",
      "87:\tlearn: 151.0393409\ttotal: 96.8ms\tremaining: 453ms\n",
      "88:\tlearn: 149.1796329\ttotal: 97.9ms\tremaining: 452ms\n",
      "89:\tlearn: 148.2468448\ttotal: 99.1ms\tremaining: 451ms\n",
      "90:\tlearn: 148.0365750\ttotal: 100ms\tremaining: 451ms\n",
      "91:\tlearn: 146.5421227\ttotal: 102ms\tremaining: 450ms\n",
      "92:\tlearn: 144.8367354\ttotal: 103ms\tremaining: 450ms\n",
      "93:\tlearn: 144.6315245\ttotal: 104ms\tremaining: 448ms\n",
      "94:\tlearn: 144.4226221\ttotal: 105ms\tremaining: 447ms\n",
      "95:\tlearn: 143.5398899\ttotal: 106ms\tremaining: 446ms\n",
      "96:\tlearn: 142.3842460\ttotal: 107ms\tremaining: 446ms\n",
      "97:\tlearn: 142.1642339\ttotal: 108ms\tremaining: 444ms\n",
      "98:\tlearn: 141.3906853\ttotal: 110ms\tremaining: 444ms\n",
      "99:\tlearn: 141.1267791\ttotal: 111ms\tremaining: 442ms\n",
      "100:\tlearn: 139.8219108\ttotal: 112ms\tremaining: 441ms\n",
      "101:\tlearn: 138.2597423\ttotal: 113ms\tremaining: 440ms\n",
      "102:\tlearn: 138.0541820\ttotal: 114ms\tremaining: 439ms\n",
      "103:\tlearn: 137.1068076\ttotal: 115ms\tremaining: 437ms\n",
      "104:\tlearn: 135.6485501\ttotal: 116ms\tremaining: 437ms\n",
      "105:\tlearn: 135.0044888\ttotal: 117ms\tremaining: 435ms\n",
      "106:\tlearn: 134.8094095\ttotal: 118ms\tremaining: 434ms\n",
      "107:\tlearn: 133.4047476\ttotal: 120ms\tremaining: 434ms\n",
      "108:\tlearn: 132.0370778\ttotal: 121ms\tremaining: 433ms\n",
      "109:\tlearn: 131.0589760\ttotal: 122ms\tremaining: 432ms\n",
      "110:\tlearn: 130.1696903\ttotal: 123ms\tremaining: 431ms\n",
      "111:\tlearn: 129.9598600\ttotal: 124ms\tremaining: 429ms\n",
      "112:\tlearn: 129.6301168\ttotal: 125ms\tremaining: 428ms\n",
      "113:\tlearn: 128.5887118\ttotal: 126ms\tremaining: 426ms\n",
      "114:\tlearn: 128.4076864\ttotal: 127ms\tremaining: 425ms\n",
      "115:\tlearn: 128.1741307\ttotal: 128ms\tremaining: 425ms\n",
      "116:\tlearn: 127.2061787\ttotal: 129ms\tremaining: 424ms\n",
      "117:\tlearn: 127.0234037\ttotal: 131ms\tremaining: 423ms\n",
      "118:\tlearn: 126.3315410\ttotal: 132ms\tremaining: 421ms\n",
      "119:\tlearn: 126.0462836\ttotal: 133ms\tremaining: 420ms\n",
      "120:\tlearn: 125.7837162\ttotal: 134ms\tremaining: 419ms\n",
      "121:\tlearn: 124.9864198\ttotal: 135ms\tremaining: 417ms\n",
      "122:\tlearn: 123.8601317\ttotal: 136ms\tremaining: 416ms\n",
      "123:\tlearn: 122.7266970\ttotal: 137ms\tremaining: 415ms\n",
      "124:\tlearn: 121.9830230\ttotal: 138ms\tremaining: 414ms\n",
      "125:\tlearn: 121.4286506\ttotal: 139ms\tremaining: 414ms\n",
      "126:\tlearn: 121.0464328\ttotal: 141ms\tremaining: 415ms\n",
      "127:\tlearn: 120.1204774\ttotal: 143ms\tremaining: 416ms\n",
      "128:\tlearn: 119.5062603\ttotal: 145ms\tremaining: 416ms\n",
      "129:\tlearn: 119.2367419\ttotal: 146ms\tremaining: 415ms\n",
      "130:\tlearn: 118.8733221\ttotal: 147ms\tremaining: 414ms\n",
      "131:\tlearn: 118.7197394\ttotal: 148ms\tremaining: 414ms\n",
      "132:\tlearn: 118.3907461\ttotal: 151ms\tremaining: 415ms\n",
      "133:\tlearn: 117.9096188\ttotal: 152ms\tremaining: 416ms\n",
      "134:\tlearn: 117.7657243\ttotal: 154ms\tremaining: 416ms\n",
      "135:\tlearn: 117.0599127\ttotal: 155ms\tremaining: 415ms\n",
      "136:\tlearn: 116.3878888\ttotal: 156ms\tremaining: 414ms\n",
      "137:\tlearn: 115.6125036\ttotal: 158ms\tremaining: 414ms\n",
      "138:\tlearn: 114.9414902\ttotal: 159ms\tremaining: 412ms\n",
      "139:\tlearn: 114.1254992\ttotal: 160ms\tremaining: 412ms\n",
      "140:\tlearn: 113.4971558\ttotal: 161ms\tremaining: 410ms\n",
      "141:\tlearn: 112.6141749\ttotal: 162ms\tremaining: 410ms\n",
      "142:\tlearn: 112.2473079\ttotal: 164ms\tremaining: 409ms\n",
      "143:\tlearn: 111.7881481\ttotal: 165ms\tremaining: 408ms\n",
      "144:\tlearn: 111.1218844\ttotal: 166ms\tremaining: 407ms\n",
      "145:\tlearn: 110.2336427\ttotal: 167ms\tremaining: 405ms\n",
      "146:\tlearn: 109.5226739\ttotal: 168ms\tremaining: 404ms\n",
      "147:\tlearn: 109.3551558\ttotal: 170ms\tremaining: 405ms\n",
      "148:\tlearn: 108.6581535\ttotal: 172ms\tremaining: 404ms\n",
      "149:\tlearn: 107.8828934\ttotal: 173ms\tremaining: 404ms\n",
      "150:\tlearn: 107.3869248\ttotal: 175ms\tremaining: 405ms\n",
      "151:\tlearn: 107.1340363\ttotal: 177ms\tremaining: 405ms\n",
      "152:\tlearn: 106.7470977\ttotal: 179ms\tremaining: 405ms\n",
      "153:\tlearn: 106.4069192\ttotal: 180ms\tremaining: 404ms\n",
      "154:\tlearn: 106.1888236\ttotal: 181ms\tremaining: 404ms\n",
      "155:\tlearn: 105.7802559\ttotal: 183ms\tremaining: 404ms\n",
      "156:\tlearn: 105.3757852\ttotal: 185ms\tremaining: 405ms\n",
      "157:\tlearn: 105.0664097\ttotal: 187ms\tremaining: 405ms\n",
      "158:\tlearn: 104.0158027\ttotal: 188ms\tremaining: 404ms\n",
      "159:\tlearn: 103.2120976\ttotal: 190ms\tremaining: 404ms\n",
      "160:\tlearn: 102.9930311\ttotal: 192ms\tremaining: 404ms\n",
      "161:\tlearn: 101.9340486\ttotal: 193ms\tremaining: 403ms\n",
      "162:\tlearn: 101.1749724\ttotal: 195ms\tremaining: 402ms\n",
      "163:\tlearn: 101.0255305\ttotal: 196ms\tremaining: 402ms\n",
      "164:\tlearn: 100.9057979\ttotal: 198ms\tremaining: 402ms\n",
      "165:\tlearn: 99.9663433\ttotal: 200ms\tremaining: 402ms\n",
      "166:\tlearn: 99.1786972\ttotal: 202ms\tremaining: 402ms\n",
      "167:\tlearn: 99.0429259\ttotal: 203ms\tremaining: 402ms\n",
      "168:\tlearn: 98.9298147\ttotal: 205ms\tremaining: 401ms\n",
      "169:\tlearn: 98.7624617\ttotal: 207ms\tremaining: 401ms\n",
      "170:\tlearn: 98.3651061\ttotal: 208ms\tremaining: 401ms\n",
      "171:\tlearn: 97.7880850\ttotal: 210ms\tremaining: 400ms\n",
      "172:\tlearn: 97.0237804\ttotal: 212ms\tremaining: 401ms\n",
      "173:\tlearn: 96.1759538\ttotal: 214ms\tremaining: 401ms\n",
      "174:\tlearn: 95.5666272\ttotal: 216ms\tremaining: 400ms\n",
      "175:\tlearn: 95.2205650\ttotal: 217ms\tremaining: 400ms\n",
      "176:\tlearn: 94.3197391\ttotal: 219ms\tremaining: 399ms\n",
      "177:\tlearn: 93.7293126\ttotal: 220ms\tremaining: 398ms\n",
      "178:\tlearn: 93.4681359\ttotal: 223ms\tremaining: 399ms\n",
      "179:\tlearn: 93.3340057\ttotal: 225ms\tremaining: 399ms\n",
      "180:\tlearn: 92.7479122\ttotal: 226ms\tremaining: 398ms\n",
      "181:\tlearn: 92.2561003\ttotal: 227ms\tremaining: 397ms\n",
      "182:\tlearn: 92.0144851\ttotal: 229ms\tremaining: 397ms\n",
      "183:\tlearn: 91.5743125\ttotal: 230ms\tremaining: 396ms\n",
      "184:\tlearn: 91.4600413\ttotal: 232ms\tremaining: 395ms\n",
      "185:\tlearn: 90.9604544\ttotal: 233ms\tremaining: 394ms\n",
      "186:\tlearn: 90.4858645\ttotal: 235ms\tremaining: 393ms\n",
      "187:\tlearn: 89.8094201\ttotal: 236ms\tremaining: 391ms\n",
      "188:\tlearn: 89.2184590\ttotal: 237ms\tremaining: 390ms\n",
      "189:\tlearn: 88.4617824\ttotal: 238ms\tremaining: 389ms\n",
      "190:\tlearn: 88.1906362\ttotal: 240ms\tremaining: 388ms\n",
      "191:\tlearn: 88.1044854\ttotal: 241ms\tremaining: 387ms\n",
      "192:\tlearn: 87.7736383\ttotal: 243ms\tremaining: 386ms\n",
      "193:\tlearn: 87.1133873\ttotal: 245ms\tremaining: 386ms\n",
      "194:\tlearn: 86.8980787\ttotal: 246ms\tremaining: 385ms\n",
      "195:\tlearn: 86.7123906\ttotal: 248ms\tremaining: 384ms\n",
      "196:\tlearn: 86.5782770\ttotal: 249ms\tremaining: 383ms\n",
      "197:\tlearn: 85.9633282\ttotal: 251ms\tremaining: 383ms\n",
      "198:\tlearn: 85.4638568\ttotal: 252ms\tremaining: 381ms\n",
      "199:\tlearn: 85.0678727\ttotal: 254ms\tremaining: 381ms\n",
      "200:\tlearn: 84.4872795\ttotal: 256ms\tremaining: 380ms\n",
      "201:\tlearn: 84.3284377\ttotal: 257ms\tremaining: 379ms\n",
      "202:\tlearn: 83.7922104\ttotal: 258ms\tremaining: 378ms\n",
      "203:\tlearn: 83.5457625\ttotal: 260ms\tremaining: 377ms\n",
      "204:\tlearn: 82.7979516\ttotal: 261ms\tremaining: 376ms\n",
      "205:\tlearn: 82.4010485\ttotal: 263ms\tremaining: 375ms\n",
      "206:\tlearn: 82.2566198\ttotal: 264ms\tremaining: 374ms\n",
      "207:\tlearn: 81.9778307\ttotal: 266ms\tremaining: 373ms\n",
      "208:\tlearn: 81.5818116\ttotal: 268ms\tremaining: 373ms\n",
      "209:\tlearn: 81.4801577\ttotal: 270ms\tremaining: 373ms\n",
      "210:\tlearn: 81.1783132\ttotal: 271ms\tremaining: 371ms\n",
      "211:\tlearn: 81.0683928\ttotal: 272ms\tremaining: 370ms\n",
      "212:\tlearn: 80.3519286\ttotal: 273ms\tremaining: 368ms\n",
      "213:\tlearn: 79.6858800\ttotal: 274ms\tremaining: 367ms\n",
      "214:\tlearn: 79.6055533\ttotal: 275ms\tremaining: 365ms\n",
      "215:\tlearn: 79.3883085\ttotal: 276ms\tremaining: 363ms\n",
      "216:\tlearn: 79.3180653\ttotal: 277ms\tremaining: 361ms\n",
      "217:\tlearn: 79.2241854\ttotal: 278ms\tremaining: 360ms\n",
      "218:\tlearn: 78.8254261\ttotal: 280ms\tremaining: 360ms\n",
      "219:\tlearn: 78.3038595\ttotal: 282ms\tremaining: 359ms\n",
      "220:\tlearn: 77.8459803\ttotal: 283ms\tremaining: 357ms\n",
      "221:\tlearn: 77.2854775\ttotal: 284ms\tremaining: 355ms\n",
      "222:\tlearn: 76.8198583\ttotal: 285ms\tremaining: 354ms\n",
      "223:\tlearn: 76.3489558\ttotal: 286ms\tremaining: 352ms\n",
      "224:\tlearn: 76.0644541\ttotal: 287ms\tremaining: 351ms\n",
      "225:\tlearn: 75.9751803\ttotal: 288ms\tremaining: 349ms\n",
      "226:\tlearn: 75.7133100\ttotal: 289ms\tremaining: 348ms\n",
      "227:\tlearn: 75.1560165\ttotal: 290ms\tremaining: 346ms\n",
      "228:\tlearn: 74.8759109\ttotal: 291ms\tremaining: 344ms\n",
      "229:\tlearn: 74.6333062\ttotal: 292ms\tremaining: 343ms\n",
      "230:\tlearn: 74.3282078\ttotal: 293ms\tremaining: 341ms\n",
      "231:\tlearn: 74.1186123\ttotal: 294ms\tremaining: 340ms\n",
      "232:\tlearn: 74.0505609\ttotal: 296ms\tremaining: 339ms\n",
      "233:\tlearn: 73.9693919\ttotal: 297ms\tremaining: 338ms\n",
      "234:\tlearn: 73.8410447\ttotal: 298ms\tremaining: 336ms\n",
      "235:\tlearn: 73.4204517\ttotal: 299ms\tremaining: 335ms\n",
      "236:\tlearn: 72.8923882\ttotal: 300ms\tremaining: 333ms\n",
      "237:\tlearn: 72.5972621\ttotal: 301ms\tremaining: 332ms\n",
      "238:\tlearn: 72.2021077\ttotal: 302ms\tremaining: 330ms\n",
      "239:\tlearn: 71.7818966\ttotal: 303ms\tremaining: 328ms\n",
      "240:\tlearn: 71.3121421\ttotal: 304ms\tremaining: 327ms\n",
      "241:\tlearn: 71.1953054\ttotal: 305ms\tremaining: 325ms\n",
      "242:\tlearn: 70.9057069\ttotal: 306ms\tremaining: 324ms\n",
      "243:\tlearn: 70.5776968\ttotal: 308ms\tremaining: 323ms\n",
      "244:\tlearn: 70.3776295\ttotal: 309ms\tremaining: 321ms\n",
      "245:\tlearn: 70.0869674\ttotal: 310ms\tremaining: 320ms\n",
      "246:\tlearn: 69.9349416\ttotal: 311ms\tremaining: 318ms\n",
      "247:\tlearn: 69.8356056\ttotal: 312ms\tremaining: 317ms\n",
      "248:\tlearn: 69.5774526\ttotal: 313ms\tremaining: 315ms\n",
      "249:\tlearn: 69.0371622\ttotal: 314ms\tremaining: 314ms\n",
      "250:\tlearn: 68.8852912\ttotal: 315ms\tremaining: 312ms\n",
      "251:\tlearn: 68.6174916\ttotal: 316ms\tremaining: 311ms\n",
      "252:\tlearn: 68.1669872\ttotal: 317ms\tremaining: 309ms\n",
      "253:\tlearn: 67.9519550\ttotal: 318ms\tremaining: 308ms\n",
      "254:\tlearn: 67.5903118\ttotal: 319ms\tremaining: 307ms\n",
      "255:\tlearn: 67.4870567\ttotal: 320ms\tremaining: 305ms\n",
      "256:\tlearn: 67.1312800\ttotal: 321ms\tremaining: 304ms\n",
      "257:\tlearn: 66.7706353\ttotal: 323ms\tremaining: 303ms\n",
      "258:\tlearn: 66.5173041\ttotal: 324ms\tremaining: 301ms\n",
      "259:\tlearn: 66.2079446\ttotal: 325ms\tremaining: 300ms\n",
      "260:\tlearn: 65.8048903\ttotal: 325ms\tremaining: 298ms\n",
      "261:\tlearn: 65.5941252\ttotal: 327ms\tremaining: 297ms\n",
      "262:\tlearn: 65.4086455\ttotal: 328ms\tremaining: 295ms\n",
      "263:\tlearn: 64.8140142\ttotal: 329ms\tremaining: 294ms\n",
      "264:\tlearn: 64.7058842\ttotal: 330ms\tremaining: 292ms\n",
      "265:\tlearn: 64.5754010\ttotal: 331ms\tremaining: 291ms\n",
      "266:\tlearn: 64.4968398\ttotal: 332ms\tremaining: 289ms\n",
      "267:\tlearn: 64.2283461\ttotal: 332ms\tremaining: 288ms\n",
      "268:\tlearn: 64.0230322\ttotal: 333ms\tremaining: 286ms\n",
      "269:\tlearn: 63.9155677\ttotal: 334ms\tremaining: 285ms\n",
      "270:\tlearn: 63.5951267\ttotal: 335ms\tremaining: 283ms\n",
      "271:\tlearn: 63.3385045\ttotal: 336ms\tremaining: 282ms\n",
      "272:\tlearn: 63.0304017\ttotal: 337ms\tremaining: 280ms\n",
      "273:\tlearn: 62.6241591\ttotal: 338ms\tremaining: 279ms\n",
      "274:\tlearn: 62.3527328\ttotal: 339ms\tremaining: 278ms\n",
      "275:\tlearn: 62.2453658\ttotal: 341ms\tremaining: 276ms\n",
      "276:\tlearn: 61.9606055\ttotal: 342ms\tremaining: 275ms\n",
      "277:\tlearn: 61.6738092\ttotal: 343ms\tremaining: 274ms\n",
      "278:\tlearn: 61.4150393\ttotal: 344ms\tremaining: 272ms\n",
      "279:\tlearn: 60.8292455\ttotal: 345ms\tremaining: 271ms\n",
      "280:\tlearn: 60.7800822\ttotal: 346ms\tremaining: 269ms\n",
      "281:\tlearn: 60.2601683\ttotal: 346ms\tremaining: 268ms\n",
      "282:\tlearn: 59.9105654\ttotal: 348ms\tremaining: 267ms\n",
      "283:\tlearn: 59.7483486\ttotal: 349ms\tremaining: 266ms\n",
      "284:\tlearn: 59.4757768\ttotal: 351ms\tremaining: 265ms\n",
      "285:\tlearn: 59.1988083\ttotal: 353ms\tremaining: 264ms\n",
      "286:\tlearn: 58.8697633\ttotal: 354ms\tremaining: 263ms\n",
      "287:\tlearn: 58.6401237\ttotal: 357ms\tremaining: 262ms\n",
      "288:\tlearn: 58.4406914\ttotal: 358ms\tremaining: 262ms\n",
      "289:\tlearn: 58.1881828\ttotal: 360ms\tremaining: 261ms\n",
      "290:\tlearn: 58.0510696\ttotal: 361ms\tremaining: 260ms\n",
      "291:\tlearn: 57.8843864\ttotal: 363ms\tremaining: 258ms\n",
      "292:\tlearn: 57.4109830\ttotal: 364ms\tremaining: 257ms\n",
      "293:\tlearn: 57.1155832\ttotal: 366ms\tremaining: 256ms\n",
      "294:\tlearn: 56.9279721\ttotal: 367ms\tremaining: 255ms\n",
      "295:\tlearn: 56.7300699\ttotal: 370ms\tremaining: 255ms\n",
      "296:\tlearn: 56.4010187\ttotal: 371ms\tremaining: 254ms\n",
      "297:\tlearn: 56.2233302\ttotal: 373ms\tremaining: 253ms\n",
      "298:\tlearn: 56.0486078\ttotal: 375ms\tremaining: 252ms\n",
      "299:\tlearn: 56.0027604\ttotal: 376ms\tremaining: 251ms\n",
      "300:\tlearn: 55.9610928\ttotal: 378ms\tremaining: 250ms\n",
      "301:\tlearn: 55.7012068\ttotal: 379ms\tremaining: 249ms\n",
      "302:\tlearn: 55.6666200\ttotal: 381ms\tremaining: 248ms\n",
      "303:\tlearn: 55.5492699\ttotal: 382ms\tremaining: 246ms\n",
      "304:\tlearn: 55.5018805\ttotal: 384ms\tremaining: 245ms\n",
      "305:\tlearn: 55.2931993\ttotal: 385ms\tremaining: 244ms\n",
      "306:\tlearn: 55.2325003\ttotal: 387ms\tremaining: 243ms\n",
      "307:\tlearn: 54.9093880\ttotal: 388ms\tremaining: 242ms\n",
      "308:\tlearn: 54.6539721\ttotal: 390ms\tremaining: 241ms\n",
      "309:\tlearn: 54.5319259\ttotal: 392ms\tremaining: 240ms\n",
      "310:\tlearn: 54.1776970\ttotal: 394ms\tremaining: 239ms\n",
      "311:\tlearn: 54.0615999\ttotal: 395ms\tremaining: 238ms\n",
      "312:\tlearn: 53.7453735\ttotal: 396ms\tremaining: 237ms\n",
      "313:\tlearn: 53.4248670\ttotal: 398ms\tremaining: 236ms\n",
      "314:\tlearn: 53.3704852\ttotal: 401ms\tremaining: 235ms\n",
      "315:\tlearn: 53.1968579\ttotal: 402ms\tremaining: 234ms\n",
      "316:\tlearn: 53.0394852\ttotal: 405ms\tremaining: 234ms\n",
      "317:\tlearn: 52.8920297\ttotal: 406ms\tremaining: 233ms\n",
      "318:\tlearn: 52.4578882\ttotal: 408ms\tremaining: 231ms\n",
      "319:\tlearn: 52.4155392\ttotal: 409ms\tremaining: 230ms\n",
      "320:\tlearn: 52.1691693\ttotal: 410ms\tremaining: 229ms\n",
      "321:\tlearn: 51.7527329\ttotal: 411ms\tremaining: 227ms\n",
      "322:\tlearn: 51.7021608\ttotal: 412ms\tremaining: 226ms\n",
      "323:\tlearn: 51.6489356\ttotal: 413ms\tremaining: 224ms\n",
      "324:\tlearn: 51.5634068\ttotal: 414ms\tremaining: 223ms\n",
      "325:\tlearn: 51.1964124\ttotal: 415ms\tremaining: 222ms\n",
      "326:\tlearn: 51.0047985\ttotal: 416ms\tremaining: 220ms\n",
      "327:\tlearn: 50.7927522\ttotal: 417ms\tremaining: 219ms\n",
      "328:\tlearn: 50.4539812\ttotal: 419ms\tremaining: 218ms\n",
      "329:\tlearn: 50.4122168\ttotal: 420ms\tremaining: 216ms\n",
      "330:\tlearn: 50.0274043\ttotal: 421ms\tremaining: 215ms\n",
      "331:\tlearn: 49.9005859\ttotal: 422ms\tremaining: 213ms\n",
      "332:\tlearn: 49.6456006\ttotal: 423ms\tremaining: 212ms\n",
      "333:\tlearn: 49.4533608\ttotal: 424ms\tremaining: 211ms\n",
      "334:\tlearn: 49.2713217\ttotal: 425ms\tremaining: 209ms\n",
      "335:\tlearn: 49.2090665\ttotal: 426ms\tremaining: 208ms\n",
      "336:\tlearn: 49.1731559\ttotal: 427ms\tremaining: 207ms\n",
      "337:\tlearn: 48.9473537\ttotal: 428ms\tremaining: 205ms\n",
      "338:\tlearn: 48.7244369\ttotal: 429ms\tremaining: 204ms\n",
      "339:\tlearn: 48.4896916\ttotal: 430ms\tremaining: 202ms\n",
      "340:\tlearn: 48.1475376\ttotal: 431ms\tremaining: 201ms\n",
      "341:\tlearn: 48.0004821\ttotal: 432ms\tremaining: 200ms\n",
      "342:\tlearn: 47.8513919\ttotal: 433ms\tremaining: 198ms\n",
      "343:\tlearn: 47.7243446\ttotal: 434ms\tremaining: 197ms\n",
      "344:\tlearn: 47.5052401\ttotal: 435ms\tremaining: 196ms\n",
      "345:\tlearn: 47.2725251\ttotal: 436ms\tremaining: 194ms\n",
      "346:\tlearn: 47.2221101\ttotal: 437ms\tremaining: 193ms\n",
      "347:\tlearn: 47.1876387\ttotal: 438ms\tremaining: 191ms\n",
      "348:\tlearn: 46.9917676\ttotal: 439ms\tremaining: 190ms\n",
      "349:\tlearn: 46.9023530\ttotal: 440ms\tremaining: 189ms\n",
      "350:\tlearn: 46.5204901\ttotal: 441ms\tremaining: 187ms\n",
      "351:\tlearn: 46.2748195\ttotal: 442ms\tremaining: 186ms\n",
      "352:\tlearn: 46.1375733\ttotal: 443ms\tremaining: 185ms\n",
      "353:\tlearn: 46.0455829\ttotal: 444ms\tremaining: 183ms\n",
      "354:\tlearn: 46.0011389\ttotal: 445ms\tremaining: 182ms\n",
      "355:\tlearn: 45.8504890\ttotal: 446ms\tremaining: 180ms\n",
      "356:\tlearn: 45.6823459\ttotal: 447ms\tremaining: 179ms\n",
      "357:\tlearn: 45.4211615\ttotal: 448ms\tremaining: 178ms\n",
      "358:\tlearn: 45.2688937\ttotal: 449ms\tremaining: 176ms\n",
      "359:\tlearn: 45.1684691\ttotal: 450ms\tremaining: 175ms\n",
      "360:\tlearn: 45.1413976\ttotal: 451ms\tremaining: 174ms\n",
      "361:\tlearn: 45.0325406\ttotal: 453ms\tremaining: 173ms\n",
      "362:\tlearn: 44.7929195\ttotal: 455ms\tremaining: 172ms\n",
      "363:\tlearn: 44.5845661\ttotal: 456ms\tremaining: 170ms\n",
      "364:\tlearn: 44.5520233\ttotal: 458ms\tremaining: 169ms\n",
      "365:\tlearn: 44.5044423\ttotal: 459ms\tremaining: 168ms\n",
      "366:\tlearn: 44.3721438\ttotal: 460ms\tremaining: 167ms\n",
      "367:\tlearn: 44.2138033\ttotal: 461ms\tremaining: 165ms\n",
      "368:\tlearn: 44.0473765\ttotal: 463ms\tremaining: 164ms\n",
      "369:\tlearn: 43.8196369\ttotal: 464ms\tremaining: 163ms\n",
      "370:\tlearn: 43.5773991\ttotal: 465ms\tremaining: 162ms\n",
      "371:\tlearn: 43.4592809\ttotal: 466ms\tremaining: 160ms\n",
      "372:\tlearn: 43.3061595\ttotal: 467ms\tremaining: 159ms\n",
      "373:\tlearn: 43.1181760\ttotal: 468ms\tremaining: 158ms\n",
      "374:\tlearn: 42.9897499\ttotal: 469ms\tremaining: 156ms\n",
      "375:\tlearn: 42.7106787\ttotal: 470ms\tremaining: 155ms\n",
      "376:\tlearn: 42.6838945\ttotal: 471ms\tremaining: 154ms\n",
      "377:\tlearn: 42.5374709\ttotal: 472ms\tremaining: 152ms\n",
      "378:\tlearn: 42.4877809\ttotal: 473ms\tremaining: 151ms\n",
      "379:\tlearn: 42.2772090\ttotal: 474ms\tremaining: 150ms\n",
      "380:\tlearn: 42.0445185\ttotal: 475ms\tremaining: 148ms\n",
      "381:\tlearn: 41.9594930\ttotal: 476ms\tremaining: 147ms\n",
      "382:\tlearn: 41.8550343\ttotal: 477ms\tremaining: 146ms\n",
      "383:\tlearn: 41.7618750\ttotal: 479ms\tremaining: 145ms\n",
      "384:\tlearn: 41.7365987\ttotal: 480ms\tremaining: 143ms\n",
      "385:\tlearn: 41.5455695\ttotal: 481ms\tremaining: 142ms\n",
      "386:\tlearn: 41.3797474\ttotal: 482ms\tremaining: 141ms\n",
      "387:\tlearn: 41.2349615\ttotal: 483ms\tremaining: 139ms\n",
      "388:\tlearn: 41.0125122\ttotal: 484ms\tremaining: 138ms\n",
      "389:\tlearn: 40.8234114\ttotal: 484ms\tremaining: 137ms\n",
      "390:\tlearn: 40.6160646\ttotal: 485ms\tremaining: 135ms\n",
      "391:\tlearn: 40.5803285\ttotal: 486ms\tremaining: 134ms\n",
      "392:\tlearn: 40.5059367\ttotal: 487ms\tremaining: 133ms\n",
      "393:\tlearn: 40.3416546\ttotal: 489ms\tremaining: 131ms\n",
      "394:\tlearn: 40.1864823\ttotal: 490ms\tremaining: 130ms\n",
      "395:\tlearn: 39.8859713\ttotal: 491ms\tremaining: 129ms\n",
      "396:\tlearn: 39.7451680\ttotal: 492ms\tremaining: 128ms\n",
      "397:\tlearn: 39.4688349\ttotal: 493ms\tremaining: 126ms\n",
      "398:\tlearn: 39.3449963\ttotal: 494ms\tremaining: 125ms\n",
      "399:\tlearn: 39.2083103\ttotal: 495ms\tremaining: 124ms\n",
      "400:\tlearn: 39.1026879\ttotal: 496ms\tremaining: 122ms\n",
      "401:\tlearn: 38.8185959\ttotal: 497ms\tremaining: 121ms\n",
      "402:\tlearn: 38.7062283\ttotal: 498ms\tremaining: 120ms\n",
      "403:\tlearn: 38.3818109\ttotal: 499ms\tremaining: 119ms\n",
      "404:\tlearn: 38.1696996\ttotal: 500ms\tremaining: 117ms\n",
      "405:\tlearn: 38.0173084\ttotal: 501ms\tremaining: 116ms\n",
      "406:\tlearn: 37.8729775\ttotal: 502ms\tremaining: 115ms\n",
      "407:\tlearn: 37.6171883\ttotal: 503ms\tremaining: 113ms\n",
      "408:\tlearn: 37.3836799\ttotal: 504ms\tremaining: 112ms\n",
      "409:\tlearn: 37.1460870\ttotal: 505ms\tremaining: 111ms\n",
      "410:\tlearn: 37.0670229\ttotal: 506ms\tremaining: 110ms\n",
      "411:\tlearn: 36.9451628\ttotal: 507ms\tremaining: 108ms\n",
      "412:\tlearn: 36.8149832\ttotal: 508ms\tremaining: 107ms\n",
      "413:\tlearn: 36.6815425\ttotal: 509ms\tremaining: 106ms\n",
      "414:\tlearn: 36.5638145\ttotal: 510ms\tremaining: 104ms\n",
      "415:\tlearn: 36.5164507\ttotal: 511ms\tremaining: 103ms\n",
      "416:\tlearn: 36.3396865\ttotal: 511ms\tremaining: 102ms\n",
      "417:\tlearn: 36.1391228\ttotal: 512ms\tremaining: 101ms\n",
      "418:\tlearn: 35.9069504\ttotal: 514ms\tremaining: 99.3ms\n",
      "419:\tlearn: 35.8527711\ttotal: 515ms\tremaining: 98ms\n",
      "420:\tlearn: 35.6569374\ttotal: 516ms\tremaining: 96.7ms\n",
      "421:\tlearn: 35.5345573\ttotal: 517ms\tremaining: 95.5ms\n",
      "422:\tlearn: 35.4914301\ttotal: 518ms\tremaining: 94.2ms\n",
      "423:\tlearn: 35.4643655\ttotal: 518ms\tremaining: 92.9ms\n",
      "424:\tlearn: 35.2789395\ttotal: 519ms\tremaining: 91.7ms\n",
      "425:\tlearn: 35.0985825\ttotal: 520ms\tremaining: 90.4ms\n",
      "426:\tlearn: 35.0360584\ttotal: 521ms\tremaining: 89.1ms\n",
      "427:\tlearn: 34.9516867\ttotal: 522ms\tremaining: 87.9ms\n",
      "428:\tlearn: 34.8282353\ttotal: 524ms\tremaining: 86.7ms\n",
      "429:\tlearn: 34.6444454\ttotal: 525ms\tremaining: 85.5ms\n",
      "430:\tlearn: 34.6137959\ttotal: 527ms\tremaining: 84.3ms\n",
      "431:\tlearn: 34.5334377\ttotal: 528ms\tremaining: 83.1ms\n",
      "432:\tlearn: 34.4510596\ttotal: 530ms\tremaining: 82ms\n",
      "433:\tlearn: 34.3981873\ttotal: 531ms\tremaining: 80.8ms\n",
      "434:\tlearn: 34.2862766\ttotal: 533ms\tremaining: 79.7ms\n",
      "435:\tlearn: 34.2248081\ttotal: 535ms\tremaining: 78.6ms\n",
      "436:\tlearn: 34.1023007\ttotal: 537ms\tremaining: 77.4ms\n",
      "437:\tlearn: 34.0811819\ttotal: 539ms\tremaining: 76.3ms\n",
      "438:\tlearn: 33.9099190\ttotal: 540ms\tremaining: 75.1ms\n",
      "439:\tlearn: 33.7508011\ttotal: 542ms\tremaining: 74ms\n",
      "440:\tlearn: 33.6333368\ttotal: 544ms\tremaining: 72.8ms\n",
      "441:\tlearn: 33.6126634\ttotal: 546ms\tremaining: 71.6ms\n",
      "442:\tlearn: 33.5699807\ttotal: 547ms\tremaining: 70.4ms\n",
      "443:\tlearn: 33.5423322\ttotal: 549ms\tremaining: 69.2ms\n",
      "444:\tlearn: 33.4322770\ttotal: 550ms\tremaining: 68ms\n",
      "445:\tlearn: 33.2873428\ttotal: 551ms\tremaining: 66.8ms\n",
      "446:\tlearn: 33.1445621\ttotal: 553ms\tremaining: 65.6ms\n",
      "447:\tlearn: 33.0986225\ttotal: 555ms\tremaining: 64.4ms\n",
      "448:\tlearn: 32.9468560\ttotal: 556ms\tremaining: 63.2ms\n",
      "449:\tlearn: 32.7600619\ttotal: 558ms\tremaining: 62ms\n",
      "450:\tlearn: 32.5951609\ttotal: 560ms\tremaining: 60.8ms\n",
      "451:\tlearn: 32.4322388\ttotal: 561ms\tremaining: 59.6ms\n",
      "452:\tlearn: 32.3759639\ttotal: 563ms\tremaining: 58.4ms\n",
      "453:\tlearn: 32.1368876\ttotal: 564ms\tremaining: 57.1ms\n",
      "454:\tlearn: 32.0462935\ttotal: 565ms\tremaining: 55.9ms\n",
      "455:\tlearn: 32.0220116\ttotal: 567ms\tremaining: 54.7ms\n",
      "456:\tlearn: 31.7972051\ttotal: 568ms\tremaining: 53.5ms\n",
      "457:\tlearn: 31.5119302\ttotal: 570ms\tremaining: 52.3ms\n",
      "458:\tlearn: 31.3684089\ttotal: 571ms\tremaining: 51ms\n",
      "459:\tlearn: 31.2529906\ttotal: 573ms\tremaining: 49.8ms\n",
      "460:\tlearn: 31.1181792\ttotal: 574ms\tremaining: 48.6ms\n",
      "461:\tlearn: 31.0933870\ttotal: 576ms\tremaining: 47.4ms\n",
      "462:\tlearn: 30.9723022\ttotal: 577ms\tremaining: 46.1ms\n",
      "463:\tlearn: 30.8741583\ttotal: 579ms\tremaining: 44.9ms\n",
      "464:\tlearn: 30.7451920\ttotal: 580ms\tremaining: 43.7ms\n",
      "465:\tlearn: 30.7044007\ttotal: 582ms\tremaining: 42.4ms\n",
      "466:\tlearn: 30.6431128\ttotal: 583ms\tremaining: 41.2ms\n",
      "467:\tlearn: 30.5969061\ttotal: 584ms\tremaining: 39.9ms\n",
      "468:\tlearn: 30.5309883\ttotal: 585ms\tremaining: 38.7ms\n",
      "469:\tlearn: 30.4522049\ttotal: 586ms\tremaining: 37.4ms\n",
      "470:\tlearn: 30.3477767\ttotal: 587ms\tremaining: 36.1ms\n",
      "471:\tlearn: 30.2021496\ttotal: 588ms\tremaining: 34.9ms\n",
      "472:\tlearn: 30.0755060\ttotal: 589ms\tremaining: 33.6ms\n",
      "473:\tlearn: 29.9416304\ttotal: 590ms\tremaining: 32.4ms\n",
      "474:\tlearn: 29.7874640\ttotal: 591ms\tremaining: 31.1ms\n",
      "475:\tlearn: 29.6894883\ttotal: 592ms\tremaining: 29.8ms\n",
      "476:\tlearn: 29.5780886\ttotal: 593ms\tremaining: 28.6ms\n",
      "477:\tlearn: 29.4832094\ttotal: 594ms\tremaining: 27.3ms\n",
      "478:\tlearn: 29.4118553\ttotal: 595ms\tremaining: 26.1ms\n",
      "479:\tlearn: 29.3038380\ttotal: 596ms\tremaining: 24.9ms\n",
      "480:\tlearn: 29.2201508\ttotal: 598ms\tremaining: 23.6ms\n",
      "481:\tlearn: 29.0802927\ttotal: 599ms\tremaining: 22.4ms\n",
      "482:\tlearn: 29.0417824\ttotal: 600ms\tremaining: 21.1ms\n",
      "483:\tlearn: 28.9461151\ttotal: 601ms\tremaining: 19.9ms\n",
      "484:\tlearn: 28.8056897\ttotal: 602ms\tremaining: 18.6ms\n",
      "485:\tlearn: 28.7138236\ttotal: 603ms\tremaining: 17.4ms\n",
      "486:\tlearn: 28.5600692\ttotal: 604ms\tremaining: 16.1ms\n",
      "487:\tlearn: 28.4722661\ttotal: 605ms\tremaining: 14.9ms\n",
      "488:\tlearn: 28.2802296\ttotal: 606ms\tremaining: 13.6ms\n",
      "489:\tlearn: 28.1787095\ttotal: 607ms\tremaining: 12.4ms\n",
      "490:\tlearn: 28.0902601\ttotal: 608ms\tremaining: 11.1ms\n",
      "491:\tlearn: 28.0260953\ttotal: 609ms\tremaining: 9.9ms\n",
      "492:\tlearn: 27.9478445\ttotal: 610ms\tremaining: 8.66ms\n",
      "493:\tlearn: 27.8278086\ttotal: 611ms\tremaining: 7.42ms\n",
      "494:\tlearn: 27.7609487\ttotal: 612ms\tremaining: 6.18ms\n",
      "495:\tlearn: 27.5877003\ttotal: 613ms\tremaining: 4.94ms\n",
      "496:\tlearn: 27.5611014\ttotal: 614ms\tremaining: 3.71ms\n",
      "497:\tlearn: 27.4574173\ttotal: 615ms\tremaining: 2.47ms\n",
      "498:\tlearn: 27.3858230\ttotal: 616ms\tremaining: 1.23ms\n",
      "499:\tlearn: 27.3318098\ttotal: 617ms\tremaining: 0us\n"
     ]
    }
   ],
   "source": [
    "catb_cv_model = GridSearchCV(catb_model, \n",
    "                           catb_params, \n",
    "                           cv = 5, \n",
    "                           n_jobs = -1, \n",
    "                           verbose = 2).fit(X_train, y_train)"
   ]
  },
  {
   "cell_type": "code",
   "execution_count": 181,
   "metadata": {},
   "outputs": [
    {
     "data": {
      "text/plain": [
       "{'depth': 3, 'iterations': 500, 'learning_rate': 0.1}"
      ]
     },
     "execution_count": 181,
     "metadata": {},
     "output_type": "execute_result"
    }
   ],
   "source": [
    "catb_cv_model.best_params_"
   ]
  },
  {
   "cell_type": "code",
   "execution_count": 182,
   "metadata": {
    "collapsed": true,
    "jupyter": {
     "outputs_hidden": true
    }
   },
   "outputs": [
    {
     "name": "stdout",
     "output_type": "stream",
     "text": [
      "0:\tlearn: 425.1513907\ttotal: 2.22ms\tremaining: 1.11s\n",
      "1:\tlearn: 402.8241549\ttotal: 8.24ms\tremaining: 2.05s\n",
      "2:\tlearn: 384.9516687\ttotal: 10.7ms\tremaining: 1.77s\n",
      "3:\tlearn: 370.2047924\ttotal: 13.2ms\tremaining: 1.64s\n",
      "4:\tlearn: 354.3912010\ttotal: 15.7ms\tremaining: 1.55s\n",
      "5:\tlearn: 341.2436603\ttotal: 18.2ms\tremaining: 1.5s\n",
      "6:\tlearn: 329.7531166\ttotal: 20.2ms\tremaining: 1.42s\n",
      "7:\tlearn: 321.4528232\ttotal: 23.3ms\tremaining: 1.43s\n",
      "8:\tlearn: 312.6602387\ttotal: 26.7ms\tremaining: 1.46s\n",
      "9:\tlearn: 303.5114728\ttotal: 29.4ms\tremaining: 1.44s\n",
      "10:\tlearn: 294.8248838\ttotal: 31.5ms\tremaining: 1.4s\n",
      "11:\tlearn: 287.9705821\ttotal: 33.3ms\tremaining: 1.35s\n",
      "12:\tlearn: 282.6327679\ttotal: 35.6ms\tremaining: 1.33s\n",
      "13:\tlearn: 276.7182887\ttotal: 37ms\tremaining: 1.28s\n",
      "14:\tlearn: 271.4490864\ttotal: 38.9ms\tremaining: 1.26s\n",
      "15:\tlearn: 266.8471238\ttotal: 41ms\tremaining: 1.24s\n",
      "16:\tlearn: 263.7752341\ttotal: 42.8ms\tremaining: 1.22s\n",
      "17:\tlearn: 257.5253460\ttotal: 44.5ms\tremaining: 1.19s\n",
      "18:\tlearn: 252.7637825\ttotal: 46.7ms\tremaining: 1.18s\n",
      "19:\tlearn: 249.6002108\ttotal: 48.9ms\tremaining: 1.17s\n",
      "20:\tlearn: 245.9232251\ttotal: 50.8ms\tremaining: 1.16s\n",
      "21:\tlearn: 241.6906437\ttotal: 52.9ms\tremaining: 1.15s\n",
      "22:\tlearn: 238.6590374\ttotal: 54.6ms\tremaining: 1.13s\n",
      "23:\tlearn: 235.1807717\ttotal: 56.3ms\tremaining: 1.12s\n",
      "24:\tlearn: 233.3342154\ttotal: 58.7ms\tremaining: 1.11s\n",
      "25:\tlearn: 228.6027878\ttotal: 61.1ms\tremaining: 1.11s\n",
      "26:\tlearn: 226.5211496\ttotal: 63.4ms\tremaining: 1.11s\n",
      "27:\tlearn: 223.9395941\ttotal: 65.1ms\tremaining: 1.1s\n",
      "28:\tlearn: 221.3493082\ttotal: 66.7ms\tremaining: 1.08s\n",
      "29:\tlearn: 220.1971018\ttotal: 69.4ms\tremaining: 1.09s\n",
      "30:\tlearn: 218.0436020\ttotal: 71ms\tremaining: 1.07s\n",
      "31:\tlearn: 216.9634075\ttotal: 72.7ms\tremaining: 1.06s\n",
      "32:\tlearn: 216.1708907\ttotal: 74.2ms\tremaining: 1.05s\n",
      "33:\tlearn: 215.4516087\ttotal: 75.8ms\tremaining: 1.04s\n",
      "34:\tlearn: 213.4015173\ttotal: 77.9ms\tremaining: 1.03s\n",
      "35:\tlearn: 211.9871097\ttotal: 79.3ms\tremaining: 1.02s\n",
      "36:\tlearn: 210.1608247\ttotal: 80.4ms\tremaining: 1.01s\n",
      "37:\tlearn: 209.3693410\ttotal: 81.6ms\tremaining: 992ms\n",
      "38:\tlearn: 207.8937541\ttotal: 83.4ms\tremaining: 986ms\n",
      "39:\tlearn: 205.0136403\ttotal: 84.9ms\tremaining: 977ms\n",
      "40:\tlearn: 204.0217380\ttotal: 86.2ms\tremaining: 965ms\n",
      "41:\tlearn: 201.6162979\ttotal: 87.7ms\tremaining: 956ms\n",
      "42:\tlearn: 200.4483869\ttotal: 89.5ms\tremaining: 951ms\n",
      "43:\tlearn: 199.6072002\ttotal: 91.5ms\tremaining: 949ms\n",
      "44:\tlearn: 198.8256220\ttotal: 92.6ms\tremaining: 936ms\n",
      "45:\tlearn: 196.8389452\ttotal: 94ms\tremaining: 927ms\n",
      "46:\tlearn: 194.5633920\ttotal: 95.3ms\tremaining: 918ms\n",
      "47:\tlearn: 193.5582529\ttotal: 97ms\tremaining: 913ms\n",
      "48:\tlearn: 192.8475647\ttotal: 98.6ms\tremaining: 907ms\n",
      "49:\tlearn: 190.0180645\ttotal: 100ms\tremaining: 900ms\n",
      "50:\tlearn: 188.0570614\ttotal: 102ms\tremaining: 895ms\n",
      "51:\tlearn: 186.6644046\ttotal: 104ms\tremaining: 894ms\n",
      "52:\tlearn: 186.1701361\ttotal: 106ms\tremaining: 891ms\n",
      "53:\tlearn: 184.7381920\ttotal: 108ms\tremaining: 889ms\n",
      "54:\tlearn: 184.3231976\ttotal: 110ms\tremaining: 887ms\n",
      "55:\tlearn: 183.9537524\ttotal: 111ms\tremaining: 882ms\n",
      "56:\tlearn: 181.8581554\ttotal: 112ms\tremaining: 874ms\n",
      "57:\tlearn: 181.4454345\ttotal: 114ms\tremaining: 868ms\n",
      "58:\tlearn: 180.8458178\ttotal: 116ms\tremaining: 868ms\n",
      "59:\tlearn: 180.4042535\ttotal: 118ms\tremaining: 864ms\n",
      "60:\tlearn: 179.9776830\ttotal: 119ms\tremaining: 860ms\n",
      "61:\tlearn: 177.9856271\ttotal: 121ms\tremaining: 856ms\n",
      "62:\tlearn: 177.6591530\ttotal: 123ms\tremaining: 854ms\n",
      "63:\tlearn: 177.0583810\ttotal: 125ms\tremaining: 854ms\n",
      "64:\tlearn: 176.7722544\ttotal: 127ms\tremaining: 848ms\n",
      "65:\tlearn: 176.2568487\ttotal: 129ms\tremaining: 847ms\n",
      "66:\tlearn: 175.3021012\ttotal: 130ms\tremaining: 842ms\n",
      "67:\tlearn: 174.1879865\ttotal: 131ms\tremaining: 833ms\n",
      "68:\tlearn: 172.3048379\ttotal: 133ms\tremaining: 829ms\n",
      "69:\tlearn: 171.3517350\ttotal: 134ms\tremaining: 822ms\n",
      "70:\tlearn: 169.9219614\ttotal: 135ms\tremaining: 818ms\n",
      "71:\tlearn: 167.5003149\ttotal: 137ms\tremaining: 813ms\n",
      "72:\tlearn: 167.0379330\ttotal: 138ms\tremaining: 810ms\n",
      "73:\tlearn: 165.3722587\ttotal: 140ms\tremaining: 806ms\n",
      "74:\tlearn: 164.5229866\ttotal: 142ms\tremaining: 802ms\n",
      "75:\tlearn: 162.1469544\ttotal: 143ms\tremaining: 799ms\n",
      "76:\tlearn: 160.7255446\ttotal: 145ms\tremaining: 799ms\n",
      "77:\tlearn: 160.4670149\ttotal: 147ms\tremaining: 797ms\n",
      "78:\tlearn: 160.0212546\ttotal: 149ms\tremaining: 794ms\n",
      "79:\tlearn: 159.5728419\ttotal: 151ms\tremaining: 792ms\n",
      "80:\tlearn: 159.2320486\ttotal: 154ms\tremaining: 794ms\n",
      "81:\tlearn: 158.2064575\ttotal: 155ms\tremaining: 792ms\n",
      "82:\tlearn: 156.0593658\ttotal: 156ms\tremaining: 786ms\n",
      "83:\tlearn: 155.6719619\ttotal: 158ms\tremaining: 782ms\n",
      "84:\tlearn: 154.8034957\ttotal: 159ms\tremaining: 779ms\n",
      "85:\tlearn: 154.1523793\ttotal: 161ms\tremaining: 777ms\n",
      "86:\tlearn: 152.7964593\ttotal: 164ms\tremaining: 777ms\n",
      "87:\tlearn: 151.0393409\ttotal: 165ms\tremaining: 774ms\n",
      "88:\tlearn: 149.1796329\ttotal: 166ms\tremaining: 768ms\n",
      "89:\tlearn: 148.2468448\ttotal: 169ms\tremaining: 768ms\n",
      "90:\tlearn: 148.0365750\ttotal: 170ms\tremaining: 764ms\n",
      "91:\tlearn: 146.5421227\ttotal: 172ms\tremaining: 762ms\n",
      "92:\tlearn: 144.8367354\ttotal: 174ms\tremaining: 761ms\n",
      "93:\tlearn: 144.6315245\ttotal: 176ms\tremaining: 759ms\n",
      "94:\tlearn: 144.4226221\ttotal: 177ms\tremaining: 756ms\n",
      "95:\tlearn: 143.5398899\ttotal: 179ms\tremaining: 755ms\n",
      "96:\tlearn: 142.3842460\ttotal: 182ms\tremaining: 754ms\n",
      "97:\tlearn: 142.1642339\ttotal: 184ms\tremaining: 755ms\n",
      "98:\tlearn: 141.3906853\ttotal: 186ms\tremaining: 754ms\n",
      "99:\tlearn: 141.1267791\ttotal: 188ms\tremaining: 752ms\n",
      "100:\tlearn: 139.8219108\ttotal: 189ms\tremaining: 747ms\n",
      "101:\tlearn: 138.2597423\ttotal: 191ms\tremaining: 744ms\n",
      "102:\tlearn: 138.0541820\ttotal: 192ms\tremaining: 741ms\n",
      "103:\tlearn: 137.1068076\ttotal: 193ms\tremaining: 737ms\n",
      "104:\tlearn: 135.6485501\ttotal: 195ms\tremaining: 735ms\n",
      "105:\tlearn: 135.0044888\ttotal: 197ms\tremaining: 733ms\n",
      "106:\tlearn: 134.8094095\ttotal: 199ms\tremaining: 732ms\n",
      "107:\tlearn: 133.4047476\ttotal: 201ms\tremaining: 730ms\n",
      "108:\tlearn: 132.0370778\ttotal: 203ms\tremaining: 729ms\n",
      "109:\tlearn: 131.0589760\ttotal: 205ms\tremaining: 728ms\n",
      "110:\tlearn: 130.1696903\ttotal: 207ms\tremaining: 726ms\n",
      "111:\tlearn: 129.9598600\ttotal: 209ms\tremaining: 723ms\n",
      "112:\tlearn: 129.6301168\ttotal: 211ms\tremaining: 721ms\n",
      "113:\tlearn: 128.5887118\ttotal: 212ms\tremaining: 717ms\n",
      "114:\tlearn: 128.4076864\ttotal: 213ms\tremaining: 713ms\n",
      "115:\tlearn: 128.1741307\ttotal: 215ms\tremaining: 713ms\n",
      "116:\tlearn: 127.2061787\ttotal: 216ms\tremaining: 708ms\n",
      "117:\tlearn: 127.0234037\ttotal: 218ms\tremaining: 704ms\n",
      "118:\tlearn: 126.3315410\ttotal: 219ms\tremaining: 702ms\n",
      "119:\tlearn: 126.0462836\ttotal: 221ms\tremaining: 699ms\n",
      "120:\tlearn: 125.7837162\ttotal: 222ms\tremaining: 697ms\n",
      "121:\tlearn: 124.9864198\ttotal: 224ms\tremaining: 694ms\n",
      "122:\tlearn: 123.8601317\ttotal: 226ms\tremaining: 691ms\n",
      "123:\tlearn: 122.7266970\ttotal: 227ms\tremaining: 689ms\n",
      "124:\tlearn: 121.9830230\ttotal: 229ms\tremaining: 687ms\n",
      "125:\tlearn: 121.4286506\ttotal: 231ms\tremaining: 685ms\n",
      "126:\tlearn: 121.0464328\ttotal: 232ms\tremaining: 681ms\n",
      "127:\tlearn: 120.1204774\ttotal: 233ms\tremaining: 679ms\n",
      "128:\tlearn: 119.5062603\ttotal: 236ms\tremaining: 677ms\n",
      "129:\tlearn: 119.2367419\ttotal: 238ms\tremaining: 676ms\n",
      "130:\tlearn: 118.8733221\ttotal: 240ms\tremaining: 675ms\n",
      "131:\tlearn: 118.7197394\ttotal: 241ms\tremaining: 671ms\n",
      "132:\tlearn: 118.3907461\ttotal: 242ms\tremaining: 668ms\n",
      "133:\tlearn: 117.9096188\ttotal: 244ms\tremaining: 668ms\n",
      "134:\tlearn: 117.7657243\ttotal: 246ms\tremaining: 665ms\n",
      "135:\tlearn: 117.0599127\ttotal: 248ms\tremaining: 663ms\n",
      "136:\tlearn: 116.3878888\ttotal: 250ms\tremaining: 661ms\n",
      "137:\tlearn: 115.6125036\ttotal: 251ms\tremaining: 659ms\n",
      "138:\tlearn: 114.9414902\ttotal: 254ms\tremaining: 658ms\n",
      "139:\tlearn: 114.1254992\ttotal: 255ms\tremaining: 656ms\n",
      "140:\tlearn: 113.4971558\ttotal: 257ms\tremaining: 655ms\n",
      "141:\tlearn: 112.6141749\ttotal: 259ms\tremaining: 652ms\n",
      "142:\tlearn: 112.2473079\ttotal: 261ms\tremaining: 651ms\n",
      "143:\tlearn: 111.7881481\ttotal: 262ms\tremaining: 647ms\n",
      "144:\tlearn: 111.1218844\ttotal: 263ms\tremaining: 645ms\n",
      "145:\tlearn: 110.2336427\ttotal: 265ms\tremaining: 642ms\n",
      "146:\tlearn: 109.5226739\ttotal: 266ms\tremaining: 639ms\n",
      "147:\tlearn: 109.3551558\ttotal: 268ms\tremaining: 636ms\n",
      "148:\tlearn: 108.6581535\ttotal: 269ms\tremaining: 634ms\n",
      "149:\tlearn: 107.8828934\ttotal: 271ms\tremaining: 632ms\n",
      "150:\tlearn: 107.3869248\ttotal: 272ms\tremaining: 629ms\n",
      "151:\tlearn: 107.1340363\ttotal: 274ms\tremaining: 627ms\n",
      "152:\tlearn: 106.7470977\ttotal: 276ms\tremaining: 625ms\n",
      "153:\tlearn: 106.4069192\ttotal: 277ms\tremaining: 622ms\n",
      "154:\tlearn: 106.1888236\ttotal: 278ms\tremaining: 619ms\n",
      "155:\tlearn: 105.7802559\ttotal: 280ms\tremaining: 616ms\n",
      "156:\tlearn: 105.3757852\ttotal: 280ms\tremaining: 613ms\n",
      "157:\tlearn: 105.0664097\ttotal: 282ms\tremaining: 610ms\n",
      "158:\tlearn: 104.0158027\ttotal: 283ms\tremaining: 607ms\n",
      "159:\tlearn: 103.2120976\ttotal: 284ms\tremaining: 604ms\n",
      "160:\tlearn: 102.9930311\ttotal: 285ms\tremaining: 600ms\n",
      "161:\tlearn: 101.9340486\ttotal: 287ms\tremaining: 598ms\n",
      "162:\tlearn: 101.1749724\ttotal: 288ms\tremaining: 596ms\n",
      "163:\tlearn: 101.0255305\ttotal: 289ms\tremaining: 593ms\n",
      "164:\tlearn: 100.9057979\ttotal: 291ms\tremaining: 591ms\n",
      "165:\tlearn: 99.9663433\ttotal: 292ms\tremaining: 588ms\n",
      "166:\tlearn: 99.1786972\ttotal: 294ms\tremaining: 586ms\n",
      "167:\tlearn: 99.0429259\ttotal: 296ms\tremaining: 584ms\n",
      "168:\tlearn: 98.9298147\ttotal: 297ms\tremaining: 581ms\n",
      "169:\tlearn: 98.7624617\ttotal: 298ms\tremaining: 579ms\n",
      "170:\tlearn: 98.3651061\ttotal: 299ms\tremaining: 576ms\n",
      "171:\tlearn: 97.7880850\ttotal: 300ms\tremaining: 573ms\n",
      "172:\tlearn: 97.0237804\ttotal: 301ms\tremaining: 570ms\n",
      "173:\tlearn: 96.1759538\ttotal: 303ms\tremaining: 568ms\n",
      "174:\tlearn: 95.5666272\ttotal: 305ms\tremaining: 566ms\n",
      "175:\tlearn: 95.2205650\ttotal: 306ms\tremaining: 563ms\n",
      "176:\tlearn: 94.3197391\ttotal: 307ms\tremaining: 559ms\n",
      "177:\tlearn: 93.7293126\ttotal: 308ms\tremaining: 557ms\n",
      "178:\tlearn: 93.4681359\ttotal: 309ms\tremaining: 554ms\n",
      "179:\tlearn: 93.3340057\ttotal: 311ms\tremaining: 552ms\n",
      "180:\tlearn: 92.7479122\ttotal: 312ms\tremaining: 550ms\n",
      "181:\tlearn: 92.2561003\ttotal: 313ms\tremaining: 547ms\n",
      "182:\tlearn: 92.0144851\ttotal: 315ms\tremaining: 546ms\n",
      "183:\tlearn: 91.5743125\ttotal: 317ms\tremaining: 544ms\n",
      "184:\tlearn: 91.4600413\ttotal: 318ms\tremaining: 541ms\n",
      "185:\tlearn: 90.9604544\ttotal: 319ms\tremaining: 538ms\n",
      "186:\tlearn: 90.4858645\ttotal: 320ms\tremaining: 535ms\n",
      "187:\tlearn: 89.8094201\ttotal: 321ms\tremaining: 533ms\n",
      "188:\tlearn: 89.2184590\ttotal: 322ms\tremaining: 530ms\n",
      "189:\tlearn: 88.4617824\ttotal: 324ms\tremaining: 528ms\n",
      "190:\tlearn: 88.1906362\ttotal: 325ms\tremaining: 526ms\n",
      "191:\tlearn: 88.1044854\ttotal: 327ms\tremaining: 524ms\n",
      "192:\tlearn: 87.7736383\ttotal: 328ms\tremaining: 523ms\n",
      "193:\tlearn: 87.1133873\ttotal: 330ms\tremaining: 520ms\n",
      "194:\tlearn: 86.8980787\ttotal: 331ms\tremaining: 518ms\n",
      "195:\tlearn: 86.7123906\ttotal: 332ms\tremaining: 516ms\n",
      "196:\tlearn: 86.5782770\ttotal: 334ms\tremaining: 513ms\n",
      "197:\tlearn: 85.9633282\ttotal: 335ms\tremaining: 511ms\n",
      "198:\tlearn: 85.4638568\ttotal: 336ms\tremaining: 509ms\n",
      "199:\tlearn: 85.0678727\ttotal: 338ms\tremaining: 507ms\n",
      "200:\tlearn: 84.4872795\ttotal: 339ms\tremaining: 505ms\n",
      "201:\tlearn: 84.3284377\ttotal: 340ms\tremaining: 502ms\n",
      "202:\tlearn: 83.7922104\ttotal: 341ms\tremaining: 499ms\n",
      "203:\tlearn: 83.5457625\ttotal: 343ms\tremaining: 497ms\n",
      "204:\tlearn: 82.7979516\ttotal: 344ms\tremaining: 495ms\n",
      "205:\tlearn: 82.4010485\ttotal: 345ms\tremaining: 492ms\n",
      "206:\tlearn: 82.2566198\ttotal: 347ms\tremaining: 491ms\n",
      "207:\tlearn: 81.9778307\ttotal: 348ms\tremaining: 489ms\n",
      "208:\tlearn: 81.5818116\ttotal: 349ms\tremaining: 486ms\n",
      "209:\tlearn: 81.4801577\ttotal: 351ms\tremaining: 484ms\n",
      "210:\tlearn: 81.1783132\ttotal: 352ms\tremaining: 482ms\n",
      "211:\tlearn: 81.0683928\ttotal: 353ms\tremaining: 480ms\n",
      "212:\tlearn: 80.3519286\ttotal: 355ms\tremaining: 478ms\n",
      "213:\tlearn: 79.6858800\ttotal: 357ms\tremaining: 476ms\n",
      "214:\tlearn: 79.6055533\ttotal: 358ms\tremaining: 475ms\n",
      "215:\tlearn: 79.3883085\ttotal: 359ms\tremaining: 473ms\n",
      "216:\tlearn: 79.3180653\ttotal: 360ms\tremaining: 470ms\n",
      "217:\tlearn: 79.2241854\ttotal: 361ms\tremaining: 468ms\n",
      "218:\tlearn: 78.8254261\ttotal: 363ms\tremaining: 466ms\n",
      "219:\tlearn: 78.3038595\ttotal: 365ms\tremaining: 464ms\n",
      "220:\tlearn: 77.8459803\ttotal: 366ms\tremaining: 462ms\n",
      "221:\tlearn: 77.2854775\ttotal: 367ms\tremaining: 460ms\n",
      "222:\tlearn: 76.8198583\ttotal: 369ms\tremaining: 458ms\n",
      "223:\tlearn: 76.3489558\ttotal: 370ms\tremaining: 456ms\n",
      "224:\tlearn: 76.0644541\ttotal: 372ms\tremaining: 454ms\n",
      "225:\tlearn: 75.9751803\ttotal: 373ms\tremaining: 452ms\n",
      "226:\tlearn: 75.7133100\ttotal: 375ms\tremaining: 450ms\n",
      "227:\tlearn: 75.1560165\ttotal: 376ms\tremaining: 449ms\n",
      "228:\tlearn: 74.8759109\ttotal: 378ms\tremaining: 447ms\n",
      "229:\tlearn: 74.6333062\ttotal: 379ms\tremaining: 445ms\n",
      "230:\tlearn: 74.3282078\ttotal: 381ms\tremaining: 444ms\n",
      "231:\tlearn: 74.1186123\ttotal: 382ms\tremaining: 441ms\n",
      "232:\tlearn: 74.0505609\ttotal: 384ms\tremaining: 440ms\n",
      "233:\tlearn: 73.9693919\ttotal: 385ms\tremaining: 437ms\n",
      "234:\tlearn: 73.8410447\ttotal: 387ms\tremaining: 436ms\n",
      "235:\tlearn: 73.4204517\ttotal: 388ms\tremaining: 434ms\n",
      "236:\tlearn: 72.8923882\ttotal: 389ms\tremaining: 432ms\n",
      "237:\tlearn: 72.5972621\ttotal: 391ms\tremaining: 430ms\n",
      "238:\tlearn: 72.2021077\ttotal: 392ms\tremaining: 428ms\n",
      "239:\tlearn: 71.7818966\ttotal: 394ms\tremaining: 427ms\n",
      "240:\tlearn: 71.3121421\ttotal: 395ms\tremaining: 424ms\n",
      "241:\tlearn: 71.1953054\ttotal: 397ms\tremaining: 423ms\n",
      "242:\tlearn: 70.9057069\ttotal: 398ms\tremaining: 421ms\n",
      "243:\tlearn: 70.5776968\ttotal: 399ms\tremaining: 419ms\n",
      "244:\tlearn: 70.3776295\ttotal: 400ms\tremaining: 416ms\n",
      "245:\tlearn: 70.0869674\ttotal: 402ms\tremaining: 415ms\n",
      "246:\tlearn: 69.9349416\ttotal: 403ms\tremaining: 413ms\n",
      "247:\tlearn: 69.8356056\ttotal: 404ms\tremaining: 411ms\n",
      "248:\tlearn: 69.5774526\ttotal: 406ms\tremaining: 409ms\n",
      "249:\tlearn: 69.0371622\ttotal: 408ms\tremaining: 408ms\n",
      "250:\tlearn: 68.8852912\ttotal: 409ms\tremaining: 405ms\n",
      "251:\tlearn: 68.6174916\ttotal: 410ms\tremaining: 403ms\n",
      "252:\tlearn: 68.1669872\ttotal: 411ms\tremaining: 401ms\n",
      "253:\tlearn: 67.9519550\ttotal: 412ms\tremaining: 399ms\n",
      "254:\tlearn: 67.5903118\ttotal: 414ms\tremaining: 398ms\n",
      "255:\tlearn: 67.4870567\ttotal: 416ms\tremaining: 396ms\n",
      "256:\tlearn: 67.1312800\ttotal: 417ms\tremaining: 394ms\n",
      "257:\tlearn: 66.7706353\ttotal: 418ms\tremaining: 392ms\n",
      "258:\tlearn: 66.5173041\ttotal: 420ms\tremaining: 391ms\n",
      "259:\tlearn: 66.2079446\ttotal: 421ms\tremaining: 389ms\n",
      "260:\tlearn: 65.8048903\ttotal: 423ms\tremaining: 387ms\n",
      "261:\tlearn: 65.5941252\ttotal: 424ms\tremaining: 386ms\n",
      "262:\tlearn: 65.4086455\ttotal: 426ms\tremaining: 384ms\n",
      "263:\tlearn: 64.8140142\ttotal: 427ms\tremaining: 382ms\n",
      "264:\tlearn: 64.7058842\ttotal: 428ms\tremaining: 380ms\n",
      "265:\tlearn: 64.5754010\ttotal: 430ms\tremaining: 378ms\n",
      "266:\tlearn: 64.4968398\ttotal: 431ms\tremaining: 376ms\n",
      "267:\tlearn: 64.2283461\ttotal: 433ms\tremaining: 374ms\n",
      "268:\tlearn: 64.0230322\ttotal: 434ms\tremaining: 373ms\n",
      "269:\tlearn: 63.9155677\ttotal: 436ms\tremaining: 371ms\n",
      "270:\tlearn: 63.5951267\ttotal: 437ms\tremaining: 369ms\n",
      "271:\tlearn: 63.3385045\ttotal: 438ms\tremaining: 367ms\n",
      "272:\tlearn: 63.0304017\ttotal: 440ms\tremaining: 366ms\n",
      "273:\tlearn: 62.6241591\ttotal: 441ms\tremaining: 364ms\n",
      "274:\tlearn: 62.3527328\ttotal: 442ms\tremaining: 362ms\n",
      "275:\tlearn: 62.2453658\ttotal: 443ms\tremaining: 360ms\n",
      "276:\tlearn: 61.9606055\ttotal: 444ms\tremaining: 358ms\n",
      "277:\tlearn: 61.6738092\ttotal: 445ms\tremaining: 356ms\n",
      "278:\tlearn: 61.4150393\ttotal: 446ms\tremaining: 354ms\n",
      "279:\tlearn: 60.8292455\ttotal: 447ms\tremaining: 351ms\n",
      "280:\tlearn: 60.7800822\ttotal: 448ms\tremaining: 349ms\n",
      "281:\tlearn: 60.2601683\ttotal: 450ms\tremaining: 348ms\n",
      "282:\tlearn: 59.9105654\ttotal: 451ms\tremaining: 346ms\n",
      "283:\tlearn: 59.7483486\ttotal: 452ms\tremaining: 344ms\n",
      "284:\tlearn: 59.4757768\ttotal: 453ms\tremaining: 342ms\n",
      "285:\tlearn: 59.1988083\ttotal: 454ms\tremaining: 340ms\n",
      "286:\tlearn: 58.8697633\ttotal: 456ms\tremaining: 338ms\n",
      "287:\tlearn: 58.6401237\ttotal: 457ms\tremaining: 336ms\n",
      "288:\tlearn: 58.4406914\ttotal: 458ms\tremaining: 335ms\n",
      "289:\tlearn: 58.1881828\ttotal: 460ms\tremaining: 333ms\n",
      "290:\tlearn: 58.0510696\ttotal: 461ms\tremaining: 331ms\n",
      "291:\tlearn: 57.8843864\ttotal: 462ms\tremaining: 329ms\n",
      "292:\tlearn: 57.4109830\ttotal: 464ms\tremaining: 328ms\n",
      "293:\tlearn: 57.1155832\ttotal: 465ms\tremaining: 326ms\n",
      "294:\tlearn: 56.9279721\ttotal: 466ms\tremaining: 324ms\n",
      "295:\tlearn: 56.7300699\ttotal: 468ms\tremaining: 322ms\n",
      "296:\tlearn: 56.4010187\ttotal: 469ms\tremaining: 321ms\n",
      "297:\tlearn: 56.2233302\ttotal: 471ms\tremaining: 319ms\n",
      "298:\tlearn: 56.0486078\ttotal: 472ms\tremaining: 318ms\n",
      "299:\tlearn: 56.0027604\ttotal: 474ms\tremaining: 316ms\n",
      "300:\tlearn: 55.9610928\ttotal: 476ms\tremaining: 314ms\n",
      "301:\tlearn: 55.7012068\ttotal: 478ms\tremaining: 313ms\n",
      "302:\tlearn: 55.6666200\ttotal: 479ms\tremaining: 311ms\n",
      "303:\tlearn: 55.5492699\ttotal: 480ms\tremaining: 310ms\n",
      "304:\tlearn: 55.5018805\ttotal: 482ms\tremaining: 308ms\n",
      "305:\tlearn: 55.2931993\ttotal: 484ms\tremaining: 307ms\n",
      "306:\tlearn: 55.2325003\ttotal: 485ms\tremaining: 305ms\n",
      "307:\tlearn: 54.9093880\ttotal: 486ms\tremaining: 303ms\n",
      "308:\tlearn: 54.6539721\ttotal: 488ms\tremaining: 302ms\n",
      "309:\tlearn: 54.5319259\ttotal: 490ms\tremaining: 300ms\n",
      "310:\tlearn: 54.1776970\ttotal: 492ms\tremaining: 299ms\n",
      "311:\tlearn: 54.0615999\ttotal: 493ms\tremaining: 297ms\n",
      "312:\tlearn: 53.7453735\ttotal: 495ms\tremaining: 296ms\n",
      "313:\tlearn: 53.4248670\ttotal: 497ms\tremaining: 294ms\n",
      "314:\tlearn: 53.3704852\ttotal: 498ms\tremaining: 293ms\n",
      "315:\tlearn: 53.1968579\ttotal: 500ms\tremaining: 291ms\n",
      "316:\tlearn: 53.0394852\ttotal: 501ms\tremaining: 289ms\n",
      "317:\tlearn: 52.8920297\ttotal: 503ms\tremaining: 288ms\n",
      "318:\tlearn: 52.4578882\ttotal: 505ms\tremaining: 286ms\n",
      "319:\tlearn: 52.4155392\ttotal: 505ms\tremaining: 284ms\n",
      "320:\tlearn: 52.1691693\ttotal: 507ms\tremaining: 283ms\n",
      "321:\tlearn: 51.7527329\ttotal: 508ms\tremaining: 281ms\n",
      "322:\tlearn: 51.7021608\ttotal: 510ms\tremaining: 279ms\n",
      "323:\tlearn: 51.6489356\ttotal: 511ms\tremaining: 278ms\n",
      "324:\tlearn: 51.5634068\ttotal: 513ms\tremaining: 276ms\n",
      "325:\tlearn: 51.1964124\ttotal: 514ms\tremaining: 274ms\n",
      "326:\tlearn: 51.0047985\ttotal: 516ms\tremaining: 273ms\n",
      "327:\tlearn: 50.7927522\ttotal: 517ms\tremaining: 271ms\n",
      "328:\tlearn: 50.4539812\ttotal: 519ms\tremaining: 270ms\n",
      "329:\tlearn: 50.4122168\ttotal: 520ms\tremaining: 268ms\n",
      "330:\tlearn: 50.0274043\ttotal: 521ms\tremaining: 266ms\n",
      "331:\tlearn: 49.9005859\ttotal: 522ms\tremaining: 264ms\n",
      "332:\tlearn: 49.6456006\ttotal: 524ms\tremaining: 263ms\n",
      "333:\tlearn: 49.4533608\ttotal: 525ms\tremaining: 261ms\n",
      "334:\tlearn: 49.2713217\ttotal: 527ms\tremaining: 260ms\n",
      "335:\tlearn: 49.2090665\ttotal: 529ms\tremaining: 258ms\n",
      "336:\tlearn: 49.1731559\ttotal: 530ms\tremaining: 256ms\n",
      "337:\tlearn: 48.9473537\ttotal: 531ms\tremaining: 255ms\n",
      "338:\tlearn: 48.7244369\ttotal: 533ms\tremaining: 253ms\n",
      "339:\tlearn: 48.4896916\ttotal: 534ms\tremaining: 251ms\n",
      "340:\tlearn: 48.1475376\ttotal: 536ms\tremaining: 250ms\n",
      "341:\tlearn: 48.0004821\ttotal: 538ms\tremaining: 248ms\n",
      "342:\tlearn: 47.8513919\ttotal: 539ms\tremaining: 247ms\n",
      "343:\tlearn: 47.7243446\ttotal: 540ms\tremaining: 245ms\n",
      "344:\tlearn: 47.5052401\ttotal: 541ms\tremaining: 243ms\n",
      "345:\tlearn: 47.2725251\ttotal: 542ms\tremaining: 241ms\n",
      "346:\tlearn: 47.2221101\ttotal: 544ms\tremaining: 240ms\n",
      "347:\tlearn: 47.1876387\ttotal: 545ms\tremaining: 238ms\n",
      "348:\tlearn: 46.9917676\ttotal: 547ms\tremaining: 237ms\n",
      "349:\tlearn: 46.9023530\ttotal: 549ms\tremaining: 235ms\n",
      "350:\tlearn: 46.5204901\ttotal: 550ms\tremaining: 233ms\n",
      "351:\tlearn: 46.2748195\ttotal: 551ms\tremaining: 232ms\n",
      "352:\tlearn: 46.1375733\ttotal: 553ms\tremaining: 230ms\n",
      "353:\tlearn: 46.0455829\ttotal: 555ms\tremaining: 229ms\n",
      "354:\tlearn: 46.0011389\ttotal: 556ms\tremaining: 227ms\n",
      "355:\tlearn: 45.8504890\ttotal: 558ms\tremaining: 226ms\n",
      "356:\tlearn: 45.6823459\ttotal: 559ms\tremaining: 224ms\n",
      "357:\tlearn: 45.4211615\ttotal: 560ms\tremaining: 222ms\n",
      "358:\tlearn: 45.2688937\ttotal: 561ms\tremaining: 220ms\n",
      "359:\tlearn: 45.1684691\ttotal: 562ms\tremaining: 219ms\n",
      "360:\tlearn: 45.1413976\ttotal: 564ms\tremaining: 217ms\n",
      "361:\tlearn: 45.0325406\ttotal: 565ms\tremaining: 216ms\n",
      "362:\tlearn: 44.7929195\ttotal: 567ms\tremaining: 214ms\n",
      "363:\tlearn: 44.5845661\ttotal: 568ms\tremaining: 212ms\n",
      "364:\tlearn: 44.5520233\ttotal: 569ms\tremaining: 211ms\n",
      "365:\tlearn: 44.5044423\ttotal: 571ms\tremaining: 209ms\n",
      "366:\tlearn: 44.3721438\ttotal: 573ms\tremaining: 207ms\n",
      "367:\tlearn: 44.2138033\ttotal: 574ms\tremaining: 206ms\n",
      "368:\tlearn: 44.0473765\ttotal: 576ms\tremaining: 204ms\n",
      "369:\tlearn: 43.8196369\ttotal: 577ms\tremaining: 203ms\n",
      "370:\tlearn: 43.5773991\ttotal: 579ms\tremaining: 201ms\n",
      "371:\tlearn: 43.4592809\ttotal: 581ms\tremaining: 200ms\n",
      "372:\tlearn: 43.3061595\ttotal: 582ms\tremaining: 198ms\n",
      "373:\tlearn: 43.1181760\ttotal: 584ms\tremaining: 197ms\n",
      "374:\tlearn: 42.9897499\ttotal: 585ms\tremaining: 195ms\n",
      "375:\tlearn: 42.7106787\ttotal: 587ms\tremaining: 194ms\n",
      "376:\tlearn: 42.6838945\ttotal: 588ms\tremaining: 192ms\n",
      "377:\tlearn: 42.5374709\ttotal: 589ms\tremaining: 190ms\n",
      "378:\tlearn: 42.4877809\ttotal: 591ms\tremaining: 189ms\n",
      "379:\tlearn: 42.2772090\ttotal: 592ms\tremaining: 187ms\n",
      "380:\tlearn: 42.0445185\ttotal: 594ms\tremaining: 185ms\n",
      "381:\tlearn: 41.9594930\ttotal: 595ms\tremaining: 184ms\n",
      "382:\tlearn: 41.8550343\ttotal: 596ms\tremaining: 182ms\n",
      "383:\tlearn: 41.7618750\ttotal: 598ms\tremaining: 181ms\n",
      "384:\tlearn: 41.7365987\ttotal: 600ms\tremaining: 179ms\n",
      "385:\tlearn: 41.5455695\ttotal: 602ms\tremaining: 178ms\n",
      "386:\tlearn: 41.3797474\ttotal: 603ms\tremaining: 176ms\n",
      "387:\tlearn: 41.2349615\ttotal: 605ms\tremaining: 175ms\n",
      "388:\tlearn: 41.0125122\ttotal: 606ms\tremaining: 173ms\n",
      "389:\tlearn: 40.8234114\ttotal: 608ms\tremaining: 171ms\n",
      "390:\tlearn: 40.6160646\ttotal: 609ms\tremaining: 170ms\n",
      "391:\tlearn: 40.5803285\ttotal: 611ms\tremaining: 168ms\n",
      "392:\tlearn: 40.5059367\ttotal: 612ms\tremaining: 167ms\n",
      "393:\tlearn: 40.3416546\ttotal: 614ms\tremaining: 165ms\n",
      "394:\tlearn: 40.1864823\ttotal: 615ms\tremaining: 164ms\n",
      "395:\tlearn: 39.8859713\ttotal: 617ms\tremaining: 162ms\n",
      "396:\tlearn: 39.7451680\ttotal: 618ms\tremaining: 160ms\n",
      "397:\tlearn: 39.4688349\ttotal: 620ms\tremaining: 159ms\n",
      "398:\tlearn: 39.3449963\ttotal: 621ms\tremaining: 157ms\n",
      "399:\tlearn: 39.2083103\ttotal: 623ms\tremaining: 156ms\n",
      "400:\tlearn: 39.1026879\ttotal: 624ms\tremaining: 154ms\n",
      "401:\tlearn: 38.8185959\ttotal: 626ms\tremaining: 153ms\n",
      "402:\tlearn: 38.7062283\ttotal: 627ms\tremaining: 151ms\n",
      "403:\tlearn: 38.3818109\ttotal: 628ms\tremaining: 149ms\n",
      "404:\tlearn: 38.1696996\ttotal: 630ms\tremaining: 148ms\n",
      "405:\tlearn: 38.0173084\ttotal: 632ms\tremaining: 146ms\n",
      "406:\tlearn: 37.8729775\ttotal: 633ms\tremaining: 145ms\n",
      "407:\tlearn: 37.6171883\ttotal: 634ms\tremaining: 143ms\n",
      "408:\tlearn: 37.3836799\ttotal: 635ms\tremaining: 141ms\n",
      "409:\tlearn: 37.1460870\ttotal: 637ms\tremaining: 140ms\n",
      "410:\tlearn: 37.0670229\ttotal: 638ms\tremaining: 138ms\n",
      "411:\tlearn: 36.9451628\ttotal: 640ms\tremaining: 137ms\n",
      "412:\tlearn: 36.8149832\ttotal: 641ms\tremaining: 135ms\n",
      "413:\tlearn: 36.6815425\ttotal: 642ms\tremaining: 133ms\n",
      "414:\tlearn: 36.5638145\ttotal: 643ms\tremaining: 132ms\n",
      "415:\tlearn: 36.5164507\ttotal: 645ms\tremaining: 130ms\n",
      "416:\tlearn: 36.3396865\ttotal: 646ms\tremaining: 129ms\n",
      "417:\tlearn: 36.1391228\ttotal: 647ms\tremaining: 127ms\n",
      "418:\tlearn: 35.9069504\ttotal: 649ms\tremaining: 125ms\n",
      "419:\tlearn: 35.8527711\ttotal: 650ms\tremaining: 124ms\n",
      "420:\tlearn: 35.6569374\ttotal: 652ms\tremaining: 122ms\n",
      "421:\tlearn: 35.5345573\ttotal: 653ms\tremaining: 121ms\n",
      "422:\tlearn: 35.4914301\ttotal: 654ms\tremaining: 119ms\n",
      "423:\tlearn: 35.4643655\ttotal: 655ms\tremaining: 117ms\n",
      "424:\tlearn: 35.2789395\ttotal: 657ms\tremaining: 116ms\n",
      "425:\tlearn: 35.0985825\ttotal: 658ms\tremaining: 114ms\n",
      "426:\tlearn: 35.0360584\ttotal: 660ms\tremaining: 113ms\n",
      "427:\tlearn: 34.9516867\ttotal: 661ms\tremaining: 111ms\n",
      "428:\tlearn: 34.8282353\ttotal: 663ms\tremaining: 110ms\n",
      "429:\tlearn: 34.6444454\ttotal: 664ms\tremaining: 108ms\n",
      "430:\tlearn: 34.6137959\ttotal: 665ms\tremaining: 107ms\n",
      "431:\tlearn: 34.5334377\ttotal: 667ms\tremaining: 105ms\n",
      "432:\tlearn: 34.4510596\ttotal: 669ms\tremaining: 103ms\n",
      "433:\tlearn: 34.3981873\ttotal: 670ms\tremaining: 102ms\n",
      "434:\tlearn: 34.2862766\ttotal: 671ms\tremaining: 100ms\n",
      "435:\tlearn: 34.2248081\ttotal: 673ms\tremaining: 98.8ms\n",
      "436:\tlearn: 34.1023007\ttotal: 675ms\tremaining: 97.3ms\n",
      "437:\tlearn: 34.0811819\ttotal: 676ms\tremaining: 95.7ms\n",
      "438:\tlearn: 33.9099190\ttotal: 677ms\tremaining: 94.1ms\n",
      "439:\tlearn: 33.7508011\ttotal: 678ms\tremaining: 92.5ms\n",
      "440:\tlearn: 33.6333368\ttotal: 680ms\tremaining: 91ms\n",
      "441:\tlearn: 33.6126634\ttotal: 681ms\tremaining: 89.4ms\n",
      "442:\tlearn: 33.5699807\ttotal: 683ms\tremaining: 87.9ms\n",
      "443:\tlearn: 33.5423322\ttotal: 684ms\tremaining: 86.3ms\n",
      "444:\tlearn: 33.4322770\ttotal: 685ms\tremaining: 84.7ms\n",
      "445:\tlearn: 33.2873428\ttotal: 687ms\tremaining: 83.2ms\n",
      "446:\tlearn: 33.1445621\ttotal: 689ms\tremaining: 81.7ms\n",
      "447:\tlearn: 33.0986225\ttotal: 690ms\tremaining: 80.1ms\n",
      "448:\tlearn: 32.9468560\ttotal: 692ms\tremaining: 78.6ms\n",
      "449:\tlearn: 32.7600619\ttotal: 693ms\tremaining: 77ms\n",
      "450:\tlearn: 32.5951609\ttotal: 695ms\tremaining: 75.5ms\n",
      "451:\tlearn: 32.4322388\ttotal: 696ms\tremaining: 73.9ms\n",
      "452:\tlearn: 32.3759639\ttotal: 697ms\tremaining: 72.4ms\n",
      "453:\tlearn: 32.1368876\ttotal: 699ms\tremaining: 70.8ms\n",
      "454:\tlearn: 32.0462935\ttotal: 700ms\tremaining: 69.2ms\n",
      "455:\tlearn: 32.0220116\ttotal: 701ms\tremaining: 67.7ms\n",
      "456:\tlearn: 31.7972051\ttotal: 703ms\tremaining: 66.1ms\n",
      "457:\tlearn: 31.5119302\ttotal: 704ms\tremaining: 64.6ms\n",
      "458:\tlearn: 31.3684089\ttotal: 705ms\tremaining: 63ms\n",
      "459:\tlearn: 31.2529906\ttotal: 706ms\tremaining: 61.4ms\n",
      "460:\tlearn: 31.1181792\ttotal: 708ms\tremaining: 59.9ms\n",
      "461:\tlearn: 31.0933870\ttotal: 709ms\tremaining: 58.3ms\n",
      "462:\tlearn: 30.9723022\ttotal: 710ms\tremaining: 56.7ms\n",
      "463:\tlearn: 30.8741583\ttotal: 711ms\tremaining: 55.2ms\n",
      "464:\tlearn: 30.7451920\ttotal: 712ms\tremaining: 53.6ms\n",
      "465:\tlearn: 30.7044007\ttotal: 713ms\tremaining: 52ms\n",
      "466:\tlearn: 30.6431128\ttotal: 714ms\tremaining: 50.5ms\n",
      "467:\tlearn: 30.5969061\ttotal: 716ms\tremaining: 48.9ms\n",
      "468:\tlearn: 30.5309883\ttotal: 717ms\tremaining: 47.4ms\n",
      "469:\tlearn: 30.4522049\ttotal: 718ms\tremaining: 45.8ms\n",
      "470:\tlearn: 30.3477767\ttotal: 720ms\tremaining: 44.3ms\n",
      "471:\tlearn: 30.2021496\ttotal: 721ms\tremaining: 42.8ms\n",
      "472:\tlearn: 30.0755060\ttotal: 722ms\tremaining: 41.2ms\n",
      "473:\tlearn: 29.9416304\ttotal: 724ms\tremaining: 39.7ms\n",
      "474:\tlearn: 29.7874640\ttotal: 726ms\tremaining: 38.2ms\n",
      "475:\tlearn: 29.6894883\ttotal: 727ms\tremaining: 36.7ms\n",
      "476:\tlearn: 29.5780886\ttotal: 728ms\tremaining: 35.1ms\n",
      "477:\tlearn: 29.4832094\ttotal: 730ms\tremaining: 33.6ms\n",
      "478:\tlearn: 29.4118553\ttotal: 731ms\tremaining: 32.1ms\n",
      "479:\tlearn: 29.3038380\ttotal: 733ms\tremaining: 30.5ms\n",
      "480:\tlearn: 29.2201508\ttotal: 734ms\tremaining: 29ms\n",
      "481:\tlearn: 29.0802927\ttotal: 736ms\tremaining: 27.5ms\n",
      "482:\tlearn: 29.0417824\ttotal: 737ms\tremaining: 25.9ms\n",
      "483:\tlearn: 28.9461151\ttotal: 738ms\tremaining: 24.4ms\n",
      "484:\tlearn: 28.8056897\ttotal: 740ms\tremaining: 22.9ms\n",
      "485:\tlearn: 28.7138236\ttotal: 741ms\tremaining: 21.3ms\n",
      "486:\tlearn: 28.5600692\ttotal: 743ms\tremaining: 19.8ms\n",
      "487:\tlearn: 28.4722661\ttotal: 744ms\tremaining: 18.3ms\n",
      "488:\tlearn: 28.2802296\ttotal: 746ms\tremaining: 16.8ms\n",
      "489:\tlearn: 28.1787095\ttotal: 748ms\tremaining: 15.3ms\n",
      "490:\tlearn: 28.0902601\ttotal: 749ms\tremaining: 13.7ms\n",
      "491:\tlearn: 28.0260953\ttotal: 750ms\tremaining: 12.2ms\n",
      "492:\tlearn: 27.9478445\ttotal: 752ms\tremaining: 10.7ms\n",
      "493:\tlearn: 27.8278086\ttotal: 754ms\tremaining: 9.15ms\n",
      "494:\tlearn: 27.7609487\ttotal: 756ms\tremaining: 7.63ms\n",
      "495:\tlearn: 27.5877003\ttotal: 757ms\tremaining: 6.1ms\n",
      "496:\tlearn: 27.5611014\ttotal: 758ms\tremaining: 4.58ms\n",
      "497:\tlearn: 27.4574173\ttotal: 760ms\tremaining: 3.05ms\n",
      "498:\tlearn: 27.3858230\ttotal: 761ms\tremaining: 1.52ms\n",
      "499:\tlearn: 27.3318098\ttotal: 762ms\tremaining: 0us\n"
     ]
    }
   ],
   "source": [
    "catb_tuned = CatBoostRegressor(depth = 3, iterations = 500, learning_rate = 0.1).fit(X_train, y_train)"
   ]
  },
  {
   "cell_type": "code",
   "execution_count": 183,
   "metadata": {},
   "outputs": [],
   "source": [
    "y_pred = catb_tuned.predict(X_test)"
   ]
  },
  {
   "cell_type": "code",
   "execution_count": 184,
   "metadata": {},
   "outputs": [
    {
     "data": {
      "text/plain": [
       "342.8574937833235"
      ]
     },
     "execution_count": 184,
     "metadata": {},
     "output_type": "execute_result"
    }
   ],
   "source": [
    "np.sqrt(mean_squared_error(y_test, y_pred))"
   ]
  },
  {
   "cell_type": "markdown",
   "metadata": {},
   "source": [
    "# MAKINE OGRENMESI GOREVLERININ OTOMATIKLESTIRILMESI"
   ]
  },
  {
   "cell_type": "code",
   "execution_count": 228,
   "metadata": {},
   "outputs": [],
   "source": [
    "df = pd.read_csv(\"Hitters.csv\")\n",
    "df = df.dropna()\n",
    "dms = pd.get_dummies(df[['League', 'Division', 'NewLeague']])"
   ]
  },
  {
   "cell_type": "code",
   "execution_count": 317,
   "metadata": {},
   "outputs": [],
   "source": [
    "def compML(df, y, alg):\n",
    "    #train-test ayrimi\n",
    "    y = df[y]\n",
    "    X_ = df.drop(['Salary', 'League', 'Division', 'NewLeague'], axis=1).astype('float64')\n",
    "    X = pd.concat([X_, dms[['League_N', 'Division_W', 'NewLeague_N']]], axis=1)\n",
    "    X_train, X_test, y_train, y_test = train_test_split(X,y,test_size=0.25,random_state=42)\n",
    "    #modelleme\n",
    "    model = alg().fit(X_train, y_train)\n",
    "    y_pred = model.predict(X_test)\n",
    "    RMSE = np.sqrt(mean_squared_error(y_test, y_pred))\n",
    "    model_ismi = alg.__name__\n",
    "    print(model_ismi, \"Modeli Test Hatası:\",RMSE)"
   ]
  },
  {
   "cell_type": "code",
   "execution_count": 318,
   "metadata": {},
   "outputs": [
    {
     "name": "stdout",
     "output_type": "stream",
     "text": [
      "SVR Modeli Test Hatası: 473.4445984431814\n"
     ]
    }
   ],
   "source": [
    "compML(df, \"Salary\", SVR)"
   ]
  },
  {
   "cell_type": "code",
   "execution_count": 283,
   "metadata": {},
   "outputs": [],
   "source": [
    "models = [LGBMRegressor, \n",
    "          XGBRegressor, \n",
    "          GradientBoostingRegressor, \n",
    "          RandomForestRegressor, \n",
    "          DecisionTreeRegressor,\n",
    "          MLPRegressor,\n",
    "          KNeighborsRegressor, \n",
    "          SVR]"
   ]
  },
  {
   "cell_type": "code",
   "execution_count": 320,
   "metadata": {},
   "outputs": [
    {
     "name": "stdout",
     "output_type": "stream",
     "text": [
      "LGBMRegressor Modeli Test Hatası: 363.8712087611089\n",
      "[13:53:39] WARNING: src/objective/regression_obj.cu:152: reg:linear is now deprecated in favor of reg:squarederror.\n",
      "XGBRegressor Modeli Test Hatası: 359.91750599447033\n",
      "GradientBoostingRegressor Modeli Test Hatası: 349.7674420565306\n",
      "RandomForestRegressor Modeli Test Hatası: 351.39463394426684\n",
      "DecisionTreeRegressor Modeli Test Hatası: 519.1159209070132\n",
      "MLPRegressor Modeli Test Hatası: 465.65322522489663\n",
      "KNeighborsRegressor Modeli Test Hatası: 426.6570764525201\n",
      "SVR Modeli Test Hatası: 473.4445984431814\n"
     ]
    }
   ],
   "source": [
    "for i in models:\n",
    "    compML(df, \"Salary\", i)"
   ]
  },
  {
   "cell_type": "code",
   "execution_count": null,
   "metadata": {},
   "outputs": [],
   "source": []
  }
 ],
 "metadata": {
  "kernelspec": {
   "display_name": "Python 3",
   "language": "python",
   "name": "python3"
  },
  "language_info": {
   "codemirror_mode": {
    "name": "ipython",
    "version": 3
   },
   "file_extension": ".py",
   "mimetype": "text/x-python",
   "name": "python",
   "nbconvert_exporter": "python",
   "pygments_lexer": "ipython3",
   "version": "3.7.3"
  }
 },
 "nbformat": 4,
 "nbformat_minor": 4
}
