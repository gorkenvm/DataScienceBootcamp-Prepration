{
 "cells": [
  {
   "cell_type": "markdown",
   "metadata": {},
   "source": [
    "# SQL ALIŞTIRMALARI 1"
   ]
  },
  {
   "cell_type": "code",
   "execution_count": 1,
   "metadata": {},
   "outputs": [],
   "source": [
    "%load_ext sql"
   ]
  },
  {
   "cell_type": "code",
   "execution_count": 2,
   "metadata": {},
   "outputs": [],
   "source": [
    "%sql sqlite:///vbo.db"
   ]
  },
  {
   "cell_type": "code",
   "execution_count": 3,
   "metadata": {},
   "outputs": [
    {
     "name": "stdout",
     "output_type": "stream",
     "text": [
      " * sqlite:///vbo.db\n",
      "(sqlite3.OperationalError) no such table: Customers\n",
      "[SQL: SELECT * FROM Customers LIMIT 3;]\n",
      "(Background on this error at: https://sqlalche.me/e/14/e3q8)\n"
     ]
    }
   ],
   "source": [
    "%%sql\n",
    "SELECT * FROM Customers LIMIT 3;"
   ]
  },
  {
   "cell_type": "markdown",
   "metadata": {},
   "source": [
    "# 1. Orders tablosunda kaç müşteri oldugunu bulunuz."
   ]
  },
  {
   "cell_type": "code",
   "execution_count": 4,
   "metadata": {
    "jupyter": {
     "source_hidden": true
    }
   },
   "outputs": [
    {
     "name": "stdout",
     "output_type": "stream",
     "text": [
      " * sqlite:///vbo.db\n",
      "(sqlite3.OperationalError) no such table: Orders\n",
      "[SQL: SELECT * FROM Orders LIMIT 10;]\n",
      "(Background on this error at: https://sqlalche.me/e/14/e3q8)\n"
     ]
    }
   ],
   "source": [
    "%%sql\n",
    "SELECT * FROM Orders LIMIT 10;"
   ]
  },
  {
   "cell_type": "code",
   "execution_count": 5,
   "metadata": {
    "jupyter": {
     "source_hidden": true
    }
   },
   "outputs": [
    {
     "name": "stdout",
     "output_type": "stream",
     "text": [
      " * sqlite:///vbo.db\n",
      "(sqlite3.OperationalError) no such table: Orders\n",
      "[SQL: SELECT COUNT(CustomerID) FROM Orders;]\n",
      "(Background on this error at: https://sqlalche.me/e/14/e3q8)\n"
     ]
    }
   ],
   "source": [
    "%%sql\n",
    "SELECT COUNT(CustomerID) FROM Orders;"
   ]
  },
  {
   "cell_type": "markdown",
   "metadata": {},
   "source": [
    "## 2. Orders tablosunda kaç tane eşsiz müşteri olduğunu bulunuz."
   ]
  },
  {
   "cell_type": "code",
   "execution_count": 6,
   "metadata": {
    "jupyter": {
     "source_hidden": true
    }
   },
   "outputs": [
    {
     "name": "stdout",
     "output_type": "stream",
     "text": [
      " * sqlite:///vbo.db\n",
      "(sqlite3.OperationalError) no such table: Orders\n",
      "[SQL: SELECT COUNT(DISTINCT CustomerID) FROM Orders;]\n",
      "(Background on this error at: https://sqlalche.me/e/14/e3q8)\n"
     ]
    }
   ],
   "source": [
    "%%sql\n",
    "SELECT COUNT(DISTINCT CustomerID) FROM Orders;"
   ]
  },
  {
   "cell_type": "markdown",
   "metadata": {},
   "source": [
    "## 3. Customers tablosunda hangi ülkeden kaçar tane müşteri olduğunu bulunuz.\n"
   ]
  },
  {
   "cell_type": "code",
   "execution_count": 7,
   "metadata": {
    "jupyter": {
     "source_hidden": true
    }
   },
   "outputs": [
    {
     "name": "stdout",
     "output_type": "stream",
     "text": [
      " * sqlite:///vbo.db\n",
      "(sqlite3.OperationalError) no such table: Customers\n",
      "[SQL: SELECT COUNT(CustomerID), Country FROM Customers GROUP BY Country;]\n",
      "(Background on this error at: https://sqlalche.me/e/14/e3q8)\n"
     ]
    }
   ],
   "source": [
    "%%sql\n",
    "SELECT COUNT(CustomerID), Country FROM Customers GROUP BY Country;"
   ]
  },
  {
   "cell_type": "markdown",
   "metadata": {},
   "source": [
    "## 4. Müşterilerin ülkesi Brazil ya da USA olanlarını bulunuz."
   ]
  },
  {
   "cell_type": "code",
   "execution_count": 8,
   "metadata": {
    "jupyter": {
     "source_hidden": true
    }
   },
   "outputs": [
    {
     "name": "stdout",
     "output_type": "stream",
     "text": [
      " * sqlite:///vbo.db\n",
      "(sqlite3.OperationalError) no such table: Customers\n",
      "[SQL: SELECT * FROM Customers WHERE Country in ('Brazil', 'USA');]\n",
      "(Background on this error at: https://sqlalche.me/e/14/e3q8)\n"
     ]
    }
   ],
   "source": [
    "%%sql\n",
    "SELECT * FROM Customers WHERE Country in ('Brazil', 'USA');"
   ]
  },
  {
   "cell_type": "markdown",
   "metadata": {},
   "source": [
    "## 5. Önce ülkeye sonra şehre göre group by işlemi yapıp bu kırılımda müşteri sayısını bulunuz."
   ]
  },
  {
   "cell_type": "code",
   "execution_count": 9,
   "metadata": {
    "jupyter": {
     "source_hidden": true
    }
   },
   "outputs": [
    {
     "name": "stdout",
     "output_type": "stream",
     "text": [
      " * sqlite:///vbo.db\n",
      "(sqlite3.OperationalError) no such table: Customers\n",
      "[SQL: SELECT COUNT(CustomerID), Country, City FROM Customers GROUP BY Country, City;]\n",
      "(Background on this error at: https://sqlalche.me/e/14/e3q8)\n"
     ]
    }
   ],
   "source": [
    "%%sql\n",
    "SELECT COUNT(CustomerID), Country, City FROM Customers GROUP BY Country, City;"
   ]
  },
  {
   "cell_type": "code",
   "execution_count": null,
   "metadata": {},
   "outputs": [],
   "source": []
  },
  {
   "cell_type": "markdown",
   "metadata": {},
   "source": [
    "# SQL ALIŞTIRMALARI II"
   ]
  },
  {
   "cell_type": "markdown",
   "metadata": {},
   "source": [
    "## 6. Müşterileri adreslerinin herhangi bir yerinde \"da\" ifadesi geçen tüm adresleri bulunuz."
   ]
  },
  {
   "cell_type": "code",
   "execution_count": 10,
   "metadata": {
    "jupyter": {
     "source_hidden": true
    }
   },
   "outputs": [
    {
     "name": "stdout",
     "output_type": "stream",
     "text": [
      " * sqlite:///vbo.db\n",
      "(sqlite3.OperationalError) no such table: Customers\n",
      "[SQL: SELECT * FROM Customers WHERE Address LIKE '%da%' ;]\n",
      "(Background on this error at: https://sqlalche.me/e/14/e3q8)\n"
     ]
    }
   ],
   "source": [
    "%%sql\n",
    "SELECT * FROM Customers WHERE Address LIKE '%da%' ;"
   ]
  },
  {
   "cell_type": "markdown",
   "metadata": {},
   "source": [
    "## 7. Germany-Berlin'de yaşayan müşteri/müşterilerin isimleri nelerdir?"
   ]
  },
  {
   "cell_type": "code",
   "execution_count": 11,
   "metadata": {
    "jupyter": {
     "source_hidden": true
    }
   },
   "outputs": [
    {
     "name": "stdout",
     "output_type": "stream",
     "text": [
      " * sqlite:///vbo.db\n",
      "(sqlite3.OperationalError) no such table: Customers\n",
      "[SQL: SELECT CustomerName FROM Customers WHERE Country = 'Germany' and City = 'Berlin';]\n",
      "(Background on this error at: https://sqlalche.me/e/14/e3q8)\n"
     ]
    }
   ],
   "source": [
    "%%sql\n",
    "SELECT CustomerName FROM Customers WHERE Country = 'Germany' and City = 'Berlin';"
   ]
  },
  {
   "cell_type": "markdown",
   "metadata": {},
   "source": [
    "## 8. Canada'da yaşayıp isimlerinde \"in\" ifadesi geçen müşteri/müşterileri bulunuz."
   ]
  },
  {
   "cell_type": "code",
   "execution_count": 12,
   "metadata": {
    "jupyter": {
     "source_hidden": true
    }
   },
   "outputs": [
    {
     "name": "stdout",
     "output_type": "stream",
     "text": [
      " * sqlite:///vbo.db\n",
      "(sqlite3.OperationalError) no such table: Customers\n",
      "[SQL: SELECT CustomerName FROM Customers WHERE CustomerName LIKE '%in%' AND Country = 'Canada';]\n",
      "(Background on this error at: https://sqlalche.me/e/14/e3q8)\n"
     ]
    }
   ],
   "source": [
    "%%sql\n",
    "SELECT CustomerName FROM Customers WHERE CustomerName LIKE '%in%' AND Country = 'Canada';"
   ]
  },
  {
   "cell_type": "markdown",
   "metadata": {},
   "source": [
    "## 9. Fiyatı 40 TL ile 90 TL arasında olan ürünlerin isimleri ve fiyatları nelerdir?"
   ]
  },
  {
   "cell_type": "code",
   "execution_count": 13,
   "metadata": {
    "jupyter": {
     "source_hidden": true
    }
   },
   "outputs": [
    {
     "name": "stdout",
     "output_type": "stream",
     "text": [
      " * sqlite:///vbo.db\n",
      "(sqlite3.OperationalError) no such table: Products\n",
      "[SQL: SELECT ProductName, Price FROM Products WHERE Price <= 90 and Price >=40;]\n",
      "(Background on this error at: https://sqlalche.me/e/14/e3q8)\n"
     ]
    }
   ],
   "source": [
    "%%sql\n",
    "SELECT ProductName, Price FROM Products WHERE Price <= 90 and Price >=40;"
   ]
  },
  {
   "cell_type": "markdown",
   "metadata": {},
   "source": [
    "## 10. Fiyatı 30 TL'den büyük olan ürünlerin isimlerini, fiyatlarini ve fiyatlarinin karesini bulunuz ve tüm değişkenlerin isimlendirmelerini aşağıdaki şekilde yapınız:\n",
    "\n",
    "urun ismi, urun_fiyati, ürün_fiyatinin_karesi"
   ]
  },
  {
   "cell_type": "code",
   "execution_count": 14,
   "metadata": {
    "jupyter": {
     "source_hidden": true
    }
   },
   "outputs": [
    {
     "name": "stdout",
     "output_type": "stream",
     "text": [
      " * sqlite:///vbo.db\n",
      "(sqlite3.OperationalError) no such table: Products\n",
      "[SQL: SELECT ProductName as urun_ismi, Price as urun_fiyati, Price*Price as urun_fiyatinin_karesi \n",
      "FROM Products WHERE Price >= 30;]\n",
      "(Background on this error at: https://sqlalche.me/e/14/e3q8)\n"
     ]
    }
   ],
   "source": [
    "%%sql\n",
    "SELECT ProductName as urun_ismi, Price as urun_fiyati, Price*Price as urun_fiyatinin_karesi \n",
    "FROM Products WHERE Price >= 30;"
   ]
  },
  {
   "cell_type": "code",
   "execution_count": null,
   "metadata": {},
   "outputs": [],
   "source": []
  },
  {
   "cell_type": "markdown",
   "metadata": {},
   "source": [
    "# SQL ALIŞTIRMALARI III"
   ]
  },
  {
   "cell_type": "markdown",
   "metadata": {},
   "source": [
    "## 11. Products tablosundaki CategoryID’lerin yani kategorilerin isimleri nelerdir? "
   ]
  },
  {
   "cell_type": "code",
   "execution_count": 15,
   "metadata": {
    "jupyter": {
     "source_hidden": true
    }
   },
   "outputs": [
    {
     "name": "stdout",
     "output_type": "stream",
     "text": [
      " * sqlite:///vbo.db\n",
      "(sqlite3.OperationalError) no such table: Products\n",
      "[SQL: SELECT * FROM Products \n",
      "LEFT JOIN Categories on Products.CategoryID = Categories.CategoryID;]\n",
      "(Background on this error at: https://sqlalche.me/e/14/e3q8)\n"
     ]
    }
   ],
   "source": [
    "%%sql\n",
    "SELECT * \n",
    "FROM Products \n",
    "LEFT JOIN Categories on Products.CategoryID = Categories.CategoryID;"
   ]
  },
  {
   "cell_type": "markdown",
   "metadata": {},
   "source": [
    "## 12. beverages ürün kategorisindeki ürünlerin fiyat ortalaması nedir?"
   ]
  },
  {
   "cell_type": "code",
   "execution_count": 16,
   "metadata": {
    "jupyter": {
     "source_hidden": true
    }
   },
   "outputs": [
    {
     "name": "stdout",
     "output_type": "stream",
     "text": [
      " * sqlite:///vbo.db\n",
      "(sqlite3.OperationalError) no such table: Products\n",
      "[SQL: SELECT AVG(Price) FROM Products \n",
      "LEFT JOIN Categories on Products.CategoryID = categories.CategoryID \n",
      "WHERE CategoryName = 'Beverages';]\n",
      "(Background on this error at: https://sqlalche.me/e/14/e3q8)\n"
     ]
    }
   ],
   "source": [
    "%%sql\n",
    "SELECT AVG(Price) \n",
    "FROM Products \n",
    "LEFT JOIN Categories on Products.CategoryID = categories.CategoryID \n",
    "WHERE CategoryName = 'Beverages';\n"
   ]
  },
  {
   "cell_type": "markdown",
   "metadata": {},
   "source": [
    "## 13. USA'de yaşayan müşterilerin kazandırdığı toplam kazancı bulunuz."
   ]
  },
  {
   "cell_type": "code",
   "execution_count": 17,
   "metadata": {
    "jupyter": {
     "source_hidden": true
    }
   },
   "outputs": [
    {
     "name": "stdout",
     "output_type": "stream",
     "text": [
      " * sqlite:///vbo.db\n",
      "(sqlite3.OperationalError) no such table: Orders\n",
      "[SQL: SELECT SUM(p.Price) FROM Orders o \n",
      "LEFT JOIN OrderDetails od on o.OrderID = od.OrderID \n",
      "LEFT JOIN Products p on od.ProductID = p.ProductID \n",
      "LEFT JOIN Customers cu on o.CustomerID = cu.CustomerID where cu.Country = 'USA';]\n",
      "(Background on this error at: https://sqlalche.me/e/14/e3q8)\n"
     ]
    }
   ],
   "source": [
    "%%sql \n",
    "SELECT SUM(p.Price) \n",
    "FROM Orders o \n",
    "LEFT JOIN OrderDetails od on o.OrderID = od.OrderID \n",
    "LEFT JOIN Products p on od.ProductID = p.ProductID \n",
    "LEFT JOIN Customers cu on o.CustomerID = cu.CustomerID where cu.Country = 'USA';\n"
   ]
  },
  {
   "cell_type": "markdown",
   "metadata": {},
   "source": [
    "## 14. Products tablosundaki CategoryID'lerin isimlerini bulunuz ve sonrasında kategori başına ortalama ürün fiyatını gösteriniz."
   ]
  },
  {
   "cell_type": "code",
   "execution_count": 18,
   "metadata": {
    "jupyter": {
     "source_hidden": true
    }
   },
   "outputs": [
    {
     "name": "stdout",
     "output_type": "stream",
     "text": [
      " * sqlite:///vbo.db\n",
      "(sqlite3.OperationalError) no such table: Products\n",
      "[SQL: SELECT AVG(Price), CategoryName FROM Products \n",
      "LEFT JOIN Categories on Products.CategoryID = Categories.CategoryID \n",
      "GROUP BY CategoryName;]\n",
      "(Background on this error at: https://sqlalche.me/e/14/e3q8)\n"
     ]
    }
   ],
   "source": [
    "%%sql\n",
    "SELECT AVG(Price), CategoryName \n",
    "FROM Products \n",
    "LEFT JOIN Categories on Products.CategoryID = Categories.CategoryID \n",
    "GROUP BY CategoryName;"
   ]
  },
  {
   "cell_type": "markdown",
   "metadata": {},
   "source": [
    "## 15. Çalışanları (EmployeeID) isimleri ile birlikte yaptıkları toplam satışlara göre sıralayınız."
   ]
  },
  {
   "cell_type": "code",
   "execution_count": 19,
   "metadata": {
    "jupyter": {
     "source_hidden": true
    }
   },
   "outputs": [
    {
     "name": "stdout",
     "output_type": "stream",
     "text": [
      " * sqlite:///vbo.db\n",
      "(sqlite3.OperationalError) no such table: Orders\n",
      "[SQL: SELECT em.FirstName, SUM(p.Price) toplam_satis \n",
      "FROM Orders o \n",
      "LEFT JOIN OrderDetails od on o.OrderID = od.OrderID \n",
      "LEFT JOIN Products p on od.ProductID = p.ProductID \n",
      "LEFT JOIN Employees em on o.EmployeeID = em.EmployeeID \n",
      "GROUP BY o.EmployeeID \n",
      "ORDER BY toplam_satis DESC;]\n",
      "(Background on this error at: https://sqlalche.me/e/14/e3q8)\n"
     ]
    }
   ],
   "source": [
    "%%sql\n",
    "SELECT em.FirstName, SUM(p.Price) toplam_satis \n",
    "FROM Orders o \n",
    "LEFT JOIN OrderDetails od on o.OrderID = od.OrderID \n",
    "LEFT JOIN Products p on od.ProductID = p.ProductID \n",
    "LEFT JOIN Employees em on o.EmployeeID = em.EmployeeID \n",
    "GROUP BY o.EmployeeID \n",
    "ORDER BY toplam_satis DESC;"
   ]
  },
  {
   "cell_type": "code",
   "execution_count": null,
   "metadata": {},
   "outputs": [],
   "source": []
  },
  {
   "cell_type": "code",
   "execution_count": null,
   "metadata": {},
   "outputs": [],
   "source": []
  },
  {
   "cell_type": "code",
   "execution_count": null,
   "metadata": {},
   "outputs": [],
   "source": []
  },
  {
   "cell_type": "code",
   "execution_count": null,
   "metadata": {},
   "outputs": [],
   "source": []
  },
  {
   "cell_type": "code",
   "execution_count": null,
   "metadata": {},
   "outputs": [],
   "source": []
  },
  {
   "cell_type": "code",
   "execution_count": null,
   "metadata": {},
   "outputs": [],
   "source": []
  },
  {
   "cell_type": "code",
   "execution_count": null,
   "metadata": {},
   "outputs": [],
   "source": []
  },
  {
   "cell_type": "code",
   "execution_count": null,
   "metadata": {},
   "outputs": [],
   "source": []
  },
  {
   "cell_type": "markdown",
   "metadata": {},
   "source": [
    "# SQL ALIŞTIRMALARI IV"
   ]
  },
  {
   "cell_type": "markdown",
   "metadata": {},
   "source": [
    "## 16. Germany'dan verilen siparişlerin kategorilerine göre ortalama fiyatları nelerdir?"
   ]
  },
  {
   "cell_type": "code",
   "execution_count": 20,
   "metadata": {},
   "outputs": [
    {
     "name": "stdout",
     "output_type": "stream",
     "text": [
      " * sqlite:///vbo.db\n",
      "(sqlite3.OperationalError) no such table: Orders\n",
      "[SQL: SELECT ca.CategoryName, AVG(p.Price) FROM Orders o \n",
      "LEFT JOIN OrderDetails od on o.OrderID = od.OrderID \n",
      "LEFT JOIN Products p on od.ProductID = p.ProductID \n",
      "LEFT JOIN Categories ca on p.CategoryID = ca.CategoryID \n",
      "LEFT JOIN Customers cu on o.CustomerID = cu.CustomerID \n",
      "WHERE cu.Country = 'Germany' GROUP BY CategoryName;]\n",
      "(Background on this error at: https://sqlalche.me/e/14/e3q8)\n"
     ]
    }
   ],
   "source": [
    "%%sql\n",
    "SELECT ca.CategoryName, AVG(p.Price) \n",
    "FROM Orders o \n",
    "LEFT JOIN OrderDetails od on o.OrderID = od.OrderID \n",
    "LEFT JOIN Products p on od.ProductID = p.ProductID \n",
    "LEFT JOIN Categories ca on p.CategoryID = ca.CategoryID \n",
    "LEFT JOIN Customers cu on o.CustomerID = cu.CustomerID \n",
    "WHERE cu.Country = 'Germany' GROUP BY CategoryName;"
   ]
  },
  {
   "cell_type": "markdown",
   "metadata": {},
   "source": [
    "## 17. Almanya ya da USA'den verilen siparişlerin kategorilerine göre ortalama fiyatları nelerdir?"
   ]
  },
  {
   "cell_type": "code",
   "execution_count": 21,
   "metadata": {},
   "outputs": [
    {
     "name": "stdout",
     "output_type": "stream",
     "text": [
      " * sqlite:///vbo.db\n",
      "(sqlite3.OperationalError) no such table: Orders\n",
      "[SQL: SELECT ca.CategoryName, AVG(p.Price) FROM Orders o \n",
      "LEFT JOIN OrderDetails od on o.OrderID = od.OrderID \n",
      "LEFT JOIN Products p on od.ProductID = p.ProductID \n",
      "LEFT JOIN Categories ca on p.CategoryID = ca.CategoryID \n",
      "LEFT JOIN Customers cu on o.CustomerID = cu.CustomerID \n",
      "WHERE cu.Country = 'Germany' OR cu.Country = 'USA' GROUP BY CategoryName;]\n",
      "(Background on this error at: https://sqlalche.me/e/14/e3q8)\n"
     ]
    }
   ],
   "source": [
    "%%sql\n",
    "SELECT ca.CategoryName, AVG(p.Price) \n",
    "FROM Orders o \n",
    "LEFT JOIN OrderDetails od on o.OrderID = od.OrderID \n",
    "LEFT JOIN Products p on od.ProductID = p.ProductID \n",
    "LEFT JOIN Categories ca on p.CategoryID = ca.CategoryID \n",
    "LEFT JOIN Customers cu on o.CustomerID = cu.CustomerID \n",
    "WHERE cu.Country = 'Germany' OR cu.Country = 'USA' GROUP BY CategoryName;"
   ]
  },
  {
   "cell_type": "markdown",
   "metadata": {},
   "source": [
    "## 18. Haziran Temmuz Ağustos aylarında verilen siparişlerin ortalama fiyatı nedir?"
   ]
  },
  {
   "cell_type": "code",
   "execution_count": 22,
   "metadata": {},
   "outputs": [
    {
     "name": "stdout",
     "output_type": "stream",
     "text": [
      " * sqlite:///vbo.db\n",
      "(sqlite3.OperationalError) no such table: Products\n",
      "[SQL: SELECT AVG(Products.Price) FROM Products \n",
      "LEFT JOIN OrderDetails on OrderDetails.ProductID = products.ProductID \n",
      "LEFT JOIN Orders on OrderDetails.OrderID = Orders.OrderID \n",
      "WHERE OrderDate like '%07%' or OrderDate like '%08%' or OrderDate like '%09%';]\n",
      "(Background on this error at: https://sqlalche.me/e/14/e3q8)\n"
     ]
    }
   ],
   "source": [
    "%%sql\n",
    "SELECT AVG(Products.Price) \n",
    "FROM Products \n",
    "LEFT JOIN OrderDetails on OrderDetails.ProductID = products.ProductID \n",
    "LEFT JOIN Orders on OrderDetails.OrderID = Orders.OrderID \n",
    "WHERE OrderDate like '%07%' or OrderDate like '%08%' or OrderDate like '%09%';"
   ]
  },
  {
   "cell_type": "markdown",
   "metadata": {},
   "source": [
    "## 19. Müşterilerin 1997 yılına ait siparişlerinin maksimum miktarlarını bulup müşterilerin isimleri ile birlikte büyükten küçüğe sıralayınız."
   ]
  },
  {
   "cell_type": "code",
   "execution_count": 23,
   "metadata": {},
   "outputs": [
    {
     "name": "stdout",
     "output_type": "stream",
     "text": [
      " * sqlite:///vbo.db\n",
      "(sqlite3.OperationalError) no such table: Products\n",
      "[SQL: SELECT CustomerName, MAX(Price) maks \n",
      "FROM Products \n",
      "LEFT JOIN OrderDetails on Products.ProductID = OrderDetails.ProductID \n",
      "LEFT JOIN Orders on OrderDetails.OrderID = Orders.OrderID \n",
      "LEFT JOIN Customers on Customers.CustomerID = Orders.CustomerID \n",
      "WHERE OrderDate like '%1997%' \n",
      "GROUP BY CustomerName ORDER BY maks DESC;]\n",
      "(Background on this error at: https://sqlalche.me/e/14/e3q8)\n"
     ]
    }
   ],
   "source": [
    "%%sql\n",
    "SELECT CustomerName, MAX(Price) maks \n",
    "FROM Products \n",
    "LEFT JOIN OrderDetails on Products.ProductID = OrderDetails.ProductID \n",
    "LEFT JOIN Orders on OrderDetails.OrderID = Orders.OrderID \n",
    "LEFT JOIN Customers on Customers.CustomerID = Orders.CustomerID \n",
    "WHERE OrderDate like '%1997%' \n",
    "GROUP BY CustomerName ORDER BY maks DESC;"
   ]
  },
  {
   "cell_type": "markdown",
   "metadata": {},
   "source": [
    "## 20. Sipariş yılı 1997 olan siparişleri alan çalışanları sipariş alma sayılarına göre sıralayınız."
   ]
  },
  {
   "cell_type": "code",
   "execution_count": 24,
   "metadata": {},
   "outputs": [
    {
     "name": "stdout",
     "output_type": "stream",
     "text": [
      " * sqlite:///vbo.db\n",
      "(sqlite3.OperationalError) no such table: Orders\n",
      "[SQL: SELECT COUNT(*) n, em.FirstName \n",
      "FROM Orders \n",
      "LEFT JOIN Employees em on Orders.EmployeeID = em.EmployeeID \n",
      "WHERE OrderDate like '%1997%' \n",
      "GROUP BY em.FirstName \n",
      "ORDER by n DESC;]\n",
      "(Background on this error at: https://sqlalche.me/e/14/e3q8)\n"
     ]
    }
   ],
   "source": [
    "%%sql\n",
    "SELECT COUNT(*) n, em.FirstName \n",
    "FROM Orders \n",
    "LEFT JOIN Employees em on Orders.EmployeeID = em.EmployeeID \n",
    "WHERE OrderDate like '%1997%' \n",
    "GROUP BY em.FirstName \n",
    "ORDER by n DESC;\n"
   ]
  }
 ],
 "metadata": {
  "kernelspec": {
   "display_name": "Python 3 (ipykernel)",
   "language": "python",
   "name": "python3"
  },
  "language_info": {
   "codemirror_mode": {
    "name": "ipython",
    "version": 3
   },
   "file_extension": ".py",
   "mimetype": "text/x-python",
   "name": "python",
   "nbconvert_exporter": "python",
   "pygments_lexer": "ipython3",
   "version": "3.9.7"
  }
 },
 "nbformat": 4,
 "nbformat_minor": 4
}
