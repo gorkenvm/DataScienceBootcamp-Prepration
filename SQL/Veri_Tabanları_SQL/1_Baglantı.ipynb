{
 "cells": [
  {
   "cell_type": "code",
   "execution_count": 1,
   "id": "2d05a031-1d01-4c65-86ec-abce1e22c0cd",
   "metadata": {
    "tags": []
   },
   "outputs": [
    {
     "data": {
      "text/plain": [
       "['Requirement already satisfied: ipython-sql in c:\\\\users\\\\pc\\\\anaconda3\\\\lib\\\\site-packages (0.4.0)',\n",
       " 'Requirement already satisfied: six in c:\\\\users\\\\pc\\\\anaconda3\\\\lib\\\\site-packages (from ipython-sql) (1.16.0)',\n",
       " 'Requirement already satisfied: prettytable<1 in c:\\\\users\\\\pc\\\\anaconda3\\\\lib\\\\site-packages (from ipython-sql) (0.7.2)',\n",
       " 'Requirement already satisfied: sqlalchemy>=0.6.7 in c:\\\\users\\\\pc\\\\anaconda3\\\\lib\\\\site-packages (from ipython-sql) (1.4.32)',\n",
       " 'Requirement already satisfied: ipython-genutils>=0.1.0 in c:\\\\users\\\\pc\\\\anaconda3\\\\lib\\\\site-packages (from ipython-sql) (0.2.0)',\n",
       " 'Requirement already satisfied: ipython>=1.0 in c:\\\\users\\\\pc\\\\anaconda3\\\\lib\\\\site-packages (from ipython-sql) (8.3.0)',\n",
       " 'Requirement already satisfied: sqlparse in c:\\\\users\\\\pc\\\\anaconda3\\\\lib\\\\site-packages (from ipython-sql) (0.4.2)',\n",
       " 'Requirement already satisfied: traitlets>=5 in c:\\\\users\\\\pc\\\\anaconda3\\\\lib\\\\site-packages (from ipython>=1.0->ipython-sql) (5.1.1)',\n",
       " 'Requirement already satisfied: setuptools>=18.5 in c:\\\\users\\\\pc\\\\anaconda3\\\\lib\\\\site-packages (from ipython>=1.0->ipython-sql) (61.2.0)',\n",
       " 'Requirement already satisfied: prompt-toolkit!=3.0.0,!=3.0.1,<3.1.0,>=2.0.0 in c:\\\\users\\\\pc\\\\anaconda3\\\\lib\\\\site-packages (from ipython>=1.0->ipython-sql) (3.0.20)',\n",
       " 'Requirement already satisfied: colorama in c:\\\\users\\\\pc\\\\anaconda3\\\\lib\\\\site-packages (from ipython>=1.0->ipython-sql) (0.4.4)',\n",
       " 'Requirement already satisfied: jedi>=0.16 in c:\\\\users\\\\pc\\\\anaconda3\\\\lib\\\\site-packages (from ipython>=1.0->ipython-sql) (0.18.1)',\n",
       " 'Requirement already satisfied: matplotlib-inline in c:\\\\users\\\\pc\\\\anaconda3\\\\lib\\\\site-packages (from ipython>=1.0->ipython-sql) (0.1.2)',\n",
       " 'Requirement already satisfied: pickleshare in c:\\\\users\\\\pc\\\\anaconda3\\\\lib\\\\site-packages (from ipython>=1.0->ipython-sql) (0.7.5)',\n",
       " 'Requirement already satisfied: decorator in c:\\\\users\\\\pc\\\\anaconda3\\\\lib\\\\site-packages (from ipython>=1.0->ipython-sql) (5.1.1)',\n",
       " 'Requirement already satisfied: backcall in c:\\\\users\\\\pc\\\\anaconda3\\\\lib\\\\site-packages (from ipython>=1.0->ipython-sql) (0.2.0)',\n",
       " 'Requirement already satisfied: pygments>=2.4.0 in c:\\\\users\\\\pc\\\\anaconda3\\\\lib\\\\site-packages (from ipython>=1.0->ipython-sql) (2.11.2)',\n",
       " 'Requirement already satisfied: stack-data in c:\\\\users\\\\pc\\\\anaconda3\\\\lib\\\\site-packages (from ipython>=1.0->ipython-sql) (0.2.0)',\n",
       " 'Requirement already satisfied: parso<0.9.0,>=0.8.0 in c:\\\\users\\\\pc\\\\anaconda3\\\\lib\\\\site-packages (from jedi>=0.16->ipython>=1.0->ipython-sql) (0.8.3)',\n",
       " 'Requirement already satisfied: wcwidth in c:\\\\users\\\\pc\\\\anaconda3\\\\lib\\\\site-packages (from prompt-toolkit!=3.0.0,!=3.0.1,<3.1.0,>=2.0.0->ipython>=1.0->ipython-sql) (0.2.5)',\n",
       " 'Requirement already satisfied: greenlet!=0.4.17 in c:\\\\users\\\\pc\\\\anaconda3\\\\lib\\\\site-packages (from sqlalchemy>=0.6.7->ipython-sql) (1.1.1)',\n",
       " 'Requirement already satisfied: executing in c:\\\\users\\\\pc\\\\anaconda3\\\\lib\\\\site-packages (from stack-data->ipython>=1.0->ipython-sql) (0.8.3)',\n",
       " 'Requirement already satisfied: asttokens in c:\\\\users\\\\pc\\\\anaconda3\\\\lib\\\\site-packages (from stack-data->ipython>=1.0->ipython-sql) (2.0.5)',\n",
       " 'Requirement already satisfied: pure-eval in c:\\\\users\\\\pc\\\\anaconda3\\\\lib\\\\site-packages (from stack-data->ipython>=1.0->ipython-sql) (0.2.2)']"
      ]
     },
     "execution_count": 1,
     "metadata": {},
     "output_type": "execute_result"
    }
   ],
   "source": [
    "%%!\n",
    "pip install --trusted-host pypi.org ipython-sql"
   ]
  },
  {
   "cell_type": "code",
   "execution_count": 2,
   "id": "d57cc085-e9a8-4797-a567-8064bdc836df",
   "metadata": {},
   "outputs": [],
   "source": [
    "%load_ext sql"
   ]
  },
  {
   "cell_type": "code",
   "execution_count": 3,
   "id": "32860e1a-7445-4a5b-9736-3f949748c0ed",
   "metadata": {},
   "outputs": [],
   "source": [
    "%sql sqlite:///vbo.db"
   ]
  },
  {
   "cell_type": "code",
   "execution_count": 4,
   "id": "a5529922-83bb-4e25-b7ba-3fef006e1e6b",
   "metadata": {},
   "outputs": [
    {
     "name": "stdout",
     "output_type": "stream",
     "text": [
      " * sqlite:///vbo.db\n",
      "Done.\n"
     ]
    },
    {
     "data": {
      "text/html": [
       "<table>\n",
       "    <tr>\n",
       "        <th>CustomerID</th>\n",
       "        <th>CustomerName</th>\n",
       "        <th>ContactName</th>\n",
       "        <th>Address</th>\n",
       "        <th>City</th>\n",
       "        <th>PostalCode</th>\n",
       "        <th>Country</th>\n",
       "    </tr>\n",
       "    <tr>\n",
       "        <td>1</td>\n",
       "        <td>Alfreds Futterkiste</td>\n",
       "        <td>Maria Anders</td>\n",
       "        <td>Obere Str. 57</td>\n",
       "        <td>Berlin</td>\n",
       "        <td>12209</td>\n",
       "        <td>Germany</td>\n",
       "    </tr>\n",
       "    <tr>\n",
       "        <td>2</td>\n",
       "        <td>Ana Trujillo Emparedados y helados</td>\n",
       "        <td>Ana Trujillo</td>\n",
       "        <td>Avda. de la Constitución 2222</td>\n",
       "        <td>México D.F.</td>\n",
       "        <td>5021</td>\n",
       "        <td>Mexico</td>\n",
       "    </tr>\n",
       "    <tr>\n",
       "        <td>3</td>\n",
       "        <td>Antonio Moreno Taquería</td>\n",
       "        <td>Antonio Moreno</td>\n",
       "        <td>Mataderos 2312</td>\n",
       "        <td>México D.F.</td>\n",
       "        <td>5023</td>\n",
       "        <td>Mexico</td>\n",
       "    </tr>\n",
       "</table>"
      ],
      "text/plain": [
       "[(1, 'Alfreds Futterkiste', 'Maria Anders', 'Obere Str. 57', 'Berlin', '12209', 'Germany'),\n",
       " (2, 'Ana Trujillo Emparedados y helados', 'Ana Trujillo', 'Avda. de la Constitución 2222', 'México D.F.', '5021', 'Mexico'),\n",
       " (3, 'Antonio Moreno Taquería', 'Antonio Moreno', 'Mataderos 2312', 'México D.F.', '5023', 'Mexico')]"
      ]
     },
     "execution_count": 4,
     "metadata": {},
     "output_type": "execute_result"
    }
   ],
   "source": [
    "%%sql\n",
    "SELECT * FROM CUSTOMERS LIMIT 3;"
   ]
  }
 ],
 "metadata": {
  "kernelspec": {
   "display_name": "Python 3 (ipykernel)",
   "language": "python",
   "name": "python3"
  },
  "language_info": {
   "codemirror_mode": {
    "name": "ipython",
    "version": 3
   },
   "file_extension": ".py",
   "mimetype": "text/x-python",
   "name": "python",
   "nbconvert_exporter": "python",
   "pygments_lexer": "ipython3",
   "version": "3.9.7"
  }
 },
 "nbformat": 4,
 "nbformat_minor": 5
}
