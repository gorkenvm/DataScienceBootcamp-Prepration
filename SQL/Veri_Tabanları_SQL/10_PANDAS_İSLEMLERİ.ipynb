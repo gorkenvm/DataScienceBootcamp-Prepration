{
 "cells": [
  {
   "cell_type": "code",
   "execution_count": 1,
   "id": "5c7709bf-5af2-4dee-9cf3-1cb4506b1cc9",
   "metadata": {},
   "outputs": [],
   "source": [
    "%load_ext sql"
   ]
  },
  {
   "cell_type": "code",
   "execution_count": 2,
   "id": "679034f6-9234-4121-8813-3701df52d446",
   "metadata": {
    "tags": []
   },
   "outputs": [],
   "source": [
    "%sql sqlite:///vbo.db"
   ]
  },
  {
   "cell_type": "markdown",
   "id": "e559a98e-17d4-40fe-8830-4964dd58c1de",
   "metadata": {},
   "source": [
    "# SQL ve Pandas DataFrame Operasyonları"
   ]
  },
  {
   "cell_type": "code",
   "execution_count": 3,
   "id": "cec416dd-07d1-49e2-b7a0-230a72574bb6",
   "metadata": {},
   "outputs": [],
   "source": [
    "import pandas as pd"
   ]
  },
  {
   "cell_type": "code",
   "execution_count": 4,
   "id": "537abf20-5790-4763-a8ce-2578210c67d9",
   "metadata": {},
   "outputs": [
    {
     "name": "stdout",
     "output_type": "stream",
     "text": [
      "The sql extension is already loaded. To reload it, use:\n",
      "  %reload_ext sql\n"
     ]
    }
   ],
   "source": [
    "%load_ext sql"
   ]
  },
  {
   "cell_type": "code",
   "execution_count": 5,
   "id": "022f115b-8a6d-47f1-8127-b145fb7c632a",
   "metadata": {},
   "outputs": [],
   "source": [
    "%sql sqlite:///vbo.db"
   ]
  },
  {
   "cell_type": "code",
   "execution_count": 6,
   "id": "37126142-ec01-4477-b232-ef3c4874f431",
   "metadata": {},
   "outputs": [
    {
     "name": "stdout",
     "output_type": "stream",
     "text": [
      " * sqlite:///vbo.db\n",
      "Done.\n"
     ]
    },
    {
     "data": {
      "text/html": [
       "<table>\n",
       "    <tr>\n",
       "        <th>MUSTERI_SAYISI</th>\n",
       "        <th>Country</th>\n",
       "    </tr>\n",
       "    <tr>\n",
       "        <td>13</td>\n",
       "        <td>USA</td>\n",
       "    </tr>\n",
       "    <tr>\n",
       "        <td>11</td>\n",
       "        <td>Germany</td>\n",
       "    </tr>\n",
       "    <tr>\n",
       "        <td>11</td>\n",
       "        <td>France</td>\n",
       "    </tr>\n",
       "    <tr>\n",
       "        <td>9</td>\n",
       "        <td>Brazil</td>\n",
       "    </tr>\n",
       "    <tr>\n",
       "        <td>7</td>\n",
       "        <td>UK</td>\n",
       "    </tr>\n",
       "    <tr>\n",
       "        <td>5</td>\n",
       "        <td>Spain</td>\n",
       "    </tr>\n",
       "    <tr>\n",
       "        <td>5</td>\n",
       "        <td>Mexico</td>\n",
       "    </tr>\n",
       "    <tr>\n",
       "        <td>4</td>\n",
       "        <td>Venezuela</td>\n",
       "    </tr>\n",
       "    <tr>\n",
       "        <td>3</td>\n",
       "        <td>Italy</td>\n",
       "    </tr>\n",
       "    <tr>\n",
       "        <td>3</td>\n",
       "        <td>Canada</td>\n",
       "    </tr>\n",
       "    <tr>\n",
       "        <td>3</td>\n",
       "        <td>Argentina</td>\n",
       "    </tr>\n",
       "    <tr>\n",
       "        <td>2</td>\n",
       "        <td>Switzerland</td>\n",
       "    </tr>\n",
       "    <tr>\n",
       "        <td>2</td>\n",
       "        <td>Sweden</td>\n",
       "    </tr>\n",
       "    <tr>\n",
       "        <td>2</td>\n",
       "        <td>Portugal</td>\n",
       "    </tr>\n",
       "    <tr>\n",
       "        <td>2</td>\n",
       "        <td>Finland</td>\n",
       "    </tr>\n",
       "    <tr>\n",
       "        <td>2</td>\n",
       "        <td>Denmark</td>\n",
       "    </tr>\n",
       "    <tr>\n",
       "        <td>2</td>\n",
       "        <td>Belgium</td>\n",
       "    </tr>\n",
       "    <tr>\n",
       "        <td>2</td>\n",
       "        <td>Austria</td>\n",
       "    </tr>\n",
       "    <tr>\n",
       "        <td>1</td>\n",
       "        <td>Poland</td>\n",
       "    </tr>\n",
       "    <tr>\n",
       "        <td>1</td>\n",
       "        <td>Norway</td>\n",
       "    </tr>\n",
       "    <tr>\n",
       "        <td>1</td>\n",
       "        <td>Ireland</td>\n",
       "    </tr>\n",
       "</table>"
      ],
      "text/plain": [
       "[(13, 'USA'),\n",
       " (11, 'Germany'),\n",
       " (11, 'France'),\n",
       " (9, 'Brazil'),\n",
       " (7, 'UK'),\n",
       " (5, 'Spain'),\n",
       " (5, 'Mexico'),\n",
       " (4, 'Venezuela'),\n",
       " (3, 'Italy'),\n",
       " (3, 'Canada'),\n",
       " (3, 'Argentina'),\n",
       " (2, 'Switzerland'),\n",
       " (2, 'Sweden'),\n",
       " (2, 'Portugal'),\n",
       " (2, 'Finland'),\n",
       " (2, 'Denmark'),\n",
       " (2, 'Belgium'),\n",
       " (2, 'Austria'),\n",
       " (1, 'Poland'),\n",
       " (1, 'Norway'),\n",
       " (1, 'Ireland')]"
      ]
     },
     "execution_count": 6,
     "metadata": {},
     "output_type": "execute_result"
    }
   ],
   "source": [
    "%sql SELECT COUNT(CustomerID) AS MUSTERI_SAYISI, Country FROM Customers GROUP BY Country ORDER BY MUSTERI_SAYISI DESC;\n"
   ]
  },
  {
   "cell_type": "code",
   "execution_count": 7,
   "id": "23bf57d9-233c-4f2e-8990-7544d9d0634c",
   "metadata": {},
   "outputs": [
    {
     "name": "stdout",
     "output_type": "stream",
     "text": [
      " * sqlite:///vbo.db\n",
      "Done.\n"
     ]
    }
   ],
   "source": [
    "df = %sql SELECT COUNT(CustomerID) AS MUSTERI_SAYISI, Country FROM Customers GROUP BY Country ORDER BY MUSTERI_SAYISI DESC;\n"
   ]
  },
  {
   "cell_type": "code",
   "execution_count": 8,
   "id": "b2cbe14e-65c9-4fd1-87de-9c08a1474ccb",
   "metadata": {},
   "outputs": [
    {
     "data": {
      "text/html": [
       "<table>\n",
       "    <tr>\n",
       "        <th>MUSTERI_SAYISI</th>\n",
       "        <th>Country</th>\n",
       "    </tr>\n",
       "    <tr>\n",
       "        <td>13</td>\n",
       "        <td>USA</td>\n",
       "    </tr>\n",
       "    <tr>\n",
       "        <td>11</td>\n",
       "        <td>Germany</td>\n",
       "    </tr>\n",
       "    <tr>\n",
       "        <td>11</td>\n",
       "        <td>France</td>\n",
       "    </tr>\n",
       "    <tr>\n",
       "        <td>9</td>\n",
       "        <td>Brazil</td>\n",
       "    </tr>\n",
       "    <tr>\n",
       "        <td>7</td>\n",
       "        <td>UK</td>\n",
       "    </tr>\n",
       "    <tr>\n",
       "        <td>5</td>\n",
       "        <td>Spain</td>\n",
       "    </tr>\n",
       "    <tr>\n",
       "        <td>5</td>\n",
       "        <td>Mexico</td>\n",
       "    </tr>\n",
       "    <tr>\n",
       "        <td>4</td>\n",
       "        <td>Venezuela</td>\n",
       "    </tr>\n",
       "    <tr>\n",
       "        <td>3</td>\n",
       "        <td>Italy</td>\n",
       "    </tr>\n",
       "    <tr>\n",
       "        <td>3</td>\n",
       "        <td>Canada</td>\n",
       "    </tr>\n",
       "    <tr>\n",
       "        <td>3</td>\n",
       "        <td>Argentina</td>\n",
       "    </tr>\n",
       "    <tr>\n",
       "        <td>2</td>\n",
       "        <td>Switzerland</td>\n",
       "    </tr>\n",
       "    <tr>\n",
       "        <td>2</td>\n",
       "        <td>Sweden</td>\n",
       "    </tr>\n",
       "    <tr>\n",
       "        <td>2</td>\n",
       "        <td>Portugal</td>\n",
       "    </tr>\n",
       "    <tr>\n",
       "        <td>2</td>\n",
       "        <td>Finland</td>\n",
       "    </tr>\n",
       "    <tr>\n",
       "        <td>2</td>\n",
       "        <td>Denmark</td>\n",
       "    </tr>\n",
       "    <tr>\n",
       "        <td>2</td>\n",
       "        <td>Belgium</td>\n",
       "    </tr>\n",
       "    <tr>\n",
       "        <td>2</td>\n",
       "        <td>Austria</td>\n",
       "    </tr>\n",
       "    <tr>\n",
       "        <td>1</td>\n",
       "        <td>Poland</td>\n",
       "    </tr>\n",
       "    <tr>\n",
       "        <td>1</td>\n",
       "        <td>Norway</td>\n",
       "    </tr>\n",
       "    <tr>\n",
       "        <td>1</td>\n",
       "        <td>Ireland</td>\n",
       "    </tr>\n",
       "</table>"
      ],
      "text/plain": [
       "[(13, 'USA'),\n",
       " (11, 'Germany'),\n",
       " (11, 'France'),\n",
       " (9, 'Brazil'),\n",
       " (7, 'UK'),\n",
       " (5, 'Spain'),\n",
       " (5, 'Mexico'),\n",
       " (4, 'Venezuela'),\n",
       " (3, 'Italy'),\n",
       " (3, 'Canada'),\n",
       " (3, 'Argentina'),\n",
       " (2, 'Switzerland'),\n",
       " (2, 'Sweden'),\n",
       " (2, 'Portugal'),\n",
       " (2, 'Finland'),\n",
       " (2, 'Denmark'),\n",
       " (2, 'Belgium'),\n",
       " (2, 'Austria'),\n",
       " (1, 'Poland'),\n",
       " (1, 'Norway'),\n",
       " (1, 'Ireland')]"
      ]
     },
     "execution_count": 8,
     "metadata": {},
     "output_type": "execute_result"
    }
   ],
   "source": [
    "df"
   ]
  },
  {
   "cell_type": "code",
   "execution_count": 9,
   "id": "4f30e283-e256-4e02-835b-d185500b89ae",
   "metadata": {},
   "outputs": [
    {
     "ename": "AttributeError",
     "evalue": "'ResultSet' object has no attribute 'head'",
     "output_type": "error",
     "traceback": [
      "\u001b[1;31m---------------------------------------------------------------------------\u001b[0m",
      "\u001b[1;31mAttributeError\u001b[0m                            Traceback (most recent call last)",
      "Input \u001b[1;32mIn [9]\u001b[0m, in \u001b[0;36m<cell line: 1>\u001b[1;34m()\u001b[0m\n\u001b[1;32m----> 1\u001b[0m \u001b[43mdf\u001b[49m\u001b[38;5;241;43m.\u001b[39;49m\u001b[43mhead\u001b[49m()\n",
      "\u001b[1;31mAttributeError\u001b[0m: 'ResultSet' object has no attribute 'head'"
     ]
    }
   ],
   "source": [
    "df.head()"
   ]
  },
  {
   "cell_type": "code",
   "execution_count": null,
   "id": "1bf5fc6c-0e1f-4094-a6ec-dab94a0d7b15",
   "metadata": {},
   "outputs": [],
   "source": [
    "type(df)"
   ]
  },
  {
   "cell_type": "code",
   "execution_count": null,
   "id": "065ce5e3-2abf-427b-8161-74c93216b13e",
   "metadata": {},
   "outputs": [],
   "source": [
    "dff = pd.DataFrame(df, columns = [\"MUS_SAY\",\"ULKE\"])"
   ]
  },
  {
   "cell_type": "code",
   "execution_count": null,
   "id": "df9a7fd9-b1aa-4f7b-a045-e118ab2d117d",
   "metadata": {},
   "outputs": [],
   "source": [
    "dff"
   ]
  },
  {
   "cell_type": "code",
   "execution_count": null,
   "id": "f0f91fd1-5f8b-4122-8e72-b38fca022a03",
   "metadata": {},
   "outputs": [],
   "source": [
    "dff.head()"
   ]
  },
  {
   "cell_type": "code",
   "execution_count": null,
   "id": "685c9e44-272a-45f2-8d47-b37beb912005",
   "metadata": {},
   "outputs": [],
   "source": [
    "dff.plot.barh(x = \"ULKE\", y = \"MUS_SAY\");"
   ]
  }
 ],
 "metadata": {
  "kernelspec": {
   "display_name": "Python 3 (ipykernel)",
   "language": "python",
   "name": "python3"
  },
  "language_info": {
   "codemirror_mode": {
    "name": "ipython",
    "version": 3
   },
   "file_extension": ".py",
   "mimetype": "text/x-python",
   "name": "python",
   "nbconvert_exporter": "python",
   "pygments_lexer": "ipython3",
   "version": "3.9.7"
  }
 },
 "nbformat": 4,
 "nbformat_minor": 5
}
