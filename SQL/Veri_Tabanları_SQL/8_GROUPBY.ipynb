{
 "cells": [
  {
   "cell_type": "code",
   "execution_count": 1,
   "id": "87c7b6b5-fec1-47a1-a4a6-0f6edb4a233a",
   "metadata": {},
   "outputs": [],
   "source": [
    "%load_ext sql"
   ]
  },
  {
   "cell_type": "code",
   "execution_count": 2,
   "id": "2fef4928-cc00-40f5-8a0e-fd9f002d5706",
   "metadata": {
    "tags": []
   },
   "outputs": [],
   "source": [
    "%sql sqlite:///vbo.db"
   ]
  },
  {
   "cell_type": "markdown",
   "id": "f54326c1-3b8e-409b-840b-e6839c65320d",
   "metadata": {},
   "source": [
    "# GROUP BY ve Aggregation Fonksiyonları"
   ]
  },
  {
   "cell_type": "code",
   "execution_count": 3,
   "id": "5abb45df-7fa1-415d-862b-9ca6a6c86f63",
   "metadata": {},
   "outputs": [
    {
     "name": "stdout",
     "output_type": "stream",
     "text": [
      " * sqlite:///vbo.db\n",
      "Done.\n"
     ]
    },
    {
     "data": {
      "text/html": [
       "<table>\n",
       "    <tr>\n",
       "        <th>CustomerID</th>\n",
       "        <th>CustomerName</th>\n",
       "        <th>ContactName</th>\n",
       "        <th>Address</th>\n",
       "        <th>City</th>\n",
       "        <th>PostalCode</th>\n",
       "        <th>Country</th>\n",
       "    </tr>\n",
       "    <tr>\n",
       "        <td>1</td>\n",
       "        <td>Alfreds Futterkiste</td>\n",
       "        <td>Maria Anders</td>\n",
       "        <td>Obere Str. 57</td>\n",
       "        <td>Berlin</td>\n",
       "        <td>12209</td>\n",
       "        <td>Germany</td>\n",
       "    </tr>\n",
       "    <tr>\n",
       "        <td>2</td>\n",
       "        <td>Ana Trujillo Emparedados y helados</td>\n",
       "        <td>Ana Trujillo</td>\n",
       "        <td>Avda. de la Constitución 2222</td>\n",
       "        <td>México D.F.</td>\n",
       "        <td>5021</td>\n",
       "        <td>Mexico</td>\n",
       "    </tr>\n",
       "    <tr>\n",
       "        <td>3</td>\n",
       "        <td>Antonio Moreno Taquería</td>\n",
       "        <td>Antonio Moreno</td>\n",
       "        <td>Mataderos 2312</td>\n",
       "        <td>México D.F.</td>\n",
       "        <td>5023</td>\n",
       "        <td>Mexico</td>\n",
       "    </tr>\n",
       "</table>"
      ],
      "text/plain": [
       "[(1, 'Alfreds Futterkiste', 'Maria Anders', 'Obere Str. 57', 'Berlin', '12209', 'Germany'),\n",
       " (2, 'Ana Trujillo Emparedados y helados', 'Ana Trujillo', 'Avda. de la Constitución 2222', 'México D.F.', '5021', 'Mexico'),\n",
       " (3, 'Antonio Moreno Taquería', 'Antonio Moreno', 'Mataderos 2312', 'México D.F.', '5023', 'Mexico')]"
      ]
     },
     "execution_count": 3,
     "metadata": {},
     "output_type": "execute_result"
    }
   ],
   "source": [
    "%%sql\n",
    "SELECT * FROM Customers LIMIT 3;"
   ]
  },
  {
   "cell_type": "code",
   "execution_count": 4,
   "id": "f28f583e-34de-43f0-ae0f-ce1a4e85e28e",
   "metadata": {},
   "outputs": [
    {
     "name": "stdout",
     "output_type": "stream",
     "text": [
      " * sqlite:///vbo.db\n",
      "Done.\n"
     ]
    },
    {
     "data": {
      "text/html": [
       "<table>\n",
       "    <tr>\n",
       "        <th>MUSTERI_SAYISI</th>\n",
       "        <th>Country</th>\n",
       "    </tr>\n",
       "    <tr>\n",
       "        <td>13</td>\n",
       "        <td>USA</td>\n",
       "    </tr>\n",
       "    <tr>\n",
       "        <td>11</td>\n",
       "        <td>Germany</td>\n",
       "    </tr>\n",
       "    <tr>\n",
       "        <td>11</td>\n",
       "        <td>France</td>\n",
       "    </tr>\n",
       "    <tr>\n",
       "        <td>9</td>\n",
       "        <td>Brazil</td>\n",
       "    </tr>\n",
       "    <tr>\n",
       "        <td>7</td>\n",
       "        <td>UK</td>\n",
       "    </tr>\n",
       "    <tr>\n",
       "        <td>5</td>\n",
       "        <td>Spain</td>\n",
       "    </tr>\n",
       "    <tr>\n",
       "        <td>5</td>\n",
       "        <td>Mexico</td>\n",
       "    </tr>\n",
       "    <tr>\n",
       "        <td>4</td>\n",
       "        <td>Venezuela</td>\n",
       "    </tr>\n",
       "    <tr>\n",
       "        <td>3</td>\n",
       "        <td>Italy</td>\n",
       "    </tr>\n",
       "    <tr>\n",
       "        <td>3</td>\n",
       "        <td>Canada</td>\n",
       "    </tr>\n",
       "    <tr>\n",
       "        <td>3</td>\n",
       "        <td>Argentina</td>\n",
       "    </tr>\n",
       "    <tr>\n",
       "        <td>2</td>\n",
       "        <td>Switzerland</td>\n",
       "    </tr>\n",
       "    <tr>\n",
       "        <td>2</td>\n",
       "        <td>Sweden</td>\n",
       "    </tr>\n",
       "    <tr>\n",
       "        <td>2</td>\n",
       "        <td>Portugal</td>\n",
       "    </tr>\n",
       "    <tr>\n",
       "        <td>2</td>\n",
       "        <td>Finland</td>\n",
       "    </tr>\n",
       "    <tr>\n",
       "        <td>2</td>\n",
       "        <td>Denmark</td>\n",
       "    </tr>\n",
       "    <tr>\n",
       "        <td>2</td>\n",
       "        <td>Belgium</td>\n",
       "    </tr>\n",
       "    <tr>\n",
       "        <td>2</td>\n",
       "        <td>Austria</td>\n",
       "    </tr>\n",
       "    <tr>\n",
       "        <td>1</td>\n",
       "        <td>Poland</td>\n",
       "    </tr>\n",
       "    <tr>\n",
       "        <td>1</td>\n",
       "        <td>Norway</td>\n",
       "    </tr>\n",
       "    <tr>\n",
       "        <td>1</td>\n",
       "        <td>Ireland</td>\n",
       "    </tr>\n",
       "</table>"
      ],
      "text/plain": [
       "[(13, 'USA'),\n",
       " (11, 'Germany'),\n",
       " (11, 'France'),\n",
       " (9, 'Brazil'),\n",
       " (7, 'UK'),\n",
       " (5, 'Spain'),\n",
       " (5, 'Mexico'),\n",
       " (4, 'Venezuela'),\n",
       " (3, 'Italy'),\n",
       " (3, 'Canada'),\n",
       " (3, 'Argentina'),\n",
       " (2, 'Switzerland'),\n",
       " (2, 'Sweden'),\n",
       " (2, 'Portugal'),\n",
       " (2, 'Finland'),\n",
       " (2, 'Denmark'),\n",
       " (2, 'Belgium'),\n",
       " (2, 'Austria'),\n",
       " (1, 'Poland'),\n",
       " (1, 'Norway'),\n",
       " (1, 'Ireland')]"
      ]
     },
     "execution_count": 4,
     "metadata": {},
     "output_type": "execute_result"
    }
   ],
   "source": [
    "%%sql\n",
    "SELECT COUNT(CustomerID) AS MUSTERI_SAYISI, Country FROM Customers GROUP BY Country ORDER BY MUSTERI_SAYISI DESC;"
   ]
  },
  {
   "cell_type": "code",
   "execution_count": 5,
   "id": "a9121b49-3c9e-4160-a56d-f157b5d69024",
   "metadata": {},
   "outputs": [
    {
     "name": "stdout",
     "output_type": "stream",
     "text": [
      " * sqlite:///vbo.db\n",
      "Done.\n"
     ]
    },
    {
     "data": {
      "text/html": [
       "<table>\n",
       "    <tr>\n",
       "        <th>ProductID</th>\n",
       "        <th>ProductName</th>\n",
       "        <th>SupplierID</th>\n",
       "        <th>CategoryID</th>\n",
       "        <th>Unit</th>\n",
       "        <th>Price</th>\n",
       "    </tr>\n",
       "    <tr>\n",
       "        <td>1</td>\n",
       "        <td>Chais</td>\n",
       "        <td>1</td>\n",
       "        <td>1</td>\n",
       "        <td>10 boxes x 20 bags</td>\n",
       "        <td>18</td>\n",
       "    </tr>\n",
       "    <tr>\n",
       "        <td>2</td>\n",
       "        <td>Chang</td>\n",
       "        <td>1</td>\n",
       "        <td>1</td>\n",
       "        <td>24 - 12 oz bottles</td>\n",
       "        <td>19</td>\n",
       "    </tr>\n",
       "</table>"
      ],
      "text/plain": [
       "[(1, 'Chais', 1, 1, '10 boxes x 20 bags', 18),\n",
       " (2, 'Chang', 1, 1, '24 - 12 oz bottles', 19)]"
      ]
     },
     "execution_count": 5,
     "metadata": {},
     "output_type": "execute_result"
    }
   ],
   "source": [
    "%%sql \n",
    "SELECT * FROM Products LIMIT 2;"
   ]
  },
  {
   "cell_type": "code",
   "execution_count": 6,
   "id": "7e2fdaf1-7003-4e2b-b667-aa1921a9a68c",
   "metadata": {},
   "outputs": [
    {
     "name": "stdout",
     "output_type": "stream",
     "text": [
      " * sqlite:///vbo.db\n",
      "Done.\n"
     ]
    },
    {
     "data": {
      "text/html": [
       "<table>\n",
       "    <tr>\n",
       "        <th>ORT_FIYAT</th>\n",
       "        <th>CategoryID</th>\n",
       "    </tr>\n",
       "    <tr>\n",
       "        <td>42.75</td>\n",
       "        <td>1</td>\n",
       "    </tr>\n",
       "    <tr>\n",
       "        <td>28.25</td>\n",
       "        <td>2</td>\n",
       "    </tr>\n",
       "    <tr>\n",
       "        <td>33.76923076923077</td>\n",
       "        <td>3</td>\n",
       "    </tr>\n",
       "    <tr>\n",
       "        <td>74.9</td>\n",
       "        <td>4</td>\n",
       "    </tr>\n",
       "    <tr>\n",
       "        <td>23.571428571428573</td>\n",
       "        <td>5</td>\n",
       "    </tr>\n",
       "    <tr>\n",
       "        <td>55.166666666666664</td>\n",
       "        <td>6</td>\n",
       "    </tr>\n",
       "    <tr>\n",
       "        <td>32.2</td>\n",
       "        <td>7</td>\n",
       "    </tr>\n",
       "    <tr>\n",
       "        <td>26.5</td>\n",
       "        <td>8</td>\n",
       "    </tr>\n",
       "</table>"
      ],
      "text/plain": [
       "[(42.75, 1),\n",
       " (28.25, 2),\n",
       " (33.76923076923077, 3),\n",
       " (74.9, 4),\n",
       " (23.571428571428573, 5),\n",
       " (55.166666666666664, 6),\n",
       " (32.2, 7),\n",
       " (26.5, 8)]"
      ]
     },
     "execution_count": 6,
     "metadata": {},
     "output_type": "execute_result"
    }
   ],
   "source": [
    "%%sql\n",
    "SELECT AVG(Price) AS ORT_FIYAT, CategoryID FROM Products GROUP BY CategoryID;"
   ]
  }
 ],
 "metadata": {
  "kernelspec": {
   "display_name": "Python 3 (ipykernel)",
   "language": "python",
   "name": "python3"
  },
  "language_info": {
   "codemirror_mode": {
    "name": "ipython",
    "version": 3
   },
   "file_extension": ".py",
   "mimetype": "text/x-python",
   "name": "python",
   "nbconvert_exporter": "python",
   "pygments_lexer": "ipython3",
   "version": "3.9.7"
  }
 },
 "nbformat": 4,
 "nbformat_minor": 5
}
