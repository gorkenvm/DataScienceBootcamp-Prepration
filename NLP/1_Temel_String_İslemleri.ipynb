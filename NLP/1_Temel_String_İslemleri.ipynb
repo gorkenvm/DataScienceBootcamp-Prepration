{
 "cells": [
  {
   "cell_type": "markdown",
   "id": "5c71c404-2ad8-4d83-8fb4-71394dcc0ab2",
   "metadata": {},
   "source": [
    "# Temel String İşlemleri"
   ]
  },
  {
   "cell_type": "markdown",
   "id": "46a60cd8-b2dd-4170-a036-8e55fad63ff0",
   "metadata": {},
   "source": [
    "## Oluşturma Biçimlendirme"
   ]
  },
  {
   "cell_type": "code",
   "execution_count": null,
   "id": "395388a9-f23f-436b-a1cf-95f77d454cbc",
   "metadata": {},
   "outputs": [],
   "source": [
    "isim = \"mvk\""
   ]
  },
  {
   "cell_type": "code",
   "execution_count": null,
   "id": "3ee3602a-11ae-492d-8734-d10c82fda604",
   "metadata": {},
   "outputs": [],
   "source": [
    "3 * isim "
   ]
  },
  {
   "cell_type": "code",
   "execution_count": null,
   "id": "c1775d32-232c-46c2-9801-fc0f98ec79e5",
   "metadata": {},
   "outputs": [],
   "source": [
    "\"mvk\" + \"ali\""
   ]
  },
  {
   "cell_type": "code",
   "execution_count": null,
   "id": "74810136-b6f7-4604-8067-134d2ae8c04a",
   "metadata": {},
   "outputs": [],
   "source": [
    "\"K\" + isim[1:]"
   ]
  },
  {
   "cell_type": "code",
   "execution_count": null,
   "id": "c4bf89b3-dc48-4664-a3fb-acdbb68cb67e",
   "metadata": {},
   "outputs": [],
   "source": [
    "isimler =  [\"ali\",\"veli\",\"ayse\"]"
   ]
  },
  {
   "cell_type": "code",
   "execution_count": null,
   "id": "7e147826-cf7a-4fcf-aae0-e9647114f494",
   "metadata": {},
   "outputs": [],
   "source": [
    "for i in isimler:\n",
    "    print(\"İsim:\",i, sep = \"\")\n",
    "    "
   ]
  },
  {
   "cell_type": "code",
   "execution_count": null,
   "id": "80afc3f0-1790-4159-917f-c34eaf9a5f2a",
   "metadata": {},
   "outputs": [],
   "source": [
    "for i in isimler:\n",
    "    print(\"_\", i[0:], sep = \"\")"
   ]
  },
  {
   "cell_type": "code",
   "execution_count": null,
   "id": "929884d6-2b58-4001-bd93-b1da49685f4c",
   "metadata": {},
   "outputs": [],
   "source": [
    "print(*enumerate(isimler))"
   ]
  },
  {
   "cell_type": "code",
   "execution_count": null,
   "id": "efe41794-5f11-4433-bf1d-d783d432c7ab",
   "metadata": {},
   "outputs": [],
   "source": [
    "for i in enumerate(isimler):\n",
    "    print(i)"
   ]
  },
  {
   "cell_type": "code",
   "execution_count": null,
   "id": "f6250449-41f0-49f9-ae04-2260672ce792",
   "metadata": {},
   "outputs": [],
   "source": [
    "for i in enumerate(\"isimler\"):\n",
    "    print(i)"
   ]
  },
  {
   "cell_type": "code",
   "execution_count": null,
   "id": "7787d0b6-3354-486f-9d8c-332f57fb6069",
   "metadata": {},
   "outputs": [],
   "source": [
    "for i in enumerate(isimler,4):\n",
    "    print(i)"
   ]
  },
  {
   "cell_type": "markdown",
   "id": "693ca648-62b8-4e29-bdb9-ac508a8a8d94",
   "metadata": {},
   "source": [
    "## Dizi İçi Tip Sorgulamaları "
   ]
  },
  {
   "cell_type": "code",
   "execution_count": null,
   "id": "bb63d427-c5d6-46d9-b377-e2ea06a8ff0a",
   "metadata": {},
   "outputs": [],
   "source": [
    "\"mvk\".isalpha()"
   ]
  },
  {
   "cell_type": "code",
   "execution_count": null,
   "id": "135de9a9-eeaa-4379-9373-604426e97103",
   "metadata": {},
   "outputs": [],
   "source": [
    "\"mvk30\".isalpha()"
   ]
  },
  {
   "cell_type": "code",
   "execution_count": null,
   "id": "cd105353-742e-4350-9f1d-b2633fa4eda5",
   "metadata": {},
   "outputs": [],
   "source": [
    "\"123\".isnumeric()"
   ]
  },
  {
   "cell_type": "code",
   "execution_count": null,
   "id": "41601878-05d6-4523-8872-ad072107ce97",
   "metadata": {},
   "outputs": [],
   "source": [
    "\"123\".isdigit()"
   ]
  },
  {
   "cell_type": "code",
   "execution_count": null,
   "id": "52c67b85-5c13-4d5a-8564-421d46f5f21e",
   "metadata": {},
   "outputs": [],
   "source": [
    "\"mvk30\".isalnum()"
   ]
  },
  {
   "cell_type": "markdown",
   "id": "107eb04c-bf9a-4979-bc41-2a8bdd683d2d",
   "metadata": {},
   "source": [
    "## Elemanlarına ve Eleman Indexlerine Erişmek"
   ]
  },
  {
   "cell_type": "code",
   "execution_count": null,
   "id": "4602aff9-a1f7-4e7d-824a-656e7b7b0af9",
   "metadata": {},
   "outputs": [],
   "source": [
    "isim = \"mustafavahitkeskin\""
   ]
  },
  {
   "cell_type": "code",
   "execution_count": null,
   "id": "aefc2083-b28d-4ad6-8944-7168aa9552d9",
   "metadata": {},
   "outputs": [],
   "source": [
    "isim"
   ]
  },
  {
   "cell_type": "code",
   "execution_count": null,
   "id": "9d5c25e2-cd5f-463a-9d7b-27266a097099",
   "metadata": {},
   "outputs": [],
   "source": [
    "isim[0:2]"
   ]
  },
  {
   "cell_type": "code",
   "execution_count": null,
   "id": "0c4a6b16-b47a-410e-acd1-9ad44ecb7a51",
   "metadata": {},
   "outputs": [],
   "source": [
    "isim.index(\"n\")"
   ]
  },
  {
   "cell_type": "code",
   "execution_count": null,
   "id": "eff08f91-d33b-4822-bd48-7b239962961e",
   "metadata": {},
   "outputs": [],
   "source": [
    "isim.index(\"a\")"
   ]
  },
  {
   "cell_type": "code",
   "execution_count": null,
   "id": "187a7aeb-2d59-4b5a-ada4-418f81b6501e",
   "metadata": {},
   "outputs": [],
   "source": [
    "isim.index(\"a\",5)"
   ]
  },
  {
   "cell_type": "markdown",
   "id": "41af9e04-af70-47d1-9bdd-a8ed39de2d36",
   "metadata": {},
   "source": [
    "## Başlangıç ve Bitiş Karakterlerini Sorgulamak: startswith() & endswith()"
   ]
  },
  {
   "cell_type": "code",
   "execution_count": null,
   "id": "b040b625-34e1-44cf-b1f6-ba822ddda75b",
   "metadata": {},
   "outputs": [],
   "source": [
    "isim = \"Mustafa Vahit Keskin\""
   ]
  },
  {
   "cell_type": "code",
   "execution_count": null,
   "id": "94765380-1955-4b32-9fac-21690141185a",
   "metadata": {},
   "outputs": [],
   "source": [
    "isim.startswith(\"a\")\n",
    "isim.startswith(\"m\")\n",
    "isim.startswith(\"M\")\n",
    "isim.endswith(\"n\")"
   ]
  },
  {
   "cell_type": "code",
   "execution_count": null,
   "id": "4cb42bfd-f4de-4413-a451-1fd8c8c6f1d0",
   "metadata": {},
   "outputs": [],
   "source": [
    "#count"
   ]
  },
  {
   "cell_type": "code",
   "execution_count": null,
   "id": "13d3c07f-6e29-4ffb-b055-40b70fbf3105",
   "metadata": {},
   "outputs": [],
   "source": [
    "isim.count(\"a\")"
   ]
  },
  {
   "cell_type": "code",
   "execution_count": null,
   "id": "990fb360-22f8-4d50-8b62-b197d10c2939",
   "metadata": {},
   "outputs": [],
   "source": [
    "#sorted"
   ]
  },
  {
   "cell_type": "code",
   "execution_count": null,
   "id": "da75a0f2-ec65-4204-a9dc-9e5ac059cbbf",
   "metadata": {},
   "outputs": [],
   "source": [
    "sorted(\"defter\")"
   ]
  },
  {
   "cell_type": "code",
   "execution_count": null,
   "id": "f275da2d-69a9-4c78-b7b6-cab2de3310a2",
   "metadata": {},
   "outputs": [],
   "source": [
    "print(*sorted(\"defter\"), sep = \"\")"
   ]
  },
  {
   "cell_type": "markdown",
   "id": "d33798dc-3f10-446d-94aa-d3b8f12af256",
   "metadata": {},
   "source": [
    "## Karakterleri Bölmek"
   ]
  },
  {
   "cell_type": "code",
   "execution_count": null,
   "id": "ebd4dbff-3db5-4a9c-a27d-986e5bd3ebcf",
   "metadata": {},
   "outputs": [],
   "source": [
    "isim = \"Mustafa Vahit Keskin\""
   ]
  },
  {
   "cell_type": "code",
   "execution_count": null,
   "id": "df13d74b-f3b5-4212-8aaa-eb46186c4907",
   "metadata": {},
   "outputs": [],
   "source": [
    "isim.split()"
   ]
  },
  {
   "cell_type": "code",
   "execution_count": null,
   "id": "cdcae3bd-8450-4b22-96a9-6fe907a956a7",
   "metadata": {},
   "outputs": [],
   "source": [
    "isim.split(\",\")"
   ]
  },
  {
   "cell_type": "code",
   "execution_count": null,
   "id": "3ae5708a-54be-41cd-b424-46a6af46b346",
   "metadata": {},
   "outputs": [],
   "source": [
    "isim = \"Mustafa_Vahit_Keskin\""
   ]
  },
  {
   "cell_type": "code",
   "execution_count": null,
   "id": "eeb629fa-97d1-421a-8b5b-db95d02896e4",
   "metadata": {},
   "outputs": [],
   "source": [
    "isim.split(\"_\")"
   ]
  },
  {
   "cell_type": "markdown",
   "id": "6d49c2cc-3cc4-42c9-a2d0-02dd45c3da02",
   "metadata": {},
   "source": [
    "## Büyük Küçük Harf İşlemleri"
   ]
  },
  {
   "cell_type": "code",
   "execution_count": null,
   "id": "99da1f86-8c2a-4945-9206-355a67873ed5",
   "metadata": {},
   "outputs": [],
   "source": [
    "isim = \"Mustafa Vahit Keskin\""
   ]
  },
  {
   "cell_type": "code",
   "execution_count": null,
   "id": "73be3f6e-6844-4776-a872-1c6dfd95ba7c",
   "metadata": {},
   "outputs": [],
   "source": [
    "isim.upper()"
   ]
  },
  {
   "cell_type": "code",
   "execution_count": null,
   "id": "cb1c2f4e-68f8-4203-8c73-3672a3c764ac",
   "metadata": {},
   "outputs": [],
   "source": [
    "isim.lower()"
   ]
  },
  {
   "cell_type": "code",
   "execution_count": null,
   "id": "14d13a54-d10f-41ff-8bc6-b2bf27ce7587",
   "metadata": {},
   "outputs": [],
   "source": [
    "isim.upper().lower()"
   ]
  },
  {
   "cell_type": "code",
   "execution_count": null,
   "id": "c48ee94c-233a-4af6-80f3-f165f7777f8d",
   "metadata": {},
   "outputs": [],
   "source": [
    "isim_b = isim.upper()"
   ]
  },
  {
   "cell_type": "code",
   "execution_count": null,
   "id": "ec2bca18-e59d-4d14-b851-7a7e32cb8b22",
   "metadata": {},
   "outputs": [],
   "source": [
    "isim_b.islower()"
   ]
  },
  {
   "cell_type": "code",
   "execution_count": null,
   "id": "726149b4-ce90-4c94-a6c6-8d81a8846fd2",
   "metadata": {},
   "outputs": [],
   "source": [
    "isim_b.isupper()"
   ]
  },
  {
   "cell_type": "markdown",
   "id": "7eff1d82-c3b3-4e0a-bc4e-43a5015631cc",
   "metadata": {},
   "source": [
    "## capitalize() & title() & swapcase()"
   ]
  },
  {
   "cell_type": "code",
   "execution_count": null,
   "id": "ba958483-62c4-42b3-945f-42ab8cb0cd4c",
   "metadata": {},
   "outputs": [],
   "source": [
    "isim = \"mustafa vahit keskin\""
   ]
  },
  {
   "cell_type": "code",
   "execution_count": null,
   "id": "20f94d7c-38cc-4cb8-afe1-87bc830fa812",
   "metadata": {},
   "outputs": [],
   "source": [
    "isim.capitalize()"
   ]
  },
  {
   "cell_type": "code",
   "execution_count": null,
   "id": "12ce3bd7-3e8f-414c-8b50-8a47718bc0c6",
   "metadata": {},
   "outputs": [],
   "source": [
    "isim.title()"
   ]
  },
  {
   "cell_type": "code",
   "execution_count": null,
   "id": "3a5c48dc-9245-4b26-a536-c10ebf5316c2",
   "metadata": {},
   "outputs": [],
   "source": [
    "isim.swapcase()"
   ]
  },
  {
   "cell_type": "code",
   "execution_count": null,
   "id": "1075d34a-bf55-47e1-9d95-e5d09d1376b8",
   "metadata": {},
   "outputs": [],
   "source": [
    "isim = \"MUSTAFA vahit KESKIN\""
   ]
  },
  {
   "cell_type": "code",
   "execution_count": null,
   "id": "b1117861-1a9f-406a-821c-49ecf1c04419",
   "metadata": {},
   "outputs": [],
   "source": [
    "isim.swapcase()"
   ]
  },
  {
   "cell_type": "markdown",
   "id": "1b12eac9-e99e-45e9-8b10-1c17e9e892d8",
   "metadata": {},
   "source": [
    "## İstenmeyen Karakterleri Kırpmak: strip(), lstrip(), rsting()"
   ]
  },
  {
   "cell_type": "code",
   "execution_count": null,
   "id": "0ecaeaa7-b26b-4ccf-b49b-32bcc30ce0b4",
   "metadata": {},
   "outputs": [],
   "source": [
    "isim = \" hello \""
   ]
  },
  {
   "cell_type": "code",
   "execution_count": null,
   "id": "3f6ae668-46f8-4bb9-8407-ebbb5944bdbf",
   "metadata": {},
   "outputs": [],
   "source": [
    "isim.strip()"
   ]
  },
  {
   "cell_type": "code",
   "execution_count": null,
   "id": "e9bcb3ec-b063-485b-9501-21bc80a88a77",
   "metadata": {},
   "outputs": [],
   "source": [
    "isim = \"*hello*\""
   ]
  },
  {
   "cell_type": "code",
   "execution_count": null,
   "id": "32a83d3b-040a-403e-850a-91a572bfd727",
   "metadata": {},
   "outputs": [],
   "source": [
    "isim.strip(\"*\")"
   ]
  },
  {
   "cell_type": "code",
   "execution_count": null,
   "id": "ab2d1a7a-6891-4fe0-b3eb-dece12b35973",
   "metadata": {},
   "outputs": [],
   "source": [
    "isim = \"lhellol\""
   ]
  },
  {
   "cell_type": "code",
   "execution_count": null,
   "id": "82cc7b74-d266-418c-a67f-999d14f7b101",
   "metadata": {},
   "outputs": [],
   "source": [
    "isim.strip(\"l\")"
   ]
  },
  {
   "cell_type": "code",
   "execution_count": null,
   "id": "afb49944-26b3-4baa-9fd8-8dd49cea8548",
   "metadata": {},
   "outputs": [],
   "source": [
    "isim = \"*hello*\""
   ]
  },
  {
   "cell_type": "code",
   "execution_count": null,
   "id": "0dbe41eb-bca0-4420-a6ed-81f1af5fa623",
   "metadata": {},
   "outputs": [],
   "source": [
    "isim.rstrip(\"*\")"
   ]
  },
  {
   "cell_type": "code",
   "execution_count": null,
   "id": "ae85a39c-c466-4195-98ad-36ce4df761f5",
   "metadata": {},
   "outputs": [],
   "source": [
    "isim.lstrip(\"*\")"
   ]
  },
  {
   "cell_type": "markdown",
   "id": "e3c50526-2e46-4c63-856d-98b00c5bff67",
   "metadata": {},
   "source": [
    "## join: bölünmüş ya da zaten bölük olan ifadelerin birleştirilmesi"
   ]
  },
  {
   "cell_type": "code",
   "execution_count": null,
   "id": "98c18a6a-102a-42bc-be1f-54e06302f784",
   "metadata": {},
   "outputs": [],
   "source": [
    "isim = \"Mustafa Vahit Keskin\""
   ]
  },
  {
   "cell_type": "code",
   "execution_count": null,
   "id": "4385dc7f-3a66-4a7b-894e-e2f25824d2fd",
   "metadata": {},
   "outputs": [],
   "source": [
    "ayrik = isim.split()"
   ]
  },
  {
   "cell_type": "code",
   "execution_count": null,
   "id": "08f6941d-fce8-4454-b6b5-c609e3d92c6a",
   "metadata": {},
   "outputs": [],
   "source": [
    "ayrik"
   ]
  },
  {
   "cell_type": "code",
   "execution_count": null,
   "id": "6dcbeae9-99be-410a-b804-063c88c77d4c",
   "metadata": {},
   "outputs": [],
   "source": [
    "joiner = \" \""
   ]
  },
  {
   "cell_type": "code",
   "execution_count": null,
   "id": "fcde64de-5d4e-4862-a1cb-8cf438eb5288",
   "metadata": {},
   "outputs": [],
   "source": [
    "joiner.join(ayrik)"
   ]
  },
  {
   "cell_type": "code",
   "execution_count": null,
   "id": "4976a012-8466-44a8-9911-f8dd10c2de06",
   "metadata": {},
   "outputs": [],
   "source": [
    "joiner = \"*****\""
   ]
  },
  {
   "cell_type": "code",
   "execution_count": null,
   "id": "96ced759-dcce-4ca6-bdc0-5e8142b26fb7",
   "metadata": {},
   "outputs": [],
   "source": [
    "joiner.join(ayrik)"
   ]
  },
  {
   "cell_type": "markdown",
   "id": "b3b592d0-7819-4e67-9009-0b99b2d7360c",
   "metadata": {},
   "source": [
    "## Eleman Değiştirme: replace(), str.maketrans(), translate()"
   ]
  },
  {
   "cell_type": "code",
   "execution_count": null,
   "id": "18e0d24b-ed1c-47b4-b050-4b1f09d53149",
   "metadata": {},
   "outputs": [],
   "source": [
    "isim"
   ]
  },
  {
   "cell_type": "code",
   "execution_count": null,
   "id": "f6b0d76c-45b0-4cdf-a098-abb212b579b5",
   "metadata": {},
   "outputs": [],
   "source": [
    "isim.replace(\"V\",\"c\")"
   ]
  },
  {
   "cell_type": "code",
   "execution_count": null,
   "id": "c79424dc-e2e4-4321-b41a-25c49bd593a1",
   "metadata": {},
   "outputs": [],
   "source": [
    "isim.replace(\"ca\",\"Va\")"
   ]
  },
  {
   "cell_type": "code",
   "execution_count": null,
   "id": "5c8e391e-610c-4a28-b33c-4739ef752ad6",
   "metadata": {},
   "outputs": [],
   "source": []
  },
  {
   "cell_type": "code",
   "execution_count": null,
   "id": "5c5fb0c5-b06f-44e3-8183-464dd2b8127f",
   "metadata": {},
   "outputs": [],
   "source": [
    "ifade = \"Bu ifade İçerisinde bağzı TÜrkçe karakterler vardır\""
   ]
  },
  {
   "cell_type": "code",
   "execution_count": null,
   "id": "73fddfef-4766-423a-b4ee-b18a43cb7071",
   "metadata": {},
   "outputs": [],
   "source": [
    "duzeltilecek_harfler = \"çÇğĞıİöÖşŞüÜ\"\n",
    "duzeltilmis_harfler = \"cCgGiIoOsSuU\""
   ]
  },
  {
   "cell_type": "code",
   "execution_count": null,
   "id": "f86bb6b0-ec34-4349-a012-c41ab4d58ba4",
   "metadata": {},
   "outputs": [],
   "source": [
    "alfabe_duzeltme = str.maketrans(duzeltilecek_harfler, duzeltilmis_harfler)"
   ]
  },
  {
   "cell_type": "code",
   "execution_count": null,
   "id": "f6b2639a-2bb4-4575-a4f4-4093b0f4ebf9",
   "metadata": {},
   "outputs": [],
   "source": [
    "ifade.translate(alfabe_duzeltme)"
   ]
  },
  {
   "cell_type": "markdown",
   "id": "fb5ee079-f524-4e56-b7cc-ee12ab8723dc",
   "metadata": {},
   "source": [
    "## contains"
   ]
  },
  {
   "cell_type": "code",
   "execution_count": null,
   "id": "fa47f855-840c-4b27-8059-6b14dcccfeb5",
   "metadata": {},
   "outputs": [],
   "source": [
    "import pandas as pd\n",
    "isimler = [\"ayse\",\"Ayşe\",\"ali\",\"aali\",\"Ali\",\"veli\",\"mehmet\",\"berkcan\"]\n",
    "v = pd.Series(isimler)"
   ]
  },
  {
   "cell_type": "code",
   "execution_count": null,
   "id": "f92d7e3d-0833-4f27-a313-03c68f2a2bd4",
   "metadata": {},
   "outputs": [],
   "source": [
    "v"
   ]
  },
  {
   "cell_type": "code",
   "execution_count": null,
   "id": "1ac86e88-ce11-40d9-8999-c93ab156a3c5",
   "metadata": {},
   "outputs": [],
   "source": [
    "v.str.contains(\"al\")"
   ]
  },
  {
   "cell_type": "code",
   "execution_count": null,
   "id": "027aa635-53db-4574-9693-4d6abdf7b991",
   "metadata": {},
   "outputs": [],
   "source": [
    "v[v.str.contains(\"al\")]"
   ]
  },
  {
   "cell_type": "code",
   "execution_count": null,
   "id": "cfdeb8a5-ce9e-408e-8c8b-2e05a5093e4c",
   "metadata": {},
   "outputs": [],
   "source": [
    "v.str.contains(\"al\").sum()"
   ]
  },
  {
   "cell_type": "code",
   "execution_count": null,
   "id": "c30e513b-960e-44a9-8052-5ca8add47b56",
   "metadata": {},
   "outputs": [],
   "source": [
    "v.str.contains(\"[aA]li\").sum()"
   ]
  }
 ],
 "metadata": {
  "kernelspec": {
   "display_name": "Python 3 (ipykernel)",
   "language": "python",
   "name": "python3"
  },
  "language_info": {
   "codemirror_mode": {
    "name": "ipython",
    "version": 3
   },
   "file_extension": ".py",
   "mimetype": "text/x-python",
   "name": "python",
   "nbconvert_exporter": "python",
   "pygments_lexer": "ipython3",
   "version": "3.9.7"
  }
 },
 "nbformat": 4,
 "nbformat_minor": 5
}
